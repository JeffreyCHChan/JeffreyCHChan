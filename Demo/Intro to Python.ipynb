{
 "cells": [
  {
   "cell_type": "markdown",
   "metadata": {},
   "source": [
    "<h1>Data Types</h1>\n"
   ]
  },
  {
   "cell_type": "code",
   "execution_count": 5,
   "metadata": {},
   "outputs": [
    {
     "name": "stdout",
     "output_type": "stream",
     "text": [
      "True and True: True\n",
      "True and False: False\n",
      "True or True: True\n",
      "True or False: True\n",
      "not True: False\n",
      "not False: True\n",
      "division / 0.3333333333333333\n",
      "floor division // 0\n",
      "remainder % 1\n",
      "float() 3.0\n",
      "3\n",
      "Before change: Hi\n",
      "After change: pi\n"
     ]
    }
   ],
   "source": [
    "# boolean\n",
    "True\n",
    "False\n",
    "print(f\"True and True: {True and True}\")\n",
    "print(f\"True and False: {True and False}\")\n",
    "print(f\"True or True: {True or True}\")\n",
    "print(f\"True or False: {True or False}\")\n",
    "print(f\"not True: {not True}\")\n",
    "print(f\"not False: {not False}\")\n",
    "\n",
    "\n",
    "# numeric\n",
    "x = 1\n",
    "y = 3\n",
    "\n",
    "print(f\"division / {x/y}\")\n",
    "print(f\"floor division // {x//y}\")\n",
    "print(f\"remainder % {x%y}\")\n",
    "print(f\"float() {float(y)}\")\n",
    "\n",
    "w = 3.5\n",
    "z = 2.5\n",
    "\n",
    "print(int(w))\n",
    "\n",
    "# strings\n",
    "# string = 'Hi'\n",
    "# string[0] = \"p\"\n",
    "\n",
    "\n",
    "string = 'Hi'\n",
    "print(f\"Before change: {string}\")\n",
    "string = \"p\"+ string[1:] # note that you can access the value of a string subset using square brackets\n",
    "print(f\"After change: {string}\")"
   ]
  },
  {
   "cell_type": "markdown",
   "metadata": {},
   "source": [
    "<h1>Collections"
   ]
  },
  {
   "cell_type": "code",
   "execution_count": 6,
   "metadata": {},
   "outputs": [
    {
     "name": "stdout",
     "output_type": "stream",
     "text": [
      "{1: 'a', 2: 'b', 3: 'c'}\n",
      "[1, 2, 3]\n",
      "{1, 2, 3}\n",
      "{1, 3, 5, 7, 9}\n"
     ]
    }
   ],
   "source": [
    "dictionary = {1:\"a\",2:\"b\",3:\"c\"}\n",
    "print(f\"{dictionary}\")\n",
    "array = [1,2,3]\n",
    "print(f\"{array}\")\n",
    "sets = set([1,2,3,3])\n",
    "print(f\"{sets}\")\n",
    "odds: set = {1, 3, 5, 7 , 9,9}\n",
    "print(f\"{odds}\")"
   ]
  },
  {
   "cell_type": "markdown",
   "metadata": {},
   "source": [
    "<h1>Functions & Classes"
   ]
  },
  {
   "cell_type": "code",
   "execution_count": 7,
   "metadata": {},
   "outputs": [
    {
     "ename": "NameError",
     "evalue": "name 'presetValue' is not defined",
     "output_type": "error",
     "traceback": [
      "\u001b[1;31m---------------------------------------------------------------------------\u001b[0m",
      "\u001b[1;31mNameError\u001b[0m                                 Traceback (most recent call last)",
      "Cell \u001b[1;32mIn[7], line 1\u001b[0m\n\u001b[1;32m----> 1\u001b[0m \u001b[39mdef\u001b[39;00m \u001b[39mfunctionName\u001b[39m(parameter, default_paramter\u001b[39m=\u001b[39mpresetValue):\n\u001b[0;32m      2\u001b[0m     \u001b[39m# code block\u001b[39;00m\n\u001b[0;32m      3\u001b[0m     \u001b[39mreturn\u001b[39;00m parameter\n\u001b[0;32m      5\u001b[0m \u001b[39m#Note that parameters do not need to be defined and this is also valid\u001b[39;00m\n",
      "\u001b[1;31mNameError\u001b[0m: name 'presetValue' is not defined"
     ]
    }
   ],
   "source": [
    "def functionName(parameter, default_paramter=presetValue):\n",
    "    # code block\n",
    "    return parameter\n",
    "\n",
    "#Note that parameters do not need to be defined and this is also valid\n",
    "def functionName():\n",
    "# code block\n",
    "    pass #The pass statement does nothing\n",
    "\n",
    "class Test:\n",
    "    def __init__(self, x) -> None: # constructor\n",
    "            self.x = x # can anyone tell me how the x is used here?\n",
    "    def functionName(parameter, default_paramter=presetValue):\n",
    "    # code block\n",
    "        return parameter\n"
   ]
  },
  {
   "cell_type": "markdown",
   "metadata": {},
   "source": [
    "<h1>Control Flow"
   ]
  },
  {
   "cell_type": "code",
   "execution_count": null,
   "metadata": {},
   "outputs": [
    {
     "name": "stdout",
     "output_type": "stream",
     "text": [
      "Single\n",
      "range()\n",
      "0\n",
      "1\n",
      "2\n",
      "3\n",
      "4\n",
      "continue and break\n",
      "2 is a prime number\n",
      "3 is a prime number\n",
      "4 equals 2 * 2\n",
      "5 is a prime number\n",
      "6 equals 2 * 3\n",
      "7 is a prime number\n",
      "8 equals 2 * 4\n",
      "9 equals 3 * 3\n",
      "switch/match cases\n",
      "Something's wrong with the internet\n"
     ]
    }
   ],
   "source": [
    "x = 1\n",
    "\n",
    "if x < 0:\n",
    "    x = 0\n",
    "    print('Negative changed to zero')\n",
    "elif x == 0:\n",
    "    print('Zero')\n",
    "elif x == 1:\n",
    "    print('Single')\n",
    "else:\n",
    "    print('More')\n",
    "\n",
    "print(\"range()\")\n",
    "for i in range(5):\n",
    "    print(i)\n",
    "\n",
    "print(\"continue and break\")\n",
    "for n in range(2, 10):\n",
    "    for x in range(2, n):\n",
    "        if n % x == 0:\n",
    "            print(n, 'equals', x, '*', n//x)\n",
    "            break\n",
    "    else:\n",
    "        # loop fell through without finding a factor\n",
    "        print(n, 'is a prime number')\n",
    "        continue\n",
    "\n",
    "print(\"switch/match cases\")\n",
    "\n",
    "status = 402\n",
    "match status:\n",
    "    case 400:\n",
    "        print(\"Bad request\")\n",
    "    case 401 | 403 | 404:\n",
    "        print( \"Not allowed\")\n",
    "    case 418:\n",
    "        print( \"I'm a teapot\")\n",
    "    case _:\n",
    "        print( \"Something's wrong with the internet\")"
   ]
  },
  {
   "cell_type": "markdown",
   "metadata": {},
   "source": [
    "<h1>Useful tips"
   ]
  },
  {
   "cell_type": "code",
   "execution_count": null,
   "metadata": {},
   "outputs": [
    {
     "name": "stdout",
     "output_type": "stream",
     "text": [
      "Requirement already satisfied: matplotlib in c:\\users\\chanj\\appdata\\local\\packages\\pythonsoftwarefoundation.python.3.10_qbz5n2kfra8p0\\localcache\\local-packages\\python310\\site-packages (3.5.3)\n",
      "Requirement already satisfied: cycler>=0.10 in c:\\users\\chanj\\appdata\\local\\packages\\pythonsoftwarefoundation.python.3.10_qbz5n2kfra8p0\\localcache\\local-packages\\python310\\site-packages (from matplotlib) (0.11.0)\n",
      "Requirement already satisfied: fonttools>=4.22.0 in c:\\users\\chanj\\appdata\\local\\packages\\pythonsoftwarefoundation.python.3.10_qbz5n2kfra8p0\\localcache\\local-packages\\python310\\site-packages (from matplotlib) (4.39.2)\n",
      "Requirement already satisfied: kiwisolver>=1.0.1 in c:\\users\\chanj\\appdata\\local\\packages\\pythonsoftwarefoundation.python.3.10_qbz5n2kfra8p0\\localcache\\local-packages\\python310\\site-packages (from matplotlib) (1.4.4)\n",
      "Requirement already satisfied: numpy>=1.17 in c:\\users\\chanj\\appdata\\local\\packages\\pythonsoftwarefoundation.python.3.10_qbz5n2kfra8p0\\localcache\\local-packages\\python310\\site-packages (from matplotlib) (1.22.3)\n",
      "Requirement already satisfied: packaging>=20.0 in c:\\users\\chanj\\appdata\\local\\packages\\pythonsoftwarefoundation.python.3.10_qbz5n2kfra8p0\\localcache\\local-packages\\python310\\site-packages (from matplotlib) (23.0)\n",
      "Requirement already satisfied: pillow>=6.2.0 in c:\\users\\chanj\\appdata\\local\\packages\\pythonsoftwarefoundation.python.3.10_qbz5n2kfra8p0\\localcache\\local-packages\\python310\\site-packages (from matplotlib) (9.4.0)\n",
      "Requirement already satisfied: pyparsing>=2.2.1 in c:\\users\\chanj\\appdata\\local\\packages\\pythonsoftwarefoundation.python.3.10_qbz5n2kfra8p0\\localcache\\local-packages\\python310\\site-packages (from matplotlib) (3.0.9)\n",
      "Requirement already satisfied: python-dateutil>=2.7 in c:\\users\\chanj\\appdata\\local\\packages\\pythonsoftwarefoundation.python.3.10_qbz5n2kfra8p0\\localcache\\local-packages\\python310\\site-packages (from matplotlib) (2.8.2)\n",
      "Requirement already satisfied: six>=1.5 in c:\\users\\chanj\\appdata\\local\\packages\\pythonsoftwarefoundation.python.3.10_qbz5n2kfra8p0\\localcache\\local-packages\\python310\\site-packages (from python-dateutil>=2.7->matplotlib) (1.16.0)\n"
     ]
    },
    {
     "name": "stderr",
     "output_type": "stream",
     "text": [
      "WARNING: Ignoring invalid distribution -orch (c:\\users\\chanj\\appdata\\local\\packages\\pythonsoftwarefoundation.python.3.10_qbz5n2kfra8p0\\localcache\\local-packages\\python310\\site-packages)\n",
      "WARNING: Ignoring invalid distribution -orch (c:\\users\\chanj\\appdata\\local\\packages\\pythonsoftwarefoundation.python.3.10_qbz5n2kfra8p0\\localcache\\local-packages\\python310\\site-packages)\n",
      "\n",
      "[notice] A new release of pip is available: 23.2.1 -> 23.3.1\n",
      "[notice] To update, run: C:\\Users\\chanj\\AppData\\Local\\Microsoft\\WindowsApps\\PythonSoftwareFoundation.Python.3.10_qbz5n2kfra8p0\\python.exe -m pip install --upgrade pip\n"
     ]
    }
   ],
   "source": [
    "# importing a library\n",
    "import os # loads entire library\n",
    "from os import getcwd # loads specifics from a library\n",
    "\n"
   ]
  }
 ],
 "metadata": {
  "kernelspec": {
   "display_name": "Python 3.10.10 64-bit (microsoft store)",
   "language": "python",
   "name": "python3"
  },
  "language_info": {
   "codemirror_mode": {
    "name": "ipython",
    "version": 3
   },
   "file_extension": ".py",
   "mimetype": "text/x-python",
   "name": "python",
   "nbconvert_exporter": "python",
   "pygments_lexer": "ipython3",
   "version": "3.10.10"
  },
  "orig_nbformat": 4,
  "vscode": {
   "interpreter": {
    "hash": "13809f5fbb2c71687ac0fbc02129e4c89f53832ed2f3a101566dd09001991f6b"
   }
  }
 },
 "nbformat": 4,
 "nbformat_minor": 2
}
