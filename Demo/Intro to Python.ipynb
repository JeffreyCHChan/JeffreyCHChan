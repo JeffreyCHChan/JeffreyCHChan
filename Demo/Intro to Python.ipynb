{
 "cells": [
  {
   "cell_type": "markdown",
   "metadata": {},
   "source": [
    "<h1>Data Types</h1>\n"
   ]
  },
  {
   "cell_type": "code",
   "execution_count": null,
   "metadata": {},
   "outputs": [],
   "source": [
    "# boolean\n",
    "True\n",
    "False\n",
    "print(f\"True and True: {True and True}\")\n",
    "print(f\"True and False: {True and False}\")\n",
    "print(f\"True or True: {True or True}\")\n",
    "print(f\"True or False: {True or False}\")\n",
    "print(f\"not True: {not True}\")\n",
    "print(f\"not False: {not False}\")\n",
    "\n",
    "# numeric\n",
    "x = 1\n",
    "y = 3\n",
    "\n",
    "print(f\"division / {x/y}\")\n",
    "print(f\"floored division // {x//y}\")\n",
    "print(f\"remainder % {x%y}\")\n",
    "print(f\"float() {float(y)}\")\n",
    "\n",
    "w = 3.5\n",
    "z = 2.5\n",
    "\n",
    "print(int(w))\n",
    "\n",
    "# # strings (Uncommenting this will )\n",
    "# string = 'Hi'\n",
    "# string[0] = \"p\"\n",
    "\n",
    "\n",
    "string = 'Hi'\n",
    "print(f\"Before change: {string}\")\n",
    "string = \"p\"+ string[1:] # note that you can access the value of a string subset using square brackets\n",
    "print(f\"After change: {string}\")"
   ]
  },
  {
   "cell_type": "markdown",
   "metadata": {},
   "source": [
    "<h1>Collections"
   ]
  },
  {
   "cell_type": "code",
   "execution_count": null,
   "metadata": {},
   "outputs": [],
   "source": [
    "dictionary = {1:\"a\",2:\"b\",3:\"c\"}\n",
    "print(f\"{dictionary}\")\n",
    "array = [1,2,3, \"1\"]\n",
    "print(f\"{array}\")\n",
    "sets = set([1,2,3,3,\"3\"])\n",
    "print(f\"{sets}\")\n",
    "odds: set = {1, 3, 5, 7 , 9,9}\n",
    "print(f\"{odds}\")"
   ]
  },
  {
   "cell_type": "markdown",
   "metadata": {},
   "source": [
    "<h1>Functions & Classes"
   ]
  },
  {
   "cell_type": "code",
   "execution_count": null,
   "metadata": {},
   "outputs": [],
   "source": [
    "def functionName(parameter, default_paramter=1):\n",
    "    # code block\n",
    "    return parameter\n",
    "\n",
    "#Note that parameters do not need to be defined and this is also valid\n",
    "def functionName():\n",
    "# code block\n",
    "    pass #The pass statement does nothing\n",
    "\n",
    "class Person:\n",
    "    def __init__(self, fname, lname):\n",
    "        self.firstname = fname\n",
    "        self.lastname = lname\n",
    "\n",
    "    def printname(self):\n",
    "        print(self.firstname, self.lastname)\n",
    "\n",
    "class Student(Person):\n",
    "    pass #pass keyword when you do not want to add any other properties or methods to the class.\n",
    "\n",
    "class Student(Person):\n",
    "    def __init__(self, fname, lname):\n",
    "        super().__init__(fname, lname)\n",
    "\n",
    "\"\"\"\n",
    "More \n",
    "https://www.w3schools.com/python/python_polymorphism.asp\n",
    "\"\"\""
   ]
  },
  {
   "cell_type": "markdown",
   "metadata": {},
   "source": [
    "<h1>Control Flow"
   ]
  },
  {
   "cell_type": "code",
   "execution_count": null,
   "metadata": {},
   "outputs": [],
   "source": [
    "x = 1\n",
    "\n",
    "if x < 0:\n",
    "    x = 0\n",
    "    print('Negative changed to zero')\n",
    "elif x == 0:\n",
    "    print('Zero')\n",
    "elif x == 1:\n",
    "    print('Single')\n",
    "else:\n",
    "    print('More')\n",
    "\n",
    "print(\"Example of range()\")\n",
    "for i in range(5):\n",
    "    print(i)\n",
    "\n",
    "print(\"Example of continue and break\")\n",
    "for n in range(2, 10):\n",
    "    for x in range(2, n):\n",
    "        if n % x == 0:\n",
    "            print(n, 'equals', x, '*', n//x)\n",
    "            break\n",
    "    else:\n",
    "        # loop fell through without finding a factor\n",
    "        print(n, 'is a prime number')\n",
    "        continue\n",
    "\n",
    "print(\"Example of switch/match cases\")\n",
    "\n",
    "status = 402\n",
    "match status:\n",
    "    case 400:\n",
    "        print(\"Bad request\")\n",
    "    case 401 | 403 | 404:\n",
    "        print( \"Not allowed\")\n",
    "    case 418:\n",
    "        print( \"I'm a teapot\")\n",
    "    case _:\n",
    "        print( \"Something's wrong with the internet\")\n",
    "\n",
    "print(\"Example of while loop\")\n",
    "i = 1\n",
    "while i < 6:\n",
    "    print(i)\n",
    "    if i == 3:\n",
    "        break # ends the current loop block\n",
    "    i += 1"
   ]
  },
  {
   "cell_type": "markdown",
   "metadata": {},
   "source": [
    "<h1>File I/O</h1>\n",
    "\n",
    "The main difference/benefit is the management of opening and closing the file."
   ]
  },
  {
   "cell_type": "code",
   "execution_count": null,
   "metadata": {},
   "outputs": [],
   "source": [
    "# Option 1\n",
    "print(\"Option 1\")\n",
    "with open(\"hello.txt\") as my_file:\n",
    "    print(my_file.read())\n",
    "\n",
    "# Option 2\n",
    "print(\"\\nOption 2\")\n",
    "my_file = open(\"hello.txt\")\n",
    "print(my_file.read())\n",
    "my_file.close()"
   ]
  },
  {
   "cell_type": "markdown",
   "metadata": {},
   "source": [
    "<h1>Modules/Libraries"
   ]
  },
  {
   "cell_type": "code",
   "execution_count": null,
   "metadata": {},
   "outputs": [],
   "source": [
    "# importing a library\n",
    "import os # loads entire library\n",
    "from os import getcwd # loads specifics from a library\n",
    "\n",
    "assert 'os' in globals() # checking that os was imported"
   ]
  },
  {
   "cell_type": "markdown",
   "metadata": {},
   "source": [
    "<h1>Casting Types"
   ]
  },
  {
   "cell_type": "code",
   "execution_count": null,
   "metadata": {},
   "outputs": [],
   "source": [
    "x = 1\n",
    "print(x, type(x))\n",
    "x = str(x)\n",
    "print(x, type(x))\n",
    "x = float(x)\n",
    "print(x, type(x))\n",
    "x = complex(x)\n",
    "print(x, type(x))"
   ]
  },
  {
   "cell_type": "markdown",
   "metadata": {},
   "source": [
    "<h1>Scope"
   ]
  },
  {
   "cell_type": "code",
   "execution_count": null,
   "metadata": {},
   "outputs": [],
   "source": [
    "x = 300\n",
    "\n",
    "def myfunc():\n",
    "    x = 200\n",
    "    print(x)\n",
    "\n",
    "def myfuncGlobal():\n",
    "    global x\n",
    "    x = 400\n",
    "    print(x)\n",
    "\n",
    "print(x)\n",
    "myfunc()\n",
    "myfuncGlobal()"
   ]
  },
  {
   "cell_type": "markdown",
   "metadata": {},
   "source": [
    "<h1>Error Handling"
   ]
  },
  {
   "cell_type": "code",
   "execution_count": null,
   "metadata": {},
   "outputs": [],
   "source": [
    "try:\n",
    "    print(x)\n",
    "except NameError:\n",
    "    print(\"Variable x is not defined\")\n",
    "except:\n",
    "    print(\"Something else went wrong\")"
   ]
  },
  {
   "cell_type": "markdown",
   "metadata": {},
   "source": [
    "<h1>More Resources</h1>\n",
    "\n",
    "* https://www.w3schools.com/python/python_datetime.asp \n",
    "* https://www.w3schools.com/python/python_math.asp \n",
    "* https://www.w3schools.com/python/python_json.asp\n",
    "* https://www.w3schools.com/python/python_regex.asp\n",
    "* https://www.w3schools.com/python/python_user_input.asp \n",
    "* https://docs.python.org/3/library/typing.html"
   ]
  }
 ],
 "metadata": {
  "kernelspec": {
   "display_name": "Python 3.10.10 64-bit (microsoft store)",
   "language": "python",
   "name": "python3"
  },
  "language_info": {
   "codemirror_mode": {
    "name": "ipython",
    "version": 3
   },
   "file_extension": ".py",
   "mimetype": "text/x-python",
   "name": "python",
   "nbconvert_exporter": "python",
   "pygments_lexer": "ipython3",
   "version": "3.10.10"
  },
  "orig_nbformat": 4,
  "vscode": {
   "interpreter": {
    "hash": "13809f5fbb2c71687ac0fbc02129e4c89f53832ed2f3a101566dd09001991f6b"
   }
  }
 },
 "nbformat": 4,
 "nbformat_minor": 2
}
