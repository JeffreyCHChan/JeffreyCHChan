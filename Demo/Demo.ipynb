{
 "cells": [
  {
   "cell_type": "markdown",
   "id": "794c2fb4",
   "metadata": {},
   "source": [
    "<h1>Importing Libraries</h1>\n",
    "\n",
    "Please run \"pip install -r requirements.txt\" from the root of the project "
   ]
  },
  {
   "cell_type": "code",
   "execution_count": null,
   "id": "1500b991",
   "metadata": {},
   "outputs": [],
   "source": [
    "!pip install -r requirements.txt"
   ]
  },
  {
   "cell_type": "code",
   "execution_count": null,
   "id": "b8926ffe",
   "metadata": {},
   "outputs": [],
   "source": [
    "import os\n",
    "import pickle\n",
    "import pandas as pd\n",
    "import numpy as np\n",
    "import matplotlib.pyplot as plt\n",
    "from sklearn.model_selection import train_test_split\n",
    "from sklearn import preprocessing\n",
    "from sklearn.naive_bayes import MultinomialNB\n",
    "from sklearn.tree import DecisionTreeClassifier, plot_tree\n",
    "from sklearn.neural_network import MLPClassifier\n",
    "from sklearn.model_selection import GridSearchCV\n",
    "from sklearn.metrics import f1_score, precision_score, accuracy_score, recall_score, ConfusionMatrixDisplay, confusion_matrix, classification_report\n",
    "import warnings\n",
    "# Disable all FutureWarnings\n",
    "warnings.filterwarnings(\"ignore\", category=FutureWarning)"
   ]
  },
  {
   "cell_type": "markdown",
   "id": "a105a5f0",
   "metadata": {},
   "source": [
    "<h1>NumPy vs Pandas</h1>\n",
    "\n",
    "A Pandas DataFrame is a two-dimensional, tabular, mutable data structure in Python that can store tabular data containing objects of different data types.\n",
    "\n",
    "A NumPy array is a type of multi-dimensional data structure in Python which can store objects of similar data types."
   ]
  },
  {
   "cell_type": "markdown",
   "id": "71d8da82",
   "metadata": {},
   "source": [
    "<h1>Titanic Dataset</h1>\n",
    "\n",
    "https://www.kaggle.com/c/titanic/data\n",
    "\n",
    "<h2> Variable Notes </h2>\n",
    "\n",
    "| Variable  | Definition                  | Key                                            |\n",
    "|-----------|-----------------------------|------------------------------------------------|\n",
    "| survival  | Survival                    | 0 = No, 1 = Yes                                |\n",
    "| pclass    | Ticket class                | 1 = 1st, 2 = 2nd, 3 = 3rd                      |\n",
    "| sex       | Sex                         |                                                |\n",
    "| Age       | Age in years                |                                                |\n",
    "| sibsp     | # of siblings / spouses aboard the Titanic |                                      |\n",
    "| parch     | # of parents / children aboard the Titanic |                                      |\n",
    "| ticket    | Ticket number               |                                                |\n",
    "| fare      | Passenger fare              |                                                |\n",
    "| cabin     | Cabin number                |                                                |\n",
    "| embarked  | Port of Embarkation         | C = Cherbourg, Q = Queenstown, S = Southampton |\n"
   ]
  },
  {
   "cell_type": "markdown",
   "id": "2a700020",
   "metadata": {},
   "source": [
    "<h1>Data Preparation</h1>\n",
    "\n",
    "Here the goal is to make the necessary manipulations so that the models will accept them.\n",
    "This includes filling in Nan (Not a number) values in the pandas."
   ]
  },
  {
   "cell_type": "code",
   "execution_count": null,
   "id": "d80c3f92",
   "metadata": {},
   "outputs": [],
   "source": [
    "\n",
    "label_encoder = preprocessing.LabelEncoder()\n",
    "current_directory = os.getcwd()\n",
    "titanic = pd.read_csv(current_directory+'\\\\titanic.csv')\n",
    "\n",
    "# Operations to create a distinct value that I know I can encode.\n",
    "titanic[\"Cabin\"].fillna(\"Not Known\")\n",
    "titanic[\"Embarked\"].fillna(\"Not Known\")\n",
    "titanic[\"Sex\"].fillna(\"Not Known\")\n",
    "titanic[\"Ticket\"].fillna(\"Not Known\")\n",
    "titanic[\"Name\"].fillna(\"Not Known\")\n",
    "\n",
    "# Encoding the values in these columns then replacing the columns with the encoded version\n",
    "titanic[\"Cabin\"] = label_encoder.fit_transform(titanic[\"Cabin\"])\n",
    "titanic[\"Name\"] = label_encoder.fit_transform(titanic[\"Name\"])\n",
    "titanic[\"Sex\"] = label_encoder.fit_transform(titanic[\"Sex\"])\n",
    "titanic[\"Ticket\"] = label_encoder.fit_transform(titanic[\"Ticket\"])\n",
    "titanic[\"Embarked\"] = label_encoder.fit_transform(titanic[\"Embarked\"])\n",
    "\n",
    "titanic_labels = titanic[\"Survived\"]\n",
    "# The Survived column can be disgarded now as we have separated it from the features into its own variable.\n",
    "titanic = titanic.drop(\"Survived\", axis=1)"
   ]
  },
  {
   "cell_type": "markdown",
   "id": "8df4f7de",
   "metadata": {},
   "source": [
    "<h1>Data Splitting and Final Data Manipulations </h1>\n",
    "\n",
    "A reason to do fillna that would uses an aggregate (sum, mean, min, etc.) is to prevent data leaking between the training set and test set!"
   ]
  },
  {
   "cell_type": "code",
   "execution_count": null,
   "id": "d4a4c17e",
   "metadata": {},
   "outputs": [],
   "source": [
    "# Play around and see what happens to the models when you change the test-training ratios\n",
    "train_size = 0.8\n",
    "test_size = 1 - train_size\n",
    "assert train_size + test_size == 1\n",
    "\n",
    "# I decided to drop the Name column as I believe it to generate unique values when encoded \n",
    "titanic.drop(\"Name\",axis=1, inplace=True)\n",
    "\n",
    "# train_test_split this is a method that scikit-learn provides in the library\n",
    "titanic_train, titanic_test, labels_train, labels_test = train_test_split(titanic,titanic_labels , train_size=train_size, random_state=42)"
   ]
  },
  {
   "cell_type": "code",
   "execution_count": null,
   "id": "683a4e68",
   "metadata": {},
   "outputs": [],
   "source": [
    "'''\n",
    "both ways are valid\n",
    "we do fillna here instead of above as we want to avoid data leaking since an average would \n",
    "use all the data in the column before splitting\n",
    "'''\n",
    "titanic_train[\"Age\"].fillna(titanic_train[\"Age\"].mean(), inplace=True)\n",
    "\n",
    "titanic_test[\"Age\"] = titanic_test[\"Age\"].fillna(titanic_test[\"Age\"].mean())\n"
   ]
  },
  {
   "cell_type": "markdown",
   "id": "649ca624",
   "metadata": {},
   "source": [
    "<h1>Quick Check</h1>\n",
    "\n",
    "Always good idea to validate that your data manipulations/operations expectations matches your results."
   ]
  },
  {
   "cell_type": "code",
   "execution_count": null,
   "id": "b0c850f1",
   "metadata": {},
   "outputs": [],
   "source": [
    "titanic.loc[titanic[\"Age\"].isna()==True]"
   ]
  },
  {
   "cell_type": "code",
   "execution_count": null,
   "id": "533ff73c",
   "metadata": {},
   "outputs": [],
   "source": [
    "titanic_train.loc[titanic_train[\"Age\"].isna()==True]\n",
    "# no rows should appear"
   ]
  },
  {
   "cell_type": "code",
   "execution_count": null,
   "id": "b6768f3e",
   "metadata": {},
   "outputs": [],
   "source": [
    "titanic_test.loc[titanic_test[\"Age\"].isna()==True]\n",
    "# no rows should appear"
   ]
  },
  {
   "cell_type": "code",
   "execution_count": null,
   "id": "297a4a30",
   "metadata": {},
   "outputs": [],
   "source": [
    "def metrics(true_y,prediction_y):\n",
    "    print(f\"Accuracy: {accuracy_score(y_true=true_y,y_pred= prediction_y)}\")\n",
    "    print(f\"Precision (Weighted): {precision_score(y_true=true_y,y_pred= prediction_y, average='weighted')}\")\n",
    "    print(f\"Recall (Weighted): {recall_score(y_true=true_y,y_pred= prediction_y, average='weighted')}\")\n",
    "    print(f\"F1 Score (Weighted): {f1_score(y_true=true_y,y_pred= prediction_y,average='weighted')}\")\n",
    "    print(classification_report(y_true=true_y,y_pred= prediction_y, zero_division='warn'))\n",
    "    confusion_matrix(y_true=true_y,y_pred= prediction_y)"
   ]
  },
  {
   "cell_type": "markdown",
   "id": "6ffef649",
   "metadata": {},
   "source": [
    "<h2>2.2 Training and Test data split</h2>"
   ]
  },
  {
   "cell_type": "markdown",
   "id": "2dcb7a46",
   "metadata": {},
   "source": [
    "<h2>Multinomial Naive Bayes Classifier (naive bayes.MultinomialNB.html)\n",
    "with the default parameters.</h2>"
   ]
  },
  {
   "cell_type": "code",
   "execution_count": null,
   "id": "bce287e0",
   "metadata": {},
   "outputs": [],
   "source": [
    "classifier = MultinomialNB(random_state = 19)\n",
    "if (os.path.exists('models/MNB1_model.pickle')):\n",
    "    pickle_in = open('models/MNB1_model.pickle','rb')\n",
    "    clf1 = pickle.load(pickle_in)\n",
    "    print(\"pickle file used\")\n",
    "else:\n",
    "    classifier = classifier.fit(titanic_train, labels_train)\n",
    "    with open('models/MNB1_model.pickle','wb') as f:\n",
    "        pickle.dump(classifier, f)\n",
    "\n",
    "    pickle_in = open('models/MNB1_model.pickle','rb')\n",
    "    clf1 = pickle.load(pickle_in)\n",
    "pickle_in.close()"
   ]
  },
  {
   "cell_type": "code",
   "execution_count": null,
   "id": "3b5e415c",
   "metadata": {},
   "outputs": [],
   "source": [
    "labels_titanic_predict = clf1.predict(titanic_test)\n",
    "\n",
    "metrics(labels_test, labels_titanic_predict)\n",
    "cmp = ConfusionMatrixDisplay(confusion_matrix(y_true=labels_test, y_pred= labels_titanic_predict))\n",
    "fig, ax = plt.subplots(figsize=(10,10))\n",
    "cmp.plot(ax=ax,cmap='magma')"
   ]
  },
  {
   "cell_type": "markdown",
   "id": "0c414581",
   "metadata": {},
   "source": [
    "<h2>Decision Tree (tree.DecisionTreeClassifier) with the default parameters.</h2>"
   ]
  },
  {
   "cell_type": "code",
   "execution_count": null,
   "id": "ce98aef6",
   "metadata": {},
   "outputs": [],
   "source": [
    "classifier = DecisionTreeClassifier(criterion=\"entropy\", random_state = 19) # default measure of chaos is gini in scikit-learn\n",
    "if (os.path.exists('models/DT1_model.pickle')):\n",
    "    pickle_in = open('models/DT1_model.pickle','rb')\n",
    "    clf1 = pickle.load(pickle_in)\n",
    "    print(\"pickle file used\")\n",
    "else:\n",
    "    classifier = classifier.fit(titanic_train, labels_train)\n",
    "    with open('models/DT1_model.pickle','wb') as f:\n",
    "            pickle.dump(classifier, f)\n",
    "    pickle_in = open('models/DT1_model.pickle','rb')\n",
    "    clf1 = pickle.load(pickle_in)\n",
    "pickle_in.close()"
   ]
  },
  {
   "cell_type": "code",
   "execution_count": null,
   "id": "79de99ce",
   "metadata": {},
   "outputs": [],
   "source": [
    "labels_titanic_predict = clf1.predict(titanic_test)\n",
    "\n",
    "metrics(labels_test, labels_titanic_predict)\n",
    "cmp = ConfusionMatrixDisplay(confusion_matrix(y_true=labels_test, y_pred= labels_titanic_predict))\n",
    "fig, ax = plt.subplots(figsize=(10,10))\n",
    "cmp.plot(ax=ax,cmap='magma')\n"
   ]
  },
  {
   "cell_type": "code",
   "execution_count": null,
   "id": "cc5a41a0",
   "metadata": {},
   "outputs": [],
   "source": [
    "plot_tree(clf1, feature_names= titanic_train.columns)"
   ]
  },
  {
   "cell_type": "markdown",
   "id": "05bcc7a2",
   "metadata": {},
   "source": [
    "<h2>Multi-Layered Perceptron (neural network.MLPClassifier) with the default parameters.</h2>"
   ]
  },
  {
   "cell_type": "code",
   "execution_count": null,
   "id": "e5119811",
   "metadata": {},
   "outputs": [],
   "source": [
    "classifier = MLPClassifier(random_state = 19)\n",
    "if (os.path.exists('models/MLP1_model.pickle')):\n",
    "    pickle_in = open('models/MLP1_model.pickle','rb')\n",
    "    clf1 = pickle.load(pickle_in)\n",
    "    print(\"pickle file used\")\n",
    "else:\n",
    "    classifier = classifier.fit(titanic_train, labels_train)\n",
    "    with open('models/MLP1_model.pickle','wb') as f:\n",
    "            pickle.dump(classifier, f)\n",
    "    pickle_in = open('models/MLP1_model.pickle','rb')\n",
    "    clf1 = pickle.load(pickle_in)\n",
    "pickle_in.close()"
   ]
  },
  {
   "cell_type": "code",
   "execution_count": null,
   "id": "5600c20e",
   "metadata": {},
   "outputs": [],
   "source": [
    "# This can be used \n",
    "# print(np.shape(titanic_train))\n",
    "# print(np.shape(labels_train))"
   ]
  },
  {
   "cell_type": "code",
   "execution_count": null,
   "id": "294d1552",
   "metadata": {
    "scrolled": true
   },
   "outputs": [],
   "source": [
    "labels_titanic_predict = clf1.predict(titanic_test)\n",
    "metrics(labels_test, labels_titanic_predict)\n",
    "cmp = ConfusionMatrixDisplay(confusion_matrix(y_true=labels_test, y_pred= labels_titanic_predict))\n",
    "fig, ax = plt.subplots(figsize=(10,10))\n",
    "cmp.plot(ax=ax,cmap='magma')"
   ]
  },
  {
   "cell_type": "markdown",
   "id": "6622038a",
   "metadata": {},
   "source": [
    "<h1>Your Turn</h1>\n",
    "\n",
    "Go find a model you want to use on this data<br>\n",
    "\n",
    "Simple things you can try:\n",
    "* manually selecting hyperparameters\n",
    "* change the features\n",
    "* try unsupervised learning \n",
    "\n",
    "If you don't know where to start feel free to discuss with myself or those around you!\n",
    "\n",
    "All models and fancy things can be found here \n",
    "https://scikit-learn.org/stable/modules/classes.html"
   ]
  },
  {
   "cell_type": "code",
   "execution_count": null,
   "id": "92e40dc9",
   "metadata": {},
   "outputs": [],
   "source": [
    "classifier = ModelClass # define a model \n",
    "modelName = \"UserModel\" # name your model\n",
    "\n",
    "if (os.path.exists(f'models/{modelName}.pickle')):\n",
    "    pickle_in = open(f'models/{modelName}.pickle','rb')\n",
    "    clf1 = pickle.load(pickle_in)\n",
    "    print(\"pickle file used\")\n",
    "else:\n",
    "    classifier = classifier.fit(titanic_train, labels_train)\n",
    "    with open(f'models/{modelName}.pickle','wb') as f:\n",
    "            pickle.dump(classifier, f)\n",
    "    pickle_in = open(f'models/{modelName}.pickle','rb')\n",
    "    clf1 = pickle.load(pickle_in)\n",
    "pickle_in.close()"
   ]
  },
  {
   "cell_type": "markdown",
   "id": "66992eee",
   "metadata": {},
   "source": [
    "<h1>Model Refinement Through Hyperparameter Search</h1>\n",
    "\n",
    "Idea is to take find hyperparameter values that will improve the performance of the model's prediction. Hyperparameters are parameters you can control over the model (ex: maxDepth of a Decision Tree, etc.)\n",
    "\n",
    "https://scikit-learn.org/stable/modules/classes.html#hyper-parameter-optimizers "
   ]
  },
  {
   "cell_type": "markdown",
   "id": "0769877b",
   "metadata": {},
   "source": [
    "<h2>Multinomial Naive Bayes Classifier found using GridSearchCV</h2>\n",
    "\n",
    "Hyperparameters are called attributes in scikit-learn documentation <br>\n",
    "https://scikit-learn.org/stable/modules/generated/sklearn.naive_bayes.MultinomialNB.html#sklearn.naive_bayes.MultinomialNB\n"
   ]
  },
  {
   "cell_type": "code",
   "execution_count": null,
   "id": "d9ae7194",
   "metadata": {},
   "outputs": [],
   "source": [
    "parameters = {\"alpha\":(0.5,0,0.36,1)}\n",
    "clfMNB = MultinomialNB()\n",
    "\n",
    "classifier = GridSearchCV(estimator=clfMNB, param_grid=parameters,n_jobs=-1, scoring = \"recall\", random_state = 19)\n",
    "\n",
    "if (os.path.exists('models/MNB1GridCV_model.pickle')):\n",
    "    pickle_in = open('models/MNB1GridCV_model.pickle','rb')\n",
    "    clf1 = pickle.load(pickle_in)\n",
    "    print(\"pickle file used\")\n",
    "else:\n",
    "    classifier = classifier.fit(titanic_train, labels_train)\n",
    "    with open('models/MNB1GridCV_model.pickle','wb') as f:\n",
    "        pickle.dump(classifier, f)\n",
    "\n",
    "    pickle_in = open('models/MNB1GridCV_model.pickle','rb')\n",
    "    clf1 = pickle.load(pickle_in)\n",
    "pickle_in.close()\n"
   ]
  },
  {
   "cell_type": "code",
   "execution_count": null,
   "id": "a39ec2a9",
   "metadata": {},
   "outputs": [],
   "source": [
    "labels_titanic_predict = clf1.predict(titanic_test)\n",
    "\n",
    "print(f\"Best estimator: {clf1.best_estimator_}\")\n",
    "metrics(labels_test, labels_titanic_predict)\n",
    "cmp = ConfusionMatrixDisplay(confusion_matrix(y_true=labels_test, y_pred= labels_titanic_predict))\n",
    "fig, ax = plt.subplots(figsize=(10,10))\n",
    "cmp.plot(ax=ax,cmap='magma')"
   ]
  },
  {
   "cell_type": "markdown",
   "id": "d5689bef",
   "metadata": {},
   "source": [
    "<h2>Decision Tree Classifier found using GridSearchCV</h2>\n",
    "\n",
    "Hyperparameters are called attributes in scikit-learn documentation <br>\n",
    "\n",
    "https://scikit-learn.org/stable/modules/generated/sklearn.tree.DecisionTreeClassifier.html#sklearn.tree.DecisionTreeClassifier "
   ]
  },
  {
   "cell_type": "code",
   "execution_count": null,
   "id": "bcf52bf6",
   "metadata": {},
   "outputs": [],
   "source": [
    "parameters = {\"criterion\":(\"gini\",\"entropy\"),\"max_depth\":(100,3,10),\"min_samples_split\":(12,5,30)}\n",
    "clfDT = DecisionTreeClassifier()\n",
    "\n",
    "classifier = GridSearchCV(estimator=clfDT, param_grid=parameters,n_jobs=-1, scoring = \"recall\", random_state = 19)\n",
    "\n",
    "if (os.path.exists('models/DT1GridCV_model.pickle')):\n",
    "    pickle_in = open('models/DT1GridCV_model.pickle','rb')\n",
    "    clf1 = pickle.load(pickle_in)\n",
    "    print(\"pickle file used\")\n",
    "else:\n",
    "    classifier = classifier.fit(titanic_train, labels_train)\n",
    "    with open('models/DT1GridCV_model.pickle','wb') as f:\n",
    "        pickle.dump(classifier, f)\n",
    "\n",
    "    pickle_in = open('models/DT1GridCV_model.pickle','rb')\n",
    "    clf1 = pickle.load(pickle_in)\n",
    "pickle_in.close()"
   ]
  },
  {
   "cell_type": "code",
   "execution_count": null,
   "id": "338b507b",
   "metadata": {},
   "outputs": [],
   "source": [
    "labels_titanic_predict = clf1.predict(titanic_test)\n",
    "\n",
    "print(f\"Best estimator: {clf1.best_estimator_}\")\n",
    "metrics(labels_test, labels_titanic_predict)\n",
    "cmp = ConfusionMatrixDisplay(confusion_matrix(y_true=labels_test, y_pred= labels_titanic_predict))\n",
    "fig, ax = plt.subplots(figsize=(10,10))\n",
    "cmp.plot(ax=ax,cmap='magma')"
   ]
  },
  {
   "cell_type": "code",
   "execution_count": null,
   "id": "9b8ff239",
   "metadata": {},
   "outputs": [],
   "source": [
    "plot_tree(clf1.best_estimator_, feature_names= titanic_train.columns)"
   ]
  },
  {
   "cell_type": "markdown",
   "id": "11f17750",
   "metadata": {},
   "source": [
    "<h2>Multi-Layered Perceptron found using GridSearchCV</h2>\n",
    "\n",
    "Hyperparameters are called attributes in scikit-learn documentation <br>\n",
    "https://scikit-learn.org/stable/modules/generated/sklearn.neural_network.MLPClassifier.html#sklearn.neural_network.MLPClassifier "
   ]
  },
  {
   "cell_type": "code",
   "execution_count": null,
   "id": "2cc7bfe4",
   "metadata": {},
   "outputs": [],
   "source": [
    "parameters = {\"activation\":(\"identity\", \"logistic\", \"tanh\", \"relu\"),\"hidden_layer_sizes\":((11),(121,11),(6,12,2),(11,1,3,7)), \"solver\":(\"adam\",\"sgd\")}\n",
    "#currently 5 neurons then 5 neurons and 5 neurons then 10 neurons in the hidden layer\n",
    "clfMLP = MLPClassifier(early_stopping=True, verbose=True, max_iter=50)\n",
    "classifier = GridSearchCV(estimator=clfMLP, param_grid=parameters, n_jobs=-1, scoring = \"recall\", random_state = 19)\n",
    "skip=False # when set to False this search will execute\n",
    "\n",
    "if(not skip):\n",
    "    if (os.path.exists('models/MLP1GridCV_model.pickle')):\n",
    "        pickle_in = open('models/MLP1GridCV_model.pickle','rb')\n",
    "        clf1 = pickle.load(pickle_in)\n",
    "        print(\"pickle file used\")\n",
    "    else:\n",
    "        classifier = classifier.fit(titanic_train.values, labels_train.values)\n",
    "        with open('models/MLP1GridCV_model.pickle','wb') as f:\n",
    "            pickle.dump(classifier, f)\n",
    "\n",
    "        pickle_in = open('models/MLP1GridCV_model.pickle','rb')\n",
    "        clf1 = pickle.load(pickle_in)\n",
    "else:\n",
    "    print(\"skipped\")\n",
    "\n",
    "pickle_in.close()"
   ]
  },
  {
   "cell_type": "code",
   "execution_count": null,
   "id": "5e5a6e5c",
   "metadata": {},
   "outputs": [],
   "source": [
    "if (os.path.exists('models/MLP1GridCV_model.pickle') and not skip):\n",
    "    labels_titanic_predict = clf1.predict(titanic_test)\n",
    "    print(f\"Best estimator: {clf1.best_estimator_}\")\n",
    "    metrics(labels_test, labels_titanic_predict)\n",
    "    cmp = ConfusionMatrixDisplay(confusion_matrix(y_true=labels_test, y_pred= labels_titanic_predict))\n",
    "    fig, ax = plt.subplots(figsize=(10,10))\n",
    "    cmp.plot(ax=ax,cmap='magma')\n",
    "else:\n",
    "    print(\"skipped\")"
   ]
  },
  {
   "cell_type": "code",
   "execution_count": null,
   "id": "1e7836dc",
   "metadata": {},
   "outputs": [],
   "source": [
    "# make each model take independent names so we can graph recall or precision"
   ]
  },
  {
   "cell_type": "markdown",
   "id": "31d219fd",
   "metadata": {},
   "source": [
    "<h1>More Resources</h1>\n",
    "\n",
    "\n",
    "Sci-kit learn linear models [Link](https://scikit-learn.org/stable/modules/classes.html#module-sklearn.linear_model).\n",
    "\n",
    "Sci-kit learn clustering models [Link](https://scikit-learn.org/stable/modules/classes.html#module-sklearn.cluster).\n",
    "\n",
    "Sci-kit learn ensemble models [Link](https://scikit-learn.org/stable/modules/classes.html#module-sklearn.ensemble)."
   ]
  }
 ],
 "metadata": {
  "kernelspec": {
   "display_name": "Python 3.10.10 64-bit (microsoft store)",
   "language": "python",
   "name": "python3"
  },
  "language_info": {
   "codemirror_mode": {
    "name": "ipython",
    "version": 3
   },
   "file_extension": ".py",
   "mimetype": "text/x-python",
   "name": "python",
   "nbconvert_exporter": "python",
   "pygments_lexer": "ipython3",
   "version": "3.10.10"
  },
  "vscode": {
   "interpreter": {
    "hash": "13809f5fbb2c71687ac0fbc02129e4c89f53832ed2f3a101566dd09001991f6b"
   }
  }
 },
 "nbformat": 4,
 "nbformat_minor": 5
}
