{
 "cells": [
  {
   "cell_type": "markdown",
   "id": "794c2fb4",
   "metadata": {},
   "source": [
    "<h1>Importing Libraries</h1>\n",
    "\n",
    "Please run \"pip install -r requirements.txt\" from the root of the project "
   ]
  },
  {
   "cell_type": "code",
   "execution_count": 36,
   "id": "1500b991",
   "metadata": {},
   "outputs": [
    {
     "name": "stdout",
     "output_type": "stream",
     "text": [
      "Requirement already satisfied: scikit-learn==1.1.2 in c:\\users\\chanj\\appdata\\local\\packages\\pythonsoftwarefoundation.python.3.10_qbz5n2kfra8p0\\localcache\\local-packages\\python310\\site-packages (from -r requirements.txt (line 1)) (1.1.2)\n",
      "Requirement already satisfied: numpy==1.22.3 in c:\\users\\chanj\\appdata\\local\\packages\\pythonsoftwarefoundation.python.3.10_qbz5n2kfra8p0\\localcache\\local-packages\\python310\\site-packages (from -r requirements.txt (line 2)) (1.22.3)\n",
      "Requirement already satisfied: pandas==1.5.2 in c:\\users\\chanj\\appdata\\local\\packages\\pythonsoftwarefoundation.python.3.10_qbz5n2kfra8p0\\localcache\\local-packages\\python310\\site-packages (from -r requirements.txt (line 3)) (1.5.2)\n",
      "Requirement already satisfied: matplotlib==3.5.3 in c:\\users\\chanj\\appdata\\local\\packages\\pythonsoftwarefoundation.python.3.10_qbz5n2kfra8p0\\localcache\\local-packages\\python310\\site-packages (from -r requirements.txt (line 4)) (3.5.3)\n",
      "Requirement already satisfied: scipy>=1.3.2 in c:\\users\\chanj\\appdata\\local\\packages\\pythonsoftwarefoundation.python.3.10_qbz5n2kfra8p0\\localcache\\local-packages\\python310\\site-packages (from scikit-learn==1.1.2->-r requirements.txt (line 1)) (1.10.1)\n",
      "Requirement already satisfied: joblib>=1.0.0 in c:\\users\\chanj\\appdata\\local\\packages\\pythonsoftwarefoundation.python.3.10_qbz5n2kfra8p0\\localcache\\local-packages\\python310\\site-packages (from scikit-learn==1.1.2->-r requirements.txt (line 1)) (1.2.0)\n",
      "Requirement already satisfied: threadpoolctl>=2.0.0 in c:\\users\\chanj\\appdata\\local\\packages\\pythonsoftwarefoundation.python.3.10_qbz5n2kfra8p0\\localcache\\local-packages\\python310\\site-packages (from scikit-learn==1.1.2->-r requirements.txt (line 1)) (3.1.0)\n",
      "Requirement already satisfied: python-dateutil>=2.8.1 in c:\\users\\chanj\\appdata\\local\\packages\\pythonsoftwarefoundation.python.3.10_qbz5n2kfra8p0\\localcache\\local-packages\\python310\\site-packages (from pandas==1.5.2->-r requirements.txt (line 3)) (2.8.2)\n",
      "Requirement already satisfied: pytz>=2020.1 in c:\\users\\chanj\\appdata\\local\\packages\\pythonsoftwarefoundation.python.3.10_qbz5n2kfra8p0\\localcache\\local-packages\\python310\\site-packages (from pandas==1.5.2->-r requirements.txt (line 3)) (2022.7.1)\n",
      "Requirement already satisfied: cycler>=0.10 in c:\\users\\chanj\\appdata\\local\\packages\\pythonsoftwarefoundation.python.3.10_qbz5n2kfra8p0\\localcache\\local-packages\\python310\\site-packages (from matplotlib==3.5.3->-r requirements.txt (line 4)) (0.11.0)\n",
      "Requirement already satisfied: fonttools>=4.22.0 in c:\\users\\chanj\\appdata\\local\\packages\\pythonsoftwarefoundation.python.3.10_qbz5n2kfra8p0\\localcache\\local-packages\\python310\\site-packages (from matplotlib==3.5.3->-r requirements.txt (line 4)) (4.39.2)\n",
      "Requirement already satisfied: kiwisolver>=1.0.1 in c:\\users\\chanj\\appdata\\local\\packages\\pythonsoftwarefoundation.python.3.10_qbz5n2kfra8p0\\localcache\\local-packages\\python310\\site-packages (from matplotlib==3.5.3->-r requirements.txt (line 4)) (1.4.4)\n",
      "Requirement already satisfied: packaging>=20.0 in c:\\users\\chanj\\appdata\\local\\packages\\pythonsoftwarefoundation.python.3.10_qbz5n2kfra8p0\\localcache\\local-packages\\python310\\site-packages (from matplotlib==3.5.3->-r requirements.txt (line 4)) (23.0)\n",
      "Requirement already satisfied: pillow>=6.2.0 in c:\\users\\chanj\\appdata\\local\\packages\\pythonsoftwarefoundation.python.3.10_qbz5n2kfra8p0\\localcache\\local-packages\\python310\\site-packages (from matplotlib==3.5.3->-r requirements.txt (line 4)) (9.4.0)\n",
      "Requirement already satisfied: pyparsing>=2.2.1 in c:\\users\\chanj\\appdata\\local\\packages\\pythonsoftwarefoundation.python.3.10_qbz5n2kfra8p0\\localcache\\local-packages\\python310\\site-packages (from matplotlib==3.5.3->-r requirements.txt (line 4)) (3.0.9)\n",
      "Requirement already satisfied: six>=1.5 in c:\\users\\chanj\\appdata\\local\\packages\\pythonsoftwarefoundation.python.3.10_qbz5n2kfra8p0\\localcache\\local-packages\\python310\\site-packages (from python-dateutil>=2.8.1->pandas==1.5.2->-r requirements.txt (line 3)) (1.16.0)\n"
     ]
    },
    {
     "name": "stderr",
     "output_type": "stream",
     "text": [
      "WARNING: Ignoring invalid distribution -orch (c:\\users\\chanj\\appdata\\local\\packages\\pythonsoftwarefoundation.python.3.10_qbz5n2kfra8p0\\localcache\\local-packages\\python310\\site-packages)\n",
      "WARNING: Ignoring invalid distribution -orch (c:\\users\\chanj\\appdata\\local\\packages\\pythonsoftwarefoundation.python.3.10_qbz5n2kfra8p0\\localcache\\local-packages\\python310\\site-packages)\n",
      "\n",
      "[notice] A new release of pip is available: 23.2.1 -> 23.3.1\n",
      "[notice] To update, run: C:\\Users\\chanj\\AppData\\Local\\Microsoft\\WindowsApps\\PythonSoftwareFoundation.Python.3.10_qbz5n2kfra8p0\\python.exe -m pip install --upgrade pip\n"
     ]
    }
   ],
   "source": [
    "!pip install -r requirements.txt"
   ]
  },
  {
   "cell_type": "code",
   "execution_count": 18,
   "id": "b8926ffe",
   "metadata": {},
   "outputs": [],
   "source": [
    "import os\n",
    "import pickle\n",
    "import pandas as pd\n",
    "import numpy as np\n",
    "import matplotlib.pyplot as plt\n",
    "from sklearn.model_selection import train_test_split\n",
    "from sklearn import preprocessing\n",
    "from sklearn.naive_bayes import MultinomialNB\n",
    "from sklearn.tree import DecisionTreeClassifier, plot_tree\n",
    "from sklearn.neural_network import MLPClassifier\n",
    "from sklearn.model_selection import GridSearchCV\n",
    "from sklearn.metrics import f1_score, precision_score, accuracy_score, recall_score, ConfusionMatrixDisplay, confusion_matrix, classification_report\n",
    "import warnings\n",
    "# Disable all FutureWarnings\n",
    "warnings.filterwarnings(\"ignore\", category=FutureWarning)"
   ]
  },
  {
   "cell_type": "markdown",
   "id": "71d8da82",
   "metadata": {},
   "source": [
    "<h1>Titanic Dataset</h1>\n",
    "\n",
    "https://www.kaggle.com/c/titanic/data\n",
    "\n",
    "<h2> Variable Notes </h2>\n",
    "\n",
    "| Variable  | Definition                  | Key                                            |\n",
    "|-----------|-----------------------------|------------------------------------------------|\n",
    "| survival  | Survival                    | 0 = No, 1 = Yes                                |\n",
    "| pclass    | Ticket class                | 1 = 1st, 2 = 2nd, 3 = 3rd                      |\n",
    "| sex       | Sex                         |                                                |\n",
    "| Age       | Age in years                |                                                |\n",
    "| sibsp     | # of siblings / spouses aboard the Titanic |                                      |\n",
    "| parch     | # of parents / children aboard the Titanic |                                      |\n",
    "| ticket    | Ticket number               |                                                |\n",
    "| fare      | Passenger fare              |                                                |\n",
    "| cabin     | Cabin number                |                                                |\n",
    "| embarked  | Port of Embarkation         | C = Cherbourg, Q = Queenstown, S = Southampton |\n"
   ]
  },
  {
   "cell_type": "markdown",
   "id": "2a700020",
   "metadata": {},
   "source": [
    "<h1>Data Preparation</h1>\n",
    "\n",
    "Here the goal is to make the necessary manipulations so that the models will accept them.\n",
    "This includes filling in Nan (Not a number) values in the pandas."
   ]
  },
  {
   "cell_type": "code",
   "execution_count": 19,
   "id": "d80c3f92",
   "metadata": {},
   "outputs": [],
   "source": [
    "\n",
    "label_encoder = preprocessing.LabelEncoder()\n",
    "current_directory = os.getcwd()\n",
    "titanic = pd.read_csv(current_directory+'\\\\titanic.csv')\n",
    "\n",
    "# Operations to create a distinct value that I know I can encode.\n",
    "titanic[\"Cabin\"].fillna(\"Not Known\")\n",
    "titanic[\"Embarked\"].fillna(\"Not Known\")\n",
    "titanic[\"Sex\"].fillna(\"Not Known\")\n",
    "titanic[\"Ticket\"].fillna(\"Not Known\")\n",
    "titanic[\"Name\"].fillna(\"Not Known\")\n",
    "\n",
    "# Encoding the values in these columns then replacing the columns with the encoded version\n",
    "titanic[\"Cabin\"] = label_encoder.fit_transform(titanic[\"Cabin\"])\n",
    "titanic[\"Name\"] = label_encoder.fit_transform(titanic[\"Name\"])\n",
    "titanic[\"Sex\"] = label_encoder.fit_transform(titanic[\"Sex\"])\n",
    "titanic[\"Ticket\"] = label_encoder.fit_transform(titanic[\"Ticket\"])\n",
    "titanic[\"Embarked\"] = label_encoder.fit_transform(titanic[\"Embarked\"])\n",
    "\n",
    "titanic_labels = titanic[\"Survived\"]\n",
    "# The Survived column can be disgarded now as we have separated it from the features into its own variable.\n",
    "titanic = titanic.drop(\"Survived\", axis=1)"
   ]
  },
  {
   "cell_type": "markdown",
   "id": "8df4f7de",
   "metadata": {},
   "source": [
    "<h1>Data Splitting and Final Data Manipulations </h1>\n",
    "\n",
    "A reason to do fillna that would uses an aggregate (sum, mean, min, etc.) is to prevent data leaking between the training set and test set!"
   ]
  },
  {
   "cell_type": "code",
   "execution_count": 20,
   "id": "d4a4c17e",
   "metadata": {},
   "outputs": [],
   "source": [
    "# Play around and see what happens to the models when you change the test-training ratios\n",
    "train_size = 0.8\n",
    "test_size = 1 - train_size\n",
    "assert train_size + test_size == 1\n",
    "\n",
    "# I decided to drop the Name column as I believe it to generate unique values when encoded \n",
    "titanic.drop(\"Name\",axis=1, inplace=True)\n",
    "\n",
    "# train_test_split this is a method that scikit-learn provides in the library\n",
    "titanic_train, titanic_test, labels_train, labels_test = train_test_split(titanic,titanic_labels , train_size=train_size, random_state=42)"
   ]
  },
  {
   "cell_type": "code",
   "execution_count": 21,
   "id": "683a4e68",
   "metadata": {},
   "outputs": [],
   "source": [
    "'''\n",
    "both ways are valid\n",
    "we do fillna here instead of above as we want to avoid data leaking since an average would \n",
    "use all the data in the column before splitting\n",
    "'''\n",
    "titanic_train[\"Age\"].fillna(titanic_train[\"Age\"].mean(), inplace=True)\n",
    "\n",
    "titanic_test[\"Age\"] = titanic_test[\"Age\"].fillna(titanic_test[\"Age\"].mean())\n"
   ]
  },
  {
   "cell_type": "markdown",
   "id": "649ca624",
   "metadata": {},
   "source": [
    "<h1>Quick Check</h1>\n",
    "\n",
    "Always good idea to validate that your data manipulations/operations expectations matches your results."
   ]
  },
  {
   "cell_type": "code",
   "execution_count": 22,
   "id": "b0c850f1",
   "metadata": {},
   "outputs": [
    {
     "data": {
      "text/html": [
       "<div>\n",
       "<style scoped>\n",
       "    .dataframe tbody tr th:only-of-type {\n",
       "        vertical-align: middle;\n",
       "    }\n",
       "\n",
       "    .dataframe tbody tr th {\n",
       "        vertical-align: top;\n",
       "    }\n",
       "\n",
       "    .dataframe thead th {\n",
       "        text-align: right;\n",
       "    }\n",
       "</style>\n",
       "<table border=\"1\" class=\"dataframe\">\n",
       "  <thead>\n",
       "    <tr style=\"text-align: right;\">\n",
       "      <th></th>\n",
       "      <th>PassengerId</th>\n",
       "      <th>Pclass</th>\n",
       "      <th>Sex</th>\n",
       "      <th>Age</th>\n",
       "      <th>SibSp</th>\n",
       "      <th>Parch</th>\n",
       "      <th>Ticket</th>\n",
       "      <th>Fare</th>\n",
       "      <th>Cabin</th>\n",
       "      <th>Embarked</th>\n",
       "    </tr>\n",
       "  </thead>\n",
       "  <tbody>\n",
       "    <tr>\n",
       "      <th>5</th>\n",
       "      <td>6</td>\n",
       "      <td>3</td>\n",
       "      <td>1</td>\n",
       "      <td>NaN</td>\n",
       "      <td>0</td>\n",
       "      <td>0</td>\n",
       "      <td>275</td>\n",
       "      <td>8.4583</td>\n",
       "      <td>147</td>\n",
       "      <td>1</td>\n",
       "    </tr>\n",
       "    <tr>\n",
       "      <th>17</th>\n",
       "      <td>18</td>\n",
       "      <td>2</td>\n",
       "      <td>1</td>\n",
       "      <td>NaN</td>\n",
       "      <td>0</td>\n",
       "      <td>0</td>\n",
       "      <td>151</td>\n",
       "      <td>13.0000</td>\n",
       "      <td>147</td>\n",
       "      <td>2</td>\n",
       "    </tr>\n",
       "    <tr>\n",
       "      <th>19</th>\n",
       "      <td>20</td>\n",
       "      <td>3</td>\n",
       "      <td>0</td>\n",
       "      <td>NaN</td>\n",
       "      <td>0</td>\n",
       "      <td>0</td>\n",
       "      <td>184</td>\n",
       "      <td>7.2250</td>\n",
       "      <td>147</td>\n",
       "      <td>0</td>\n",
       "    </tr>\n",
       "    <tr>\n",
       "      <th>26</th>\n",
       "      <td>27</td>\n",
       "      <td>3</td>\n",
       "      <td>1</td>\n",
       "      <td>NaN</td>\n",
       "      <td>0</td>\n",
       "      <td>0</td>\n",
       "      <td>179</td>\n",
       "      <td>7.2250</td>\n",
       "      <td>147</td>\n",
       "      <td>0</td>\n",
       "    </tr>\n",
       "    <tr>\n",
       "      <th>28</th>\n",
       "      <td>29</td>\n",
       "      <td>3</td>\n",
       "      <td>0</td>\n",
       "      <td>NaN</td>\n",
       "      <td>0</td>\n",
       "      <td>0</td>\n",
       "      <td>283</td>\n",
       "      <td>7.8792</td>\n",
       "      <td>147</td>\n",
       "      <td>1</td>\n",
       "    </tr>\n",
       "    <tr>\n",
       "      <th>...</th>\n",
       "      <td>...</td>\n",
       "      <td>...</td>\n",
       "      <td>...</td>\n",
       "      <td>...</td>\n",
       "      <td>...</td>\n",
       "      <td>...</td>\n",
       "      <td>...</td>\n",
       "      <td>...</td>\n",
       "      <td>...</td>\n",
       "      <td>...</td>\n",
       "    </tr>\n",
       "    <tr>\n",
       "      <th>859</th>\n",
       "      <td>860</td>\n",
       "      <td>3</td>\n",
       "      <td>1</td>\n",
       "      <td>NaN</td>\n",
       "      <td>0</td>\n",
       "      <td>0</td>\n",
       "      <td>178</td>\n",
       "      <td>7.2292</td>\n",
       "      <td>147</td>\n",
       "      <td>0</td>\n",
       "    </tr>\n",
       "    <tr>\n",
       "      <th>863</th>\n",
       "      <td>864</td>\n",
       "      <td>3</td>\n",
       "      <td>0</td>\n",
       "      <td>NaN</td>\n",
       "      <td>8</td>\n",
       "      <td>2</td>\n",
       "      <td>568</td>\n",
       "      <td>69.5500</td>\n",
       "      <td>147</td>\n",
       "      <td>2</td>\n",
       "    </tr>\n",
       "    <tr>\n",
       "      <th>868</th>\n",
       "      <td>869</td>\n",
       "      <td>3</td>\n",
       "      <td>1</td>\n",
       "      <td>NaN</td>\n",
       "      <td>0</td>\n",
       "      <td>0</td>\n",
       "      <td>309</td>\n",
       "      <td>9.5000</td>\n",
       "      <td>147</td>\n",
       "      <td>2</td>\n",
       "    </tr>\n",
       "    <tr>\n",
       "      <th>878</th>\n",
       "      <td>879</td>\n",
       "      <td>3</td>\n",
       "      <td>1</td>\n",
       "      <td>NaN</td>\n",
       "      <td>0</td>\n",
       "      <td>0</td>\n",
       "      <td>363</td>\n",
       "      <td>7.8958</td>\n",
       "      <td>147</td>\n",
       "      <td>2</td>\n",
       "    </tr>\n",
       "    <tr>\n",
       "      <th>888</th>\n",
       "      <td>889</td>\n",
       "      <td>3</td>\n",
       "      <td>0</td>\n",
       "      <td>NaN</td>\n",
       "      <td>1</td>\n",
       "      <td>2</td>\n",
       "      <td>675</td>\n",
       "      <td>23.4500</td>\n",
       "      <td>147</td>\n",
       "      <td>2</td>\n",
       "    </tr>\n",
       "  </tbody>\n",
       "</table>\n",
       "<p>177 rows × 10 columns</p>\n",
       "</div>"
      ],
      "text/plain": [
       "     PassengerId  Pclass  Sex  Age  SibSp  Parch  Ticket     Fare  Cabin  \\\n",
       "5              6       3    1  NaN      0      0     275   8.4583    147   \n",
       "17            18       2    1  NaN      0      0     151  13.0000    147   \n",
       "19            20       3    0  NaN      0      0     184   7.2250    147   \n",
       "26            27       3    1  NaN      0      0     179   7.2250    147   \n",
       "28            29       3    0  NaN      0      0     283   7.8792    147   \n",
       "..           ...     ...  ...  ...    ...    ...     ...      ...    ...   \n",
       "859          860       3    1  NaN      0      0     178   7.2292    147   \n",
       "863          864       3    0  NaN      8      2     568  69.5500    147   \n",
       "868          869       3    1  NaN      0      0     309   9.5000    147   \n",
       "878          879       3    1  NaN      0      0     363   7.8958    147   \n",
       "888          889       3    0  NaN      1      2     675  23.4500    147   \n",
       "\n",
       "     Embarked  \n",
       "5           1  \n",
       "17          2  \n",
       "19          0  \n",
       "26          0  \n",
       "28          1  \n",
       "..        ...  \n",
       "859         0  \n",
       "863         2  \n",
       "868         2  \n",
       "878         2  \n",
       "888         2  \n",
       "\n",
       "[177 rows x 10 columns]"
      ]
     },
     "execution_count": 22,
     "metadata": {},
     "output_type": "execute_result"
    }
   ],
   "source": [
    "titanic.loc[titanic[\"Age\"].isna()==True]"
   ]
  },
  {
   "cell_type": "code",
   "execution_count": 23,
   "id": "533ff73c",
   "metadata": {},
   "outputs": [
    {
     "data": {
      "text/html": [
       "<div>\n",
       "<style scoped>\n",
       "    .dataframe tbody tr th:only-of-type {\n",
       "        vertical-align: middle;\n",
       "    }\n",
       "\n",
       "    .dataframe tbody tr th {\n",
       "        vertical-align: top;\n",
       "    }\n",
       "\n",
       "    .dataframe thead th {\n",
       "        text-align: right;\n",
       "    }\n",
       "</style>\n",
       "<table border=\"1\" class=\"dataframe\">\n",
       "  <thead>\n",
       "    <tr style=\"text-align: right;\">\n",
       "      <th></th>\n",
       "      <th>PassengerId</th>\n",
       "      <th>Pclass</th>\n",
       "      <th>Sex</th>\n",
       "      <th>Age</th>\n",
       "      <th>SibSp</th>\n",
       "      <th>Parch</th>\n",
       "      <th>Ticket</th>\n",
       "      <th>Fare</th>\n",
       "      <th>Cabin</th>\n",
       "      <th>Embarked</th>\n",
       "    </tr>\n",
       "  </thead>\n",
       "  <tbody>\n",
       "  </tbody>\n",
       "</table>\n",
       "</div>"
      ],
      "text/plain": [
       "Empty DataFrame\n",
       "Columns: [PassengerId, Pclass, Sex, Age, SibSp, Parch, Ticket, Fare, Cabin, Embarked]\n",
       "Index: []"
      ]
     },
     "execution_count": 23,
     "metadata": {},
     "output_type": "execute_result"
    }
   ],
   "source": [
    "titanic_train.loc[titanic_train[\"Age\"].isna()==True]\n",
    "# no rows should appear"
   ]
  },
  {
   "cell_type": "code",
   "execution_count": 24,
   "id": "b6768f3e",
   "metadata": {},
   "outputs": [
    {
     "data": {
      "text/html": [
       "<div>\n",
       "<style scoped>\n",
       "    .dataframe tbody tr th:only-of-type {\n",
       "        vertical-align: middle;\n",
       "    }\n",
       "\n",
       "    .dataframe tbody tr th {\n",
       "        vertical-align: top;\n",
       "    }\n",
       "\n",
       "    .dataframe thead th {\n",
       "        text-align: right;\n",
       "    }\n",
       "</style>\n",
       "<table border=\"1\" class=\"dataframe\">\n",
       "  <thead>\n",
       "    <tr style=\"text-align: right;\">\n",
       "      <th></th>\n",
       "      <th>PassengerId</th>\n",
       "      <th>Pclass</th>\n",
       "      <th>Sex</th>\n",
       "      <th>Age</th>\n",
       "      <th>SibSp</th>\n",
       "      <th>Parch</th>\n",
       "      <th>Ticket</th>\n",
       "      <th>Fare</th>\n",
       "      <th>Cabin</th>\n",
       "      <th>Embarked</th>\n",
       "    </tr>\n",
       "  </thead>\n",
       "  <tbody>\n",
       "  </tbody>\n",
       "</table>\n",
       "</div>"
      ],
      "text/plain": [
       "Empty DataFrame\n",
       "Columns: [PassengerId, Pclass, Sex, Age, SibSp, Parch, Ticket, Fare, Cabin, Embarked]\n",
       "Index: []"
      ]
     },
     "execution_count": 24,
     "metadata": {},
     "output_type": "execute_result"
    }
   ],
   "source": [
    "titanic_test.loc[titanic_test[\"Age\"].isna()==True]\n",
    "# no rows should appear"
   ]
  },
  {
   "cell_type": "code",
   "execution_count": 25,
   "id": "297a4a30",
   "metadata": {},
   "outputs": [],
   "source": [
    "def metrics(true_y,prediction_y):\n",
    "    print(f\"Accuracy: {accuracy_score(y_true=true_y,y_pred= prediction_y)}\")\n",
    "    print(f\"Precision (Weighted): {precision_score(y_true=true_y,y_pred= prediction_y, average='weighted')}\")\n",
    "    print(f\"Recall (Weighted): {recall_score(y_true=true_y,y_pred= prediction_y, average='weighted')}\")\n",
    "    print(f\"F1 Score (Weighted): {f1_score(y_true=true_y,y_pred= prediction_y,average='weighted')}\")\n",
    "    print(classification_report(y_true=true_y,y_pred= prediction_y, zero_division='warn'))\n",
    "    confusion_matrix(y_true=true_y,y_pred= prediction_y)"
   ]
  },
  {
   "cell_type": "markdown",
   "id": "6ffef649",
   "metadata": {},
   "source": [
    "<h2>2.2 Training and Test data split</h2>"
   ]
  },
  {
   "cell_type": "markdown",
   "id": "2dcb7a46",
   "metadata": {},
   "source": [
    "<h2>Multinomial Naive Bayes Classifier (naive bayes.MultinomialNB.html)\n",
    "with the default parameters.</h2>"
   ]
  },
  {
   "cell_type": "code",
   "execution_count": 26,
   "id": "bce287e0",
   "metadata": {},
   "outputs": [],
   "source": [
    "classifier = MultinomialNB()\n",
    "if (os.path.exists('models/MNB1_model.pickle')):\n",
    "    pickle_in = open('models/MNB1_model.pickle','rb')\n",
    "    clf1 = pickle.load(pickle_in)\n",
    "    print(\"pickle file used\")\n",
    "else:\n",
    "    classifier = classifier.fit(titanic_train, labels_train)\n",
    "    with open('models/MNB1_model.pickle','wb') as f:\n",
    "        pickle.dump(classifier, f)\n",
    "\n",
    "    pickle_in = open('models/MNB1_model.pickle','rb')\n",
    "    clf1 = pickle.load(pickle_in)\n",
    "pickle_in.close()"
   ]
  },
  {
   "cell_type": "code",
   "execution_count": 27,
   "id": "3b5e415c",
   "metadata": {},
   "outputs": [
    {
     "name": "stdout",
     "output_type": "stream",
     "text": [
      "Accuracy: 0.7150837988826816\n",
      "Precision (Weighted): 0.7123686733928125\n",
      "Recall (Weighted): 0.7150837988826816\n",
      "F1 Score (Weighted): 0.7126068335103507\n",
      "              precision    recall  f1-score   support\n",
      "\n",
      "           0       0.74      0.79      0.76       105\n",
      "           1       0.67      0.61      0.64        74\n",
      "\n",
      "    accuracy                           0.72       179\n",
      "   macro avg       0.71      0.70      0.70       179\n",
      "weighted avg       0.71      0.72      0.71       179\n",
      "\n"
     ]
    },
    {
     "data": {
      "text/plain": [
       "<sklearn.metrics._plot.confusion_matrix.ConfusionMatrixDisplay at 0x2381af8b130>"
      ]
     },
     "execution_count": 27,
     "metadata": {},
     "output_type": "execute_result"
    },
    {
     "data": {
      "image/png": "[encoded data removed]",
      "text/plain": [
       "<Figure size 1000x1000 with 2 Axes>"
      ]
     },
     "metadata": {},
     "output_type": "display_data"
    }
   ],
   "source": [
    "labels_titanic_predict = clf1.predict(titanic_test)\n",
    "\n",
    "metrics(labels_test, labels_titanic_predict)\n",
    "cmp = ConfusionMatrixDisplay(confusion_matrix(y_true=labels_test, y_pred= labels_titanic_predict))\n",
    "fig, ax = plt.subplots(figsize=(10,10))\n",
    "cmp.plot(ax=ax,cmap='magma')"
   ]
  },
  {
   "cell_type": "markdown",
   "id": "0c414581",
   "metadata": {},
   "source": [
    "<h2>Decision Tree (tree.DecisionTreeClassifier) with the default parameters.</h2>"
   ]
  },
  {
   "cell_type": "code",
   "execution_count": 28,
   "id": "ce98aef6",
   "metadata": {},
   "outputs": [],
   "source": [
    "classifier = DecisionTreeClassifier(criterion=\"entropy\") # default measure of chaos is gini in scikit-learn\n",
    "if (os.path.exists('models/DT1_model.pickle')):\n",
    "    pickle_in = open('models/DT1_model.pickle','rb')\n",
    "    clf1 = pickle.load(pickle_in)\n",
    "    print(\"pickle file used\")\n",
    "else:\n",
    "    classifier = classifier.fit(titanic_train, labels_train)\n",
    "    with open('models/DT1_model.pickle','wb') as f:\n",
    "            pickle.dump(classifier, f)\n",
    "    pickle_in = open('models/DT1_model.pickle','rb')\n",
    "    clf1 = pickle.load(pickle_in)\n",
    "pickle_in.close()"
   ]
  },
  {
   "cell_type": "code",
   "execution_count": 29,
   "id": "79de99ce",
   "metadata": {},
   "outputs": [
    {
     "name": "stdout",
     "output_type": "stream",
     "text": [
      "Accuracy: 0.7430167597765364\n",
      "Precision (Weighted): 0.7441586283874245\n",
      "Recall (Weighted): 0.7430167597765364\n",
      "F1 Score (Weighted): 0.743494485030798\n",
      "              precision    recall  f1-score   support\n",
      "\n",
      "           0       0.79      0.77      0.78       105\n",
      "           1       0.68      0.70      0.69        74\n",
      "\n",
      "    accuracy                           0.74       179\n",
      "   macro avg       0.74      0.74      0.74       179\n",
      "weighted avg       0.74      0.74      0.74       179\n",
      "\n"
     ]
    },
    {
     "data": {
      "text/plain": [
       "<sklearn.metrics._plot.confusion_matrix.ConfusionMatrixDisplay at 0x2381f101fc0>"
      ]
     },
     "execution_count": 29,
     "metadata": {},
     "output_type": "execute_result"
    },
    {
     "data": {
      "image/png": "[encoded data removed]",
      "text/plain": [
       "<Figure size 1000x1000 with 2 Axes>"
      ]
     },
     "metadata": {},
     "output_type": "display_data"
    }
   ],
   "source": [
    "labels_titanic_predict = clf1.predict(titanic_test)\n",
    "\n",
    "metrics(labels_test, labels_titanic_predict)\n",
    "cmp = ConfusionMatrixDisplay(confusion_matrix(y_true=labels_test, y_pred= labels_titanic_predict))\n",
    "fig, ax = plt.subplots(figsize=(10,10))\n",
    "cmp.plot(ax=ax,cmap='magma')\n"
   ]
  },
  {
   "cell_type": "code",
   "execution_count": 30,
   "id": "cc5a41a0",
   "metadata": {},
   "outputs": [
    {
     "data": {
      "text/plain": [
       "[Text(0.3682383040935672, 0.9772727272727273, 'Sex <= 0.5\\nentropy = 0.955\\nsamples = 712\\nvalue = [444, 268]'),\n",
       " Text(0.17690058479532164, 0.9318181818181818, 'Pclass <= 2.5\\nentropy = 0.829\\nsamples = 245\\nvalue = [64, 181]'),\n",
       " Text(0.08187134502923976, 0.8863636363636364, 'PassengerId <= 301.0\\nentropy = 0.235\\nsamples = 130\\nvalue = [5, 125]'),\n",
       " Text(0.04678362573099415, 0.8409090909090909, 'Age <= 2.5\\nentropy = 0.513\\nsamples = 35\\nvalue = [4, 31]'),\n",
       " Text(0.03508771929824561, 0.7954545454545454, 'entropy = 0.0\\nsamples = 1\\nvalue = [1, 0]'),\n",
       " Text(0.05847953216374269, 0.7954545454545454, 'Fare <= 29.392\\nentropy = 0.431\\nsamples = 34\\nvalue = [3, 31]'),\n",
       " Text(0.04678362573099415, 0.75, 'Fare <= 28.231\\nentropy = 0.65\\nsamples = 18\\nvalue = [3, 15]'),\n",
       " Text(0.03508771929824561, 0.7045454545454546, 'Age <= 28.0\\nentropy = 0.523\\nsamples = 17\\nvalue = [2, 15]'),\n",
       " Text(0.023391812865497075, 0.6590909090909091, 'Ticket <= 163.0\\nentropy = 0.918\\nsamples = 6\\nvalue = [2, 4]'),\n",
       " Text(0.011695906432748537, 0.6136363636363636, 'entropy = 0.0\\nsamples = 2\\nvalue = [2, 0]'),\n",
       " Text(0.03508771929824561, 0.6136363636363636, 'entropy = 0.0\\nsamples = 4\\nvalue = [0, 4]'),\n",
       " Text(0.04678362573099415, 0.6590909090909091, 'entropy = 0.0\\nsamples = 11\\nvalue = [0, 11]'),\n",
       " Text(0.05847953216374269, 0.7045454545454546, 'entropy = 0.0\\nsamples = 1\\nvalue = [1, 0]'),\n",
       " Text(0.07017543859649122, 0.75, 'entropy = 0.0\\nsamples = 16\\nvalue = [0, 16]'),\n",
       " Text(0.11695906432748537, 0.8409090909090909, 'Ticket <= 40.0\\nentropy = 0.084\\nsamples = 95\\nvalue = [1, 94]'),\n",
       " Text(0.10526315789473684, 0.7954545454545454, 'Fare <= 135.775\\nentropy = 0.391\\nsamples = 13\\nvalue = [1, 12]'),\n",
       " Text(0.0935672514619883, 0.75, 'entropy = 0.0\\nsamples = 11\\nvalue = [0, 11]'),\n",
       " Text(0.11695906432748537, 0.75, 'SibSp <= 0.5\\nentropy = 1.0\\nsamples = 2\\nvalue = [1, 1]'),\n",
       " Text(0.10526315789473684, 0.7045454545454546, 'entropy = 0.0\\nsamples = 1\\nvalue = [0, 1]'),\n",
       " Text(0.1286549707602339, 0.7045454545454546, 'entropy = 0.0\\nsamples = 1\\nvalue = [1, 0]'),\n",
       " Text(0.1286549707602339, 0.7954545454545454, 'entropy = 0.0\\nsamples = 82\\nvalue = [0, 82]'),\n",
       " Text(0.2719298245614035, 0.8863636363636364, 'Fare <= 23.35\\nentropy = 1.0\\nsamples = 115\\nvalue = [59, 56]'),\n",
       " Text(0.2046783625730994, 0.8409090909090909, 'Ticket <= 255.5\\nentropy = 0.979\\nsamples = 94\\nvalue = [39, 55]'),\n",
       " Text(0.15204678362573099, 0.7954545454545454, 'Fare <= 13.371\\nentropy = 0.755\\nsamples = 23\\nvalue = [5, 18]'),\n",
       " Text(0.14035087719298245, 0.75, 'entropy = 0.0\\nsamples = 10\\nvalue = [0, 10]'),\n",
       " Text(0.16374269005847952, 0.75, 'Fare <= 15.494\\nentropy = 0.961\\nsamples = 13\\nvalue = [5, 8]'),\n",
       " Text(0.15204678362573099, 0.7045454545454546, 'PassengerId <= 248.5\\nentropy = 0.65\\nsamples = 6\\nvalue = [5, 1]'),\n",
       " Text(0.14035087719298245, 0.6590909090909091, 'entropy = 0.0\\nsamples = 4\\nvalue = [4, 0]'),\n",
       " Text(0.16374269005847952, 0.6590909090909091, 'Ticket <= 198.0\\nentropy = 1.0\\nsamples = 2\\nvalue = [1, 1]'),\n",
       " Text(0.15204678362573099, 0.6136363636363636, 'entropy = 0.0\\nsamples = 1\\nvalue = [0, 1]'),\n",
       " Text(0.17543859649122806, 0.6136363636363636, 'entropy = 0.0\\nsamples = 1\\nvalue = [1, 0]'),\n",
       " Text(0.17543859649122806, 0.7045454545454546, 'entropy = 0.0\\nsamples = 7\\nvalue = [0, 7]'),\n",
       " Text(0.2573099415204678, 0.7954545454545454, 'Fare <= 10.825\\nentropy = 0.999\\nsamples = 71\\nvalue = [34, 37]'),\n",
       " Text(0.2222222222222222, 0.75, 'SibSp <= 0.5\\nentropy = 0.988\\nsamples = 46\\nvalue = [26, 20]'),\n",
       " Text(0.21052631578947367, 0.7045454545454546, 'Ticket <= 277.0\\nentropy = 1.0\\nsamples = 41\\nvalue = [21, 20]'),\n",
       " Text(0.19883040935672514, 0.6590909090909091, 'entropy = 0.0\\nsamples = 3\\nvalue = [3, 0]'),\n",
       " Text(0.2222222222222222, 0.6590909090909091, 'Fare <= 7.744\\nentropy = 0.998\\nsamples = 38\\nvalue = [18, 20]'),\n",
       " Text(0.19883040935672514, 0.6136363636363636, 'Fare <= 7.0\\nentropy = 0.592\\nsamples = 7\\nvalue = [1, 6]'),\n",
       " Text(0.1871345029239766, 0.5681818181818182, 'entropy = 0.0\\nsamples = 1\\nvalue = [1, 0]'),\n",
       " Text(0.21052631578947367, 0.5681818181818182, 'entropy = 0.0\\nsamples = 6\\nvalue = [0, 6]'),\n",
       " Text(0.24561403508771928, 0.6136363636363636, 'Ticket <= 280.0\\nentropy = 0.993\\nsamples = 31\\nvalue = [17, 14]'),\n",
       " Text(0.23391812865497075, 0.5681818181818182, 'entropy = 0.0\\nsamples = 2\\nvalue = [0, 2]'),\n",
       " Text(0.2573099415204678, 0.5681818181818182, 'Fare <= 10.152\\nentropy = 0.978\\nsamples = 29\\nvalue = [17, 12]'),\n",
       " Text(0.24561403508771928, 0.5227272727272727, 'PassengerId <= 67.0\\nentropy = 0.991\\nsamples = 27\\nvalue = [15, 12]'),\n",
       " Text(0.2222222222222222, 0.4772727272727273, 'Age <= 20.0\\nentropy = 0.811\\nsamples = 4\\nvalue = [1, 3]'),\n",
       " Text(0.21052631578947367, 0.4318181818181818, 'entropy = 0.0\\nsamples = 1\\nvalue = [1, 0]'),\n",
       " Text(0.23391812865497075, 0.4318181818181818, 'entropy = 0.0\\nsamples = 3\\nvalue = [0, 3]'),\n",
       " Text(0.26900584795321636, 0.4772727272727273, 'Ticket <= 330.5\\nentropy = 0.966\\nsamples = 23\\nvalue = [14, 9]'),\n",
       " Text(0.2573099415204678, 0.4318181818181818, 'entropy = 0.0\\nsamples = 4\\nvalue = [4, 0]'),\n",
       " Text(0.2807017543859649, 0.4318181818181818, 'Ticket <= 335.5\\nentropy = 0.998\\nsamples = 19\\nvalue = [10, 9]'),\n",
       " Text(0.26900584795321636, 0.38636363636363635, 'entropy = 0.0\\nsamples = 1\\nvalue = [0, 1]'),\n",
       " Text(0.29239766081871343, 0.38636363636363635, 'PassengerId <= 836.5\\nentropy = 0.991\\nsamples = 18\\nvalue = [10, 8]'),\n",
       " Text(0.2807017543859649, 0.3409090909090909, 'PassengerId <= 803.0\\nentropy = 0.977\\nsamples = 17\\nvalue = [10, 7]'),\n",
       " Text(0.26900584795321636, 0.29545454545454547, 'PassengerId <= 636.0\\nentropy = 0.997\\nsamples = 15\\nvalue = [8, 7]'),\n",
       " Text(0.2573099415204678, 0.25, 'PassengerId <= 493.0\\nentropy = 0.961\\nsamples = 13\\nvalue = [8, 5]'),\n",
       " Text(0.24561403508771928, 0.20454545454545456, 'Fare <= 9.712\\nentropy = 0.991\\nsamples = 9\\nvalue = [4, 5]'),\n",
       " Text(0.23391812865497075, 0.1590909090909091, 'Ticket <= 483.5\\nentropy = 0.954\\nsamples = 8\\nvalue = [3, 5]'),\n",
       " Text(0.2222222222222222, 0.11363636363636363, 'Fare <= 7.875\\nentropy = 1.0\\nsamples = 6\\nvalue = [3, 3]'),\n",
       " Text(0.21052631578947367, 0.06818181818181818, 'Ticket <= 471.5\\nentropy = 0.811\\nsamples = 4\\nvalue = [1, 3]'),\n",
       " Text(0.19883040935672514, 0.022727272727272728, 'entropy = 0.0\\nsamples = 3\\nvalue = [0, 3]'),\n",
       " Text(0.2222222222222222, 0.022727272727272728, 'entropy = 0.0\\nsamples = 1\\nvalue = [1, 0]'),\n",
       " Text(0.23391812865497075, 0.06818181818181818, 'entropy = 0.0\\nsamples = 2\\nvalue = [2, 0]'),\n",
       " Text(0.24561403508771928, 0.11363636363636363, 'entropy = 0.0\\nsamples = 2\\nvalue = [0, 2]'),\n",
       " Text(0.2573099415204678, 0.1590909090909091, 'entropy = 0.0\\nsamples = 1\\nvalue = [1, 0]'),\n",
       " Text(0.26900584795321636, 0.20454545454545456, 'entropy = 0.0\\nsamples = 4\\nvalue = [4, 0]'),\n",
       " Text(0.2807017543859649, 0.25, 'entropy = 0.0\\nsamples = 2\\nvalue = [0, 2]'),\n",
       " Text(0.29239766081871343, 0.29545454545454547, 'entropy = 0.0\\nsamples = 2\\nvalue = [2, 0]'),\n",
       " Text(0.30409356725146197, 0.3409090909090909, 'entropy = 0.0\\nsamples = 1\\nvalue = [0, 1]'),\n",
       " Text(0.26900584795321636, 0.5227272727272727, 'entropy = 0.0\\nsamples = 2\\nvalue = [2, 0]'),\n",
       " Text(0.23391812865497075, 0.7045454545454546, 'entropy = 0.0\\nsamples = 5\\nvalue = [5, 0]'),\n",
       " Text(0.29239766081871343, 0.75, 'SibSp <= 2.5\\nentropy = 0.904\\nsamples = 25\\nvalue = [8, 17]'),\n",
       " Text(0.2807017543859649, 0.7045454545454546, 'Embarked <= 1.5\\nentropy = 0.828\\nsamples = 23\\nvalue = [6, 17]'),\n",
       " Text(0.26900584795321636, 0.6590909090909091, 'entropy = 0.0\\nsamples = 5\\nvalue = [0, 5]'),\n",
       " Text(0.29239766081871343, 0.6590909090909091, 'Fare <= 13.438\\nentropy = 0.918\\nsamples = 18\\nvalue = [6, 12]'),\n",
       " Text(0.2807017543859649, 0.6136363636363636, 'entropy = 0.0\\nsamples = 4\\nvalue = [0, 4]'),\n",
       " Text(0.30409356725146197, 0.6136363636363636, 'PassengerId <= 138.0\\nentropy = 0.985\\nsamples = 14\\nvalue = [6, 8]'),\n",
       " Text(0.29239766081871343, 0.5681818181818182, 'entropy = 0.0\\nsamples = 3\\nvalue = [3, 0]'),\n",
       " Text(0.3157894736842105, 0.5681818181818182, 'PassengerId <= 564.0\\nentropy = 0.845\\nsamples = 11\\nvalue = [3, 8]'),\n",
       " Text(0.30409356725146197, 0.5227272727272727, 'Fare <= 15.125\\nentropy = 0.503\\nsamples = 9\\nvalue = [1, 8]'),\n",
       " Text(0.29239766081871343, 0.4772727272727273, 'entropy = 0.0\\nsamples = 1\\nvalue = [1, 0]'),\n",
       " Text(0.3157894736842105, 0.4772727272727273, 'entropy = 0.0\\nsamples = 8\\nvalue = [0, 8]'),\n",
       " Text(0.32748538011695905, 0.5227272727272727, 'entropy = 0.0\\nsamples = 2\\nvalue = [2, 0]'),\n",
       " Text(0.30409356725146197, 0.7045454545454546, 'entropy = 0.0\\nsamples = 2\\nvalue = [2, 0]'),\n",
       " Text(0.3391812865497076, 0.8409090909090909, 'Age <= 5.5\\nentropy = 0.276\\nsamples = 21\\nvalue = [20, 1]'),\n",
       " Text(0.32748538011695905, 0.7954545454545454, 'Age <= 3.5\\nentropy = 0.918\\nsamples = 3\\nvalue = [2, 1]'),\n",
       " Text(0.3157894736842105, 0.75, 'entropy = 0.0\\nsamples = 2\\nvalue = [2, 0]'),\n",
       " Text(0.3391812865497076, 0.75, 'entropy = 0.0\\nsamples = 1\\nvalue = [0, 1]'),\n",
       " Text(0.3508771929824561, 0.7954545454545454, 'entropy = 0.0\\nsamples = 18\\nvalue = [18, 0]'),\n",
       " Text(0.5595760233918129, 0.9318181818181818, 'Cabin <= 145.0\\nentropy = 0.694\\nsamples = 467\\nvalue = [380, 87]'),\n",
       " Text(0.4298245614035088, 0.8863636363636364, 'Age <= 17.5\\nentropy = 0.977\\nsamples = 85\\nvalue = [50, 35]'),\n",
       " Text(0.41812865497076024, 0.8409090909090909, 'entropy = 0.0\\nsamples = 7\\nvalue = [0, 7]'),\n",
       " Text(0.4415204678362573, 0.8409090909090909, 'Fare <= 7.9\\nentropy = 0.942\\nsamples = 78\\nvalue = [50, 28]'),\n",
       " Text(0.4298245614035088, 0.7954545454545454, 'entropy = 0.0\\nsamples = 8\\nvalue = [8, 0]'),\n",
       " Text(0.45321637426900585, 0.7954545454545454, 'PassengerId <= 586.0\\nentropy = 0.971\\nsamples = 70\\nvalue = [42, 28]'),\n",
       " Text(0.4152046783625731, 0.75, 'Age <= 53.0\\nentropy = 0.867\\nsamples = 45\\nvalue = [32, 13]'),\n",
       " Text(0.40350877192982454, 0.7045454545454546, 'PassengerId <= 495.5\\nentropy = 0.935\\nsamples = 37\\nvalue = [24, 13]'),\n",
       " Text(0.391812865497076, 0.6590909090909091, 'PassengerId <= 361.5\\nentropy = 0.974\\nsamples = 32\\nvalue = [19, 13]'),\n",
       " Text(0.3508771929824561, 0.6136363636363636, 'Ticket <= 45.0\\nentropy = 0.811\\nsamples = 20\\nvalue = [15, 5]'),\n",
       " Text(0.3391812865497076, 0.5681818181818182, 'entropy = 0.0\\nsamples = 6\\nvalue = [6, 0]'),\n",
       " Text(0.36257309941520466, 0.5681818181818182, 'Ticket <= 284.5\\nentropy = 0.94\\nsamples = 14\\nvalue = [9, 5]'),\n",
       " Text(0.3508771929824561, 0.5227272727272727, 'Parch <= 1.5\\nentropy = 0.954\\nsamples = 8\\nvalue = [3, 5]'),\n",
       " Text(0.3391812865497076, 0.4772727272727273, 'Embarked <= 1.5\\nentropy = 0.65\\nsamples = 6\\nvalue = [1, 5]'),\n",
       " Text(0.32748538011695905, 0.4318181818181818, 'entropy = 0.0\\nsamples = 1\\nvalue = [1, 0]'),\n",
       " Text(0.3508771929824561, 0.4318181818181818, 'entropy = 0.0\\nsamples = 5\\nvalue = [0, 5]'),\n",
       " Text(0.36257309941520466, 0.4772727272727273, 'entropy = 0.0\\nsamples = 2\\nvalue = [2, 0]'),\n",
       " Text(0.3742690058479532, 0.5227272727272727, 'entropy = 0.0\\nsamples = 6\\nvalue = [6, 0]'),\n",
       " Text(0.4327485380116959, 0.6136363636363636, 'Ticket <= 30.0\\nentropy = 0.918\\nsamples = 12\\nvalue = [4, 8]'),\n",
       " Text(0.4093567251461988, 0.5681818181818182, 'Fare <= 27.15\\nentropy = 0.811\\nsamples = 4\\nvalue = [3, 1]'),\n",
       " Text(0.39766081871345027, 0.5227272727272727, 'entropy = 0.0\\nsamples = 1\\nvalue = [0, 1]'),\n",
       " Text(0.42105263157894735, 0.5227272727272727, 'entropy = 0.0\\nsamples = 3\\nvalue = [3, 0]'),\n",
       " Text(0.45614035087719296, 0.5681818181818182, 'Age <= 49.5\\nentropy = 0.544\\nsamples = 8\\nvalue = [1, 7]'),\n",
       " Text(0.4444444444444444, 0.5227272727272727, 'entropy = 0.0\\nsamples = 6\\nvalue = [0, 6]'),\n",
       " Text(0.4678362573099415, 0.5227272727272727, 'SibSp <= 0.5\\nentropy = 1.0\\nsamples = 2\\nvalue = [1, 1]'),\n",
       " Text(0.45614035087719296, 0.4772727272727273, 'entropy = 0.0\\nsamples = 1\\nvalue = [0, 1]'),\n",
       " Text(0.47953216374269003, 0.4772727272727273, 'entropy = 0.0\\nsamples = 1\\nvalue = [1, 0]'),\n",
       " Text(0.4152046783625731, 0.6590909090909091, 'entropy = 0.0\\nsamples = 5\\nvalue = [5, 0]'),\n",
       " Text(0.4269005847953216, 0.7045454545454546, 'entropy = 0.0\\nsamples = 8\\nvalue = [8, 0]'),\n",
       " Text(0.49122807017543857, 0.75, 'PassengerId <= 741.5\\nentropy = 0.971\\nsamples = 25\\nvalue = [10, 15]'),\n",
       " Text(0.4678362573099415, 0.7045454545454546, 'Cabin <= 36.0\\nentropy = 0.787\\nsamples = 17\\nvalue = [4, 13]'),\n",
       " Text(0.45614035087719296, 0.6590909090909091, 'entropy = 0.0\\nsamples = 7\\nvalue = [0, 7]'),\n",
       " Text(0.47953216374269003, 0.6590909090909091, 'Cabin <= 88.0\\nentropy = 0.971\\nsamples = 10\\nvalue = [4, 6]'),\n",
       " Text(0.4678362573099415, 0.6136363636363636, 'entropy = 0.0\\nsamples = 3\\nvalue = [3, 0]'),\n",
       " Text(0.49122807017543857, 0.6136363636363636, 'Fare <= 25.938\\nentropy = 0.592\\nsamples = 7\\nvalue = [1, 6]'),\n",
       " Text(0.47953216374269003, 0.5681818181818182, 'entropy = 0.0\\nsamples = 1\\nvalue = [1, 0]'),\n",
       " Text(0.5029239766081871, 0.5681818181818182, 'entropy = 0.0\\nsamples = 6\\nvalue = [0, 6]'),\n",
       " Text(0.5146198830409356, 0.7045454545454546, 'Fare <= 29.85\\nentropy = 0.811\\nsamples = 8\\nvalue = [6, 2]'),\n",
       " Text(0.5029239766081871, 0.6590909090909091, 'entropy = 0.0\\nsamples = 2\\nvalue = [0, 2]'),\n",
       " Text(0.5263157894736842, 0.6590909090909091, 'entropy = 0.0\\nsamples = 6\\nvalue = [6, 0]'),\n",
       " Text(0.689327485380117, 0.8863636363636364, 'Age <= 13.0\\nentropy = 0.574\\nsamples = 382\\nvalue = [330, 52]'),\n",
       " Text(0.5730994152046783, 0.8409090909090909, 'SibSp <= 2.0\\nentropy = 0.996\\nsamples = 26\\nvalue = [14, 12]'),\n",
       " Text(0.5380116959064327, 0.7954545454545454, 'Age <= 10.0\\nentropy = 0.414\\nsamples = 12\\nvalue = [1, 11]'),\n",
       " Text(0.5263157894736842, 0.75, 'entropy = 0.0\\nsamples = 10\\nvalue = [0, 10]'),\n",
       " Text(0.5497076023391813, 0.75, 'SibSp <= 0.5\\nentropy = 1.0\\nsamples = 2\\nvalue = [1, 1]'),\n",
       " Text(0.5380116959064327, 0.7045454545454546, 'entropy = 0.0\\nsamples = 1\\nvalue = [1, 0]'),\n",
       " Text(0.5614035087719298, 0.7045454545454546, 'entropy = 0.0\\nsamples = 1\\nvalue = [0, 1]'),\n",
       " Text(0.6081871345029239, 0.7954545454545454, 'Ticket <= 331.0\\nentropy = 0.371\\nsamples = 14\\nvalue = [13, 1]'),\n",
       " Text(0.5964912280701754, 0.75, 'Fare <= 35.538\\nentropy = 0.722\\nsamples = 5\\nvalue = [4, 1]'),\n",
       " Text(0.5847953216374269, 0.7045454545454546, 'Age <= 6.0\\nentropy = 1.0\\nsamples = 2\\nvalue = [1, 1]'),\n",
       " Text(0.5730994152046783, 0.6590909090909091, 'entropy = 0.0\\nsamples = 1\\nvalue = [0, 1]'),\n",
       " Text(0.5964912280701754, 0.6590909090909091, 'entropy = 0.0\\nsamples = 1\\nvalue = [1, 0]'),\n",
       " Text(0.6081871345029239, 0.7045454545454546, 'entropy = 0.0\\nsamples = 3\\nvalue = [3, 0]'),\n",
       " Text(0.6198830409356725, 0.75, 'entropy = 0.0\\nsamples = 9\\nvalue = [9, 0]'),\n",
       " Text(0.8055555555555556, 0.8409090909090909, 'Ticket <= 652.5\\nentropy = 0.507\\nsamples = 356\\nvalue = [316, 40]'),\n",
       " Text(0.7339181286549707, 0.7954545454545454, 'Ticket <= 91.0\\nentropy = 0.461\\nsamples = 339\\nvalue = [306, 33]'),\n",
       " Text(0.6666666666666666, 0.75, 'Ticket <= 79.5\\nentropy = 0.863\\nsamples = 21\\nvalue = [15, 6]'),\n",
       " Text(0.631578947368421, 0.7045454545454546, 'Ticket <= 12.0\\nentropy = 0.567\\nsamples = 15\\nvalue = [13, 2]'),\n",
       " Text(0.6198830409356725, 0.6590909090909091, 'entropy = 0.0\\nsamples = 1\\nvalue = [0, 1]'),\n",
       " Text(0.6432748538011696, 0.6590909090909091, 'Age <= 27.5\\nentropy = 0.371\\nsamples = 14\\nvalue = [13, 1]'),\n",
       " Text(0.631578947368421, 0.6136363636363636, 'Fare <= 19.275\\nentropy = 1.0\\nsamples = 2\\nvalue = [1, 1]'),\n",
       " Text(0.6198830409356725, 0.5681818181818182, 'entropy = 0.0\\nsamples = 1\\nvalue = [1, 0]'),\n",
       " Text(0.6432748538011696, 0.5681818181818182, 'entropy = 0.0\\nsamples = 1\\nvalue = [0, 1]'),\n",
       " Text(0.6549707602339181, 0.6136363636363636, 'entropy = 0.0\\nsamples = 12\\nvalue = [12, 0]'),\n",
       " Text(0.7017543859649122, 0.7045454545454546, 'Age <= 30.749\\nentropy = 0.918\\nsamples = 6\\nvalue = [2, 4]'),\n",
       " Text(0.6900584795321637, 0.6590909090909091, 'Age <= 27.0\\nentropy = 1.0\\nsamples = 4\\nvalue = [2, 2]'),\n",
       " Text(0.6783625730994152, 0.6136363636363636, 'entropy = 0.0\\nsamples = 1\\nvalue = [0, 1]'),\n",
       " Text(0.7017543859649122, 0.6136363636363636, 'Age <= 28.749\\nentropy = 0.918\\nsamples = 3\\nvalue = [2, 1]'),\n",
       " Text(0.6900584795321637, 0.5681818181818182, 'entropy = 0.0\\nsamples = 1\\nvalue = [1, 0]'),\n",
       " Text(0.7134502923976608, 0.5681818181818182, 'PassengerId <= 760.0\\nentropy = 1.0\\nsamples = 2\\nvalue = [1, 1]'),\n",
       " Text(0.7017543859649122, 0.5227272727272727, 'entropy = 0.0\\nsamples = 1\\nvalue = [0, 1]'),\n",
       " Text(0.7251461988304093, 0.5227272727272727, 'entropy = 0.0\\nsamples = 1\\nvalue = [1, 0]'),\n",
       " Text(0.7134502923976608, 0.6590909090909091, 'entropy = 0.0\\nsamples = 2\\nvalue = [0, 2]'),\n",
       " Text(0.8011695906432749, 0.75, 'Age <= 32.25\\nentropy = 0.419\\nsamples = 318\\nvalue = [291, 27]'),\n",
       " Text(0.7602339181286549, 0.7045454545454546, 'Age <= 18.5\\nentropy = 0.48\\nsamples = 232\\nvalue = [208, 24]'),\n",
       " Text(0.7485380116959064, 0.6590909090909091, 'entropy = 0.0\\nsamples = 24\\nvalue = [24, 0]'),\n",
       " Text(0.7719298245614035, 0.6590909090909091, 'Fare <= 26.125\\nentropy = 0.516\\nsamples = 208\\nvalue = [184, 24]'),\n",
       " Text(0.7602339181286549, 0.6136363636363636, 'Ticket <= 150.0\\nentropy = 0.545\\nsamples = 191\\nvalue = [167, 24]'),\n",
       " Text(0.7485380116959064, 0.5681818181818182, 'entropy = 0.0\\nsamples = 13\\nvalue = [13, 0]'),\n",
       " Text(0.7719298245614035, 0.5681818181818182, 'Ticket <= 172.0\\nentropy = 0.571\\nsamples = 178\\nvalue = [154, 24]'),\n",
       " Text(0.7485380116959064, 0.5227272727272727, 'Age <= 29.749\\nentropy = 0.918\\nsamples = 3\\nvalue = [1, 2]'),\n",
       " Text(0.7368421052631579, 0.4772727272727273, 'entropy = 0.0\\nsamples = 2\\nvalue = [0, 2]'),\n",
       " Text(0.7602339181286549, 0.4772727272727273, 'entropy = 0.0\\nsamples = 1\\nvalue = [1, 0]'),\n",
       " Text(0.7953216374269005, 0.5227272727272727, 'Fare <= 25.733\\nentropy = 0.546\\nsamples = 175\\nvalue = [153, 22]'),\n",
       " Text(0.783625730994152, 0.4772727272727273, 'Fare <= 7.871\\nentropy = 0.531\\nsamples = 174\\nvalue = [153, 21]'),\n",
       " Text(0.7017543859649122, 0.4318181818181818, 'PassengerId <= 287.5\\nentropy = 0.667\\nsamples = 69\\nvalue = [57, 12]'),\n",
       " Text(0.6491228070175439, 0.38636363636363635, 'Age <= 23.0\\nentropy = 0.881\\nsamples = 20\\nvalue = [14, 6]'),\n",
       " Text(0.6374269005847953, 0.3409090909090909, 'entropy = 0.0\\nsamples = 7\\nvalue = [7, 0]'),\n",
       " Text(0.6608187134502924, 0.3409090909090909, 'Age <= 25.5\\nentropy = 0.996\\nsamples = 13\\nvalue = [7, 6]'),\n",
       " Text(0.6491228070175439, 0.29545454545454547, 'entropy = 0.0\\nsamples = 3\\nvalue = [0, 3]'),\n",
       " Text(0.672514619883041, 0.29545454545454547, 'PassengerId <= 151.0\\nentropy = 0.881\\nsamples = 10\\nvalue = [7, 3]'),\n",
       " Text(0.6608187134502924, 0.25, 'Embarked <= 1.5\\nentropy = 1.0\\nsamples = 6\\nvalue = [3, 3]'),\n",
       " Text(0.6491228070175439, 0.20454545454545456, 'Ticket <= 208.5\\nentropy = 0.811\\nsamples = 4\\nvalue = [3, 1]'),\n",
       " Text(0.6374269005847953, 0.1590909090909091, 'PassengerId <= 32.0\\nentropy = 1.0\\nsamples = 2\\nvalue = [1, 1]'),\n",
       " Text(0.6257309941520468, 0.11363636363636363, 'entropy = 0.0\\nsamples = 1\\nvalue = [1, 0]'),\n",
       " Text(0.6491228070175439, 0.11363636363636363, 'entropy = 0.0\\nsamples = 1\\nvalue = [0, 1]'),\n",
       " Text(0.6608187134502924, 0.1590909090909091, 'entropy = 0.0\\nsamples = 2\\nvalue = [2, 0]'),\n",
       " Text(0.672514619883041, 0.20454545454545456, 'entropy = 0.0\\nsamples = 2\\nvalue = [0, 2]'),\n",
       " Text(0.6842105263157895, 0.25, 'entropy = 0.0\\nsamples = 4\\nvalue = [4, 0]'),\n",
       " Text(0.7543859649122807, 0.38636363636363635, 'Ticket <= 483.0\\nentropy = 0.536\\nsamples = 49\\nvalue = [43, 6]'),\n",
       " Text(0.7426900584795322, 0.3409090909090909, 'Ticket <= 475.0\\nentropy = 0.619\\nsamples = 39\\nvalue = [33, 6]'),\n",
       " Text(0.7309941520467836, 0.29545454545454547, 'PassengerId <= 760.0\\nentropy = 0.562\\nsamples = 38\\nvalue = [33, 5]'),\n",
       " Text(0.7076023391812866, 0.25, 'Age <= 31.5\\nentropy = 0.362\\nsamples = 29\\nvalue = [27, 2]'),\n",
       " Text(0.695906432748538, 0.20454545454545456, 'PassengerId <= 394.0\\nentropy = 0.222\\nsamples = 28\\nvalue = [27, 1]'),\n",
       " Text(0.6842105263157895, 0.1590909090909091, 'Ticket <= 362.5\\nentropy = 0.811\\nsamples = 4\\nvalue = [3, 1]'),\n",
       " Text(0.672514619883041, 0.11363636363636363, 'entropy = 0.0\\nsamples = 3\\nvalue = [3, 0]'),\n",
       " Text(0.695906432748538, 0.11363636363636363, 'entropy = 0.0\\nsamples = 1\\nvalue = [0, 1]'),\n",
       " Text(0.7076023391812866, 0.1590909090909091, 'entropy = 0.0\\nsamples = 24\\nvalue = [24, 0]'),\n",
       " Text(0.7192982456140351, 0.20454545454545456, 'entropy = 0.0\\nsamples = 1\\nvalue = [0, 1]'),\n",
       " Text(0.7543859649122807, 0.25, 'Age <= 28.249\\nentropy = 0.918\\nsamples = 9\\nvalue = [6, 3]'),\n",
       " Text(0.7426900584795322, 0.20454545454545456, 'entropy = 0.0\\nsamples = 2\\nvalue = [0, 2]'),\n",
       " Text(0.7660818713450293, 0.20454545454545456, 'Ticket <= 381.0\\nentropy = 0.592\\nsamples = 7\\nvalue = [6, 1]'),\n",
       " Text(0.7543859649122807, 0.1590909090909091, 'entropy = 0.0\\nsamples = 4\\nvalue = [4, 0]'),\n",
       " Text(0.7777777777777778, 0.1590909090909091, 'Ticket <= 445.0\\nentropy = 0.918\\nsamples = 3\\nvalue = [2, 1]'),\n",
       " Text(0.7660818713450293, 0.11363636363636363, 'entropy = 0.0\\nsamples = 1\\nvalue = [0, 1]'),\n",
       " Text(0.7894736842105263, 0.11363636363636363, 'entropy = 0.0\\nsamples = 2\\nvalue = [2, 0]'),\n",
       " Text(0.7543859649122807, 0.29545454545454547, 'entropy = 0.0\\nsamples = 1\\nvalue = [0, 1]'),\n",
       " Text(0.7660818713450293, 0.3409090909090909, 'entropy = 0.0\\nsamples = 10\\nvalue = [10, 0]'),\n",
       " Text(0.8654970760233918, 0.4318181818181818, 'Embarked <= 1.5\\nentropy = 0.422\\nsamples = 105\\nvalue = [96, 9]'),\n",
       " Text(0.8011695906432749, 0.38636363636363635, 'PassengerId <= 195.0\\nentropy = 0.852\\nsamples = 18\\nvalue = [13, 5]'),\n",
       " Text(0.7894736842105263, 0.3409090909090909, 'entropy = 0.0\\nsamples = 6\\nvalue = [6, 0]'),\n",
       " Text(0.8128654970760234, 0.3409090909090909, 'Age <= 29.249\\nentropy = 0.98\\nsamples = 12\\nvalue = [7, 5]'),\n",
       " Text(0.8011695906432749, 0.29545454545454547, 'entropy = 0.0\\nsamples = 3\\nvalue = [0, 3]'),\n",
       " Text(0.8245614035087719, 0.29545454545454547, 'PassengerId <= 305.5\\nentropy = 0.764\\nsamples = 9\\nvalue = [7, 2]'),\n",
       " Text(0.8128654970760234, 0.25, 'entropy = 0.0\\nsamples = 1\\nvalue = [0, 1]'),\n",
       " Text(0.8362573099415205, 0.25, 'Ticket <= 603.0\\nentropy = 0.544\\nsamples = 8\\nvalue = [7, 1]'),\n",
       " Text(0.8245614035087719, 0.20454545454545456, 'entropy = 0.0\\nsamples = 7\\nvalue = [7, 0]'),\n",
       " Text(0.847953216374269, 0.20454545454545456, 'entropy = 0.0\\nsamples = 1\\nvalue = [0, 1]'),\n",
       " Text(0.9298245614035088, 0.38636363636363635, 'Fare <= 9.835\\nentropy = 0.269\\nsamples = 87\\nvalue = [83, 4]'),\n",
       " Text(0.9181286549707602, 0.3409090909090909, 'Fare <= 8.081\\nentropy = 0.353\\nsamples = 60\\nvalue = [56, 4]'),\n",
       " Text(0.8947368421052632, 0.29545454545454547, 'Age <= 19.5\\nentropy = 0.156\\nsamples = 44\\nvalue = [43, 1]'),\n",
       " Text(0.8830409356725146, 0.25, 'PassengerId <= 328.5\\nentropy = 0.811\\nsamples = 4\\nvalue = [3, 1]'),\n",
       " Text(0.8713450292397661, 0.20454545454545456, 'entropy = 0.0\\nsamples = 1\\nvalue = [0, 1]'),\n",
       " Text(0.8947368421052632, 0.20454545454545456, 'entropy = 0.0\\nsamples = 3\\nvalue = [3, 0]'),\n",
       " Text(0.9064327485380117, 0.25, 'entropy = 0.0\\nsamples = 40\\nvalue = [40, 0]'),\n",
       " Text(0.9415204678362573, 0.29545454545454547, 'Age <= 26.5\\nentropy = 0.696\\nsamples = 16\\nvalue = [13, 3]'),\n",
       " Text(0.9298245614035088, 0.25, 'entropy = 0.0\\nsamples = 7\\nvalue = [7, 0]'),\n",
       " Text(0.9532163742690059, 0.25, 'Age <= 27.5\\nentropy = 0.918\\nsamples = 9\\nvalue = [6, 3]'),\n",
       " Text(0.9415204678362573, 0.20454545454545456, 'entropy = 0.0\\nsamples = 1\\nvalue = [0, 1]'),\n",
       " Text(0.9649122807017544, 0.20454545454545456, 'Fare <= 8.238\\nentropy = 0.811\\nsamples = 8\\nvalue = [6, 2]'),\n",
       " Text(0.9532163742690059, 0.1590909090909091, 'entropy = 0.0\\nsamples = 1\\nvalue = [0, 1]'),\n",
       " Text(0.9766081871345029, 0.1590909090909091, 'PassengerId <= 120.5\\nentropy = 0.592\\nsamples = 7\\nvalue = [6, 1]'),\n",
       " Text(0.9649122807017544, 0.11363636363636363, 'entropy = 0.0\\nsamples = 1\\nvalue = [0, 1]'),\n",
       " Text(0.9883040935672515, 0.11363636363636363, 'entropy = 0.0\\nsamples = 6\\nvalue = [6, 0]'),\n",
       " Text(0.9415204678362573, 0.3409090909090909, 'entropy = 0.0\\nsamples = 27\\nvalue = [27, 0]'),\n",
       " Text(0.8070175438596491, 0.4772727272727273, 'entropy = 0.0\\nsamples = 1\\nvalue = [0, 1]'),\n",
       " Text(0.783625730994152, 0.6136363636363636, 'entropy = 0.0\\nsamples = 17\\nvalue = [17, 0]'),\n",
       " Text(0.8421052631578947, 0.7045454545454546, 'Ticket <= 600.0\\nentropy = 0.218\\nsamples = 86\\nvalue = [83, 3]'),\n",
       " Text(0.8187134502923976, 0.6590909090909091, 'Ticket <= 136.5\\nentropy = 0.096\\nsamples = 81\\nvalue = [80, 1]'),\n",
       " Text(0.8070175438596491, 0.6136363636363636, 'Ticket <= 133.0\\nentropy = 0.592\\nsamples = 7\\nvalue = [6, 1]'),\n",
       " Text(0.7953216374269005, 0.5681818181818182, 'entropy = 0.0\\nsamples = 6\\nvalue = [6, 0]'),\n",
       " Text(0.8187134502923976, 0.5681818181818182, 'entropy = 0.0\\nsamples = 1\\nvalue = [0, 1]'),\n",
       " Text(0.8304093567251462, 0.6136363636363636, 'entropy = 0.0\\nsamples = 74\\nvalue = [74, 0]'),\n",
       " Text(0.8654970760233918, 0.6590909090909091, 'Ticket <= 630.0\\nentropy = 0.971\\nsamples = 5\\nvalue = [3, 2]'),\n",
       " Text(0.8538011695906432, 0.6136363636363636, 'PassengerId <= 361.0\\nentropy = 0.918\\nsamples = 3\\nvalue = [1, 2]'),\n",
       " Text(0.8421052631578947, 0.5681818181818182, 'entropy = 0.0\\nsamples = 1\\nvalue = [1, 0]'),\n",
       " Text(0.8654970760233918, 0.5681818181818182, 'entropy = 0.0\\nsamples = 2\\nvalue = [0, 2]'),\n",
       " Text(0.8771929824561403, 0.6136363636363636, 'entropy = 0.0\\nsamples = 2\\nvalue = [2, 0]'),\n",
       " Text(0.8771929824561403, 0.7954545454545454, 'Age <= 20.5\\nentropy = 0.977\\nsamples = 17\\nvalue = [10, 7]'),\n",
       " Text(0.8654970760233918, 0.75, 'entropy = 0.0\\nsamples = 3\\nvalue = [0, 3]'),\n",
       " Text(0.8888888888888888, 0.75, 'Age <= 30.5\\nentropy = 0.863\\nsamples = 14\\nvalue = [10, 4]'),\n",
       " Text(0.8771929824561403, 0.7045454545454546, 'entropy = 0.0\\nsamples = 8\\nvalue = [8, 0]'),\n",
       " Text(0.9005847953216374, 0.7045454545454546, 'Ticket <= 663.5\\nentropy = 0.918\\nsamples = 6\\nvalue = [2, 4]'),\n",
       " Text(0.8888888888888888, 0.6590909090909091, 'entropy = 0.0\\nsamples = 4\\nvalue = [0, 4]'),\n",
       " Text(0.9122807017543859, 0.6590909090909091, 'entropy = 0.0\\nsamples = 2\\nvalue = [2, 0]')]"
      ]
     },
     "execution_count": 30,
     "metadata": {},
     "output_type": "execute_result"
    },
    {
     "data": {
      "image/png": "[encoded data removed]",
      "text/plain": [
       "<Figure size 640x480 with 1 Axes>"
      ]
     },
     "metadata": {},
     "output_type": "display_data"
    }
   ],
   "source": [
    "plot_tree(clf1, feature_names= titanic_train.columns)"
   ]
  },
  {
   "cell_type": "markdown",
   "id": "05bcc7a2",
   "metadata": {},
   "source": [
    "<h2>Multi-Layered Perceptron (neural network.MLPClassifier) with the default parameters.</h2>"
   ]
  },
  {
   "cell_type": "code",
   "execution_count": 31,
   "id": "e5119811",
   "metadata": {},
   "outputs": [],
   "source": [
    "classifier = MLPClassifier()\n",
    "if (os.path.exists('models/MLP1_model.pickle')):\n",
    "    pickle_in = open('models/MLP1_model.pickle','rb')\n",
    "    clf1 = pickle.load(pickle_in)\n",
    "    print(\"pickle file used\")\n",
    "else:\n",
    "    classifier = classifier.fit(titanic_train, labels_train)\n",
    "    with open('models/MLP1_model.pickle','wb') as f:\n",
    "            pickle.dump(classifier, f)\n",
    "    pickle_in = open('models/MLP1_model.pickle','rb')\n",
    "    clf1 = pickle.load(pickle_in)\n",
    "pickle_in.close()"
   ]
  },
  {
   "cell_type": "code",
   "execution_count": 32,
   "id": "5600c20e",
   "metadata": {},
   "outputs": [],
   "source": [
    "# This can be used \n",
    "# print(np.shape(titanic_train))\n",
    "# print(np.shape(labels_train))"
   ]
  },
  {
   "cell_type": "code",
   "execution_count": 33,
   "id": "294d1552",
   "metadata": {
    "scrolled": true
   },
   "outputs": [
    {
     "name": "stdout",
     "output_type": "stream",
     "text": [
      "Accuracy: 0.7430167597765364\n",
      "Precision (Weighted): 0.7533685097251966\n",
      "Recall (Weighted): 0.7430167597765364\n",
      "F1 Score (Weighted): 0.7448662603690536\n",
      "              precision    recall  f1-score   support\n",
      "\n",
      "           0       0.82      0.72      0.77       105\n",
      "           1       0.66      0.77      0.71        74\n",
      "\n",
      "    accuracy                           0.74       179\n",
      "   macro avg       0.74      0.75      0.74       179\n",
      "weighted avg       0.75      0.74      0.74       179\n",
      "\n"
     ]
    },
    {
     "data": {
      "text/plain": [
       "<sklearn.metrics._plot.confusion_matrix.ConfusionMatrixDisplay at 0x2381dc23790>"
      ]
     },
     "execution_count": 33,
     "metadata": {},
     "output_type": "execute_result"
    },
    {
     "data": {
      "image/png": "[encoded data removed]",
      "text/plain": [
       "<Figure size 1000x1000 with 2 Axes>"
      ]
     },
     "metadata": {},
     "output_type": "display_data"
    }
   ],
   "source": [
    "labels_titanic_predict = clf1.predict(titanic_test)\n",
    "metrics(labels_test, labels_titanic_predict)\n",
    "cmp = ConfusionMatrixDisplay(confusion_matrix(y_true=labels_test, y_pred= labels_titanic_predict))\n",
    "fig, ax = plt.subplots(figsize=(10,10))\n",
    "cmp.plot(ax=ax,cmap='magma')"
   ]
  },
  {
   "cell_type": "markdown",
   "id": "6622038a",
   "metadata": {},
   "source": [
    "<h1>Your Turn</h1>\n",
    "\n",
    "Go find a model you want to use on this data<br>\n",
    "\n",
    "Simple things you can try:\n",
    "* manually selecting hyperparameters\n",
    "* change the features\n",
    "* try unsupervised learning \n",
    "\n",
    "If you don't know where to start feel free to discuss with myself or those around you!\n",
    "\n",
    "All models and fancy things can be found here \n",
    "https://scikit-learn.org/stable/modules/classes.html"
   ]
  },
  {
   "cell_type": "code",
   "execution_count": 34,
   "id": "92e40dc9",
   "metadata": {},
   "outputs": [
    {
     "ename": "NameError",
     "evalue": "name 'ModelClass' is not defined",
     "output_type": "error",
     "traceback": [
      "\u001b[1;31m---------------------------------------------------------------------------\u001b[0m",
      "\u001b[1;31mNameError\u001b[0m                                 Traceback (most recent call last)",
      "Cell \u001b[1;32mIn[34], line 1\u001b[0m\n\u001b[1;32m----> 1\u001b[0m classifier \u001b[39m=\u001b[39m ModelClass \u001b[39m# define a model\u001b[39;00m\n\u001b[0;32m      2\u001b[0m modelName \u001b[39m=\u001b[39m \u001b[39m\"\u001b[39m\u001b[39mUserModel\u001b[39m\u001b[39m\"\u001b[39m \u001b[39m# name your model\u001b[39;00m\n\u001b[0;32m      4\u001b[0m \u001b[39mif\u001b[39;00m (os\u001b[39m.\u001b[39mpath\u001b[39m.\u001b[39mexists(\u001b[39mf\u001b[39m\u001b[39m'\u001b[39m\u001b[39mmodels/\u001b[39m\u001b[39m{\u001b[39;00mmodelName\u001b[39m}\u001b[39;00m\u001b[39m.pickle\u001b[39m\u001b[39m'\u001b[39m)):\n",
      "\u001b[1;31mNameError\u001b[0m: name 'ModelClass' is not defined"
     ]
    }
   ],
   "source": [
    "classifier = ModelClass # define a model \n",
    "modelName = \"UserModel\" # name your model\n",
    "\n",
    "if (os.path.exists(f'models/{modelName}.pickle')):\n",
    "    pickle_in = open(f'models/{modelName}.pickle','rb')\n",
    "    clf1 = pickle.load(pickle_in)\n",
    "    print(\"pickle file used\")\n",
    "else:\n",
    "    classifier = classifier.fit(titanic_train, labels_train)\n",
    "    with open(f'models/{modelName}.pickle','wb') as f:\n",
    "            pickle.dump(classifier, f)\n",
    "    pickle_in = open(f'models/{modelName}.pickle','rb')\n",
    "    clf1 = pickle.load(pickle_in)\n",
    "pickle_in.close()"
   ]
  },
  {
   "cell_type": "markdown",
   "id": "66992eee",
   "metadata": {},
   "source": [
    "<h1>Model Refinement Through Hyperparameter Search</h1>\n",
    "\n",
    "Idea is to take find hyperparameter values that will improve the performance of the model's prediction\n",
    "\n",
    "https://scikit-learn.org/stable/modules/classes.html#hyper-parameter-optimizers "
   ]
  },
  {
   "cell_type": "markdown",
   "id": "0769877b",
   "metadata": {},
   "source": [
    "<h2>Multinomial Naive Bayes Classifier found using GridSearchCV</h2>\n",
    "\n",
    "Hyperparameters are called attributes in scikit-learn documentation <br>\n",
    "https://scikit-learn.org/stable/modules/generated/sklearn.naive_bayes.MultinomialNB.html#sklearn.naive_bayes.MultinomialNB\n"
   ]
  },
  {
   "cell_type": "code",
   "execution_count": null,
   "id": "d9ae7194",
   "metadata": {},
   "outputs": [
    {
     "name": "stdout",
     "output_type": "stream",
     "text": [
      "pickle file used\n"
     ]
    }
   ],
   "source": [
    "parameters = {\"alpha\":(0.5,0,0.36,1)}\n",
    "clfMNB = MultinomialNB()\n",
    "\n",
    "classifier = GridSearchCV(estimator=clfMNB, param_grid=parameters,n_jobs=-1, scoring = \"recall\")\n",
    "\n",
    "if (os.path.exists('models/MNB1GridCV_model.pickle')):\n",
    "    pickle_in = open('models/MNB1GridCV_model.pickle','rb')\n",
    "    clf1 = pickle.load(pickle_in)\n",
    "    print(\"pickle file used\")\n",
    "else:\n",
    "    classifier = classifier.fit(titanic_train, labels_train)\n",
    "    with open('models/MNB1GridCV_model.pickle','wb') as f:\n",
    "        pickle.dump(classifier, f)\n",
    "\n",
    "    pickle_in = open('models/MNB1GridCV_model.pickle','rb')\n",
    "    clf1 = pickle.load(pickle_in)\n",
    "pickle_in.close()\n"
   ]
  },
  {
   "cell_type": "code",
   "execution_count": null,
   "id": "a39ec2a9",
   "metadata": {},
   "outputs": [
    {
     "name": "stdout",
     "output_type": "stream",
     "text": [
      "Best estimator: MultinomialNB(alpha=0.5)\n",
      "Accuracy: 0.7150837988826816\n",
      "Precision (Weighted): 0.7123686733928125\n",
      "Recall (Weighted): 0.7150837988826816\n",
      "F1 Score (Weighted): 0.7126068335103507\n",
      "              precision    recall  f1-score   support\n",
      "\n",
      "           0       0.74      0.79      0.76       105\n",
      "           1       0.67      0.61      0.64        74\n",
      "\n",
      "    accuracy                           0.72       179\n",
      "   macro avg       0.71      0.70      0.70       179\n",
      "weighted avg       0.71      0.72      0.71       179\n",
      "\n"
     ]
    },
    {
     "data": {
      "text/plain": [
       "<sklearn.metrics._plot.confusion_matrix.ConfusionMatrixDisplay at 0x2f7241bdea0>"
      ]
     },
     "execution_count": 41,
     "metadata": {},
     "output_type": "execute_result"
    },
    {
     "data": {
      "image/png": "[encoded data removed]",
      "text/plain": [
       "<Figure size 1000x1000 with 2 Axes>"
      ]
     },
     "metadata": {},
     "output_type": "display_data"
    }
   ],
   "source": [
    "labels_titanic_predict = clf1.predict(titanic_test)\n",
    "\n",
    "print(f\"Best estimator: {clf1.best_estimator_}\")\n",
    "metrics(labels_test, labels_titanic_predict)\n",
    "cmp = ConfusionMatrixDisplay(confusion_matrix(y_true=labels_test, y_pred= labels_titanic_predict))\n",
    "fig, ax = plt.subplots(figsize=(10,10))\n",
    "cmp.plot(ax=ax,cmap='magma')"
   ]
  },
  {
   "cell_type": "markdown",
   "id": "d5689bef",
   "metadata": {},
   "source": [
    "<h2>Decision Tree Classifier found using GridSearchCV</h2>\n",
    "\n",
    "Hyperparameters are called attributes in scikit-learn documentation <br>\n",
    "\n",
    "https://scikit-learn.org/stable/modules/generated/sklearn.tree.DecisionTreeClassifier.html#sklearn.tree.DecisionTreeClassifier "
   ]
  },
  {
   "cell_type": "code",
   "execution_count": null,
   "id": "bcf52bf6",
   "metadata": {},
   "outputs": [
    {
     "name": "stdout",
     "output_type": "stream",
     "text": [
      "pickle file used\n"
     ]
    }
   ],
   "source": [
    "parameters = {\"criterion\":(\"gini\",\"entropy\"),\"max_depth\":(100,3,10),\"min_samples_split\":(12,5,30)}\n",
    "clfDT = DecisionTreeClassifier()\n",
    "\n",
    "classifier = GridSearchCV(estimator=clfDT, param_grid=parameters,n_jobs=-1, scoring = \"recall\")\n",
    "\n",
    "if (os.path.exists('models/DT1GridCV_model.pickle')):\n",
    "    pickle_in = open('models/DT1GridCV_model.pickle','rb')\n",
    "    clf1 = pickle.load(pickle_in)\n",
    "    print(\"pickle file used\")\n",
    "else:\n",
    "    classifier = classifier.fit(titanic_train, labels_train)\n",
    "    with open('models/DT1GridCV_model.pickle','wb') as f:\n",
    "        pickle.dump(classifier, f)\n",
    "\n",
    "    pickle_in = open('models/DT1GridCV_model.pickle','rb')\n",
    "    clf1 = pickle.load(pickle_in)\n",
    "pickle_in.close()"
   ]
  },
  {
   "cell_type": "code",
   "execution_count": null,
   "id": "338b507b",
   "metadata": {},
   "outputs": [
    {
     "name": "stdout",
     "output_type": "stream",
     "text": [
      "Best estimator: DecisionTreeClassifier(criterion='entropy', max_depth=3, min_samples_split=30)\n",
      "Accuracy: 0.7988826815642458\n",
      "Precision (Weighted): 0.7987081005586593\n",
      "Recall (Weighted): 0.7988826815642458\n",
      "F1 Score (Weighted): 0.7961666703468987\n",
      "              precision    recall  f1-score   support\n",
      "\n",
      "           0       0.80      0.88      0.84       105\n",
      "           1       0.80      0.69      0.74        74\n",
      "\n",
      "    accuracy                           0.80       179\n",
      "   macro avg       0.80      0.78      0.79       179\n",
      "weighted avg       0.80      0.80      0.80       179\n",
      "\n"
     ]
    },
    {
     "data": {
      "text/plain": [
       "<sklearn.metrics._plot.confusion_matrix.ConfusionMatrixDisplay at 0x2f7270bef20>"
      ]
     },
     "execution_count": 43,
     "metadata": {},
     "output_type": "execute_result"
    },
    {
     "data": {
      "image/png": "[encoded data removed]",
      "text/plain": [
       "<Figure size 1000x1000 with 2 Axes>"
      ]
     },
     "metadata": {},
     "output_type": "display_data"
    }
   ],
   "source": [
    "labels_titanic_predict = clf1.predict(titanic_test)\n",
    "\n",
    "print(f\"Best estimator: {clf1.best_estimator_}\")\n",
    "metrics(labels_test, labels_titanic_predict)\n",
    "cmp = ConfusionMatrixDisplay(confusion_matrix(y_true=labels_test, y_pred= labels_titanic_predict))\n",
    "fig, ax = plt.subplots(figsize=(10,10))\n",
    "cmp.plot(ax=ax,cmap='magma')"
   ]
  },
  {
   "cell_type": "code",
   "execution_count": null,
   "id": "9b8ff239",
   "metadata": {},
   "outputs": [
    {
     "data": {
      "text/plain": [
       "[Text(0.5, 0.875, 'Sex <= 0.5\\nentropy = 0.955\\nsamples = 712\\nvalue = [444, 268]'),\n",
       " Text(0.25, 0.625, 'Pclass <= 2.5\\nentropy = 0.829\\nsamples = 245\\nvalue = [64, 181]'),\n",
       " Text(0.125, 0.375, 'PassengerId <= 301.0\\nentropy = 0.235\\nsamples = 130\\nvalue = [5, 125]'),\n",
       " Text(0.0625, 0.125, 'entropy = 0.513\\nsamples = 35\\nvalue = [4, 31]'),\n",
       " Text(0.1875, 0.125, 'entropy = 0.084\\nsamples = 95\\nvalue = [1, 94]'),\n",
       " Text(0.375, 0.375, 'Fare <= 23.35\\nentropy = 1.0\\nsamples = 115\\nvalue = [59, 56]'),\n",
       " Text(0.3125, 0.125, 'entropy = 0.979\\nsamples = 94\\nvalue = [39, 55]'),\n",
       " Text(0.4375, 0.125, 'entropy = 0.276\\nsamples = 21\\nvalue = [20, 1]'),\n",
       " Text(0.75, 0.625, 'Cabin <= 145.0\\nentropy = 0.694\\nsamples = 467\\nvalue = [380, 87]'),\n",
       " Text(0.625, 0.375, 'Age <= 17.5\\nentropy = 0.977\\nsamples = 85\\nvalue = [50, 35]'),\n",
       " Text(0.5625, 0.125, 'entropy = 0.0\\nsamples = 7\\nvalue = [0, 7]'),\n",
       " Text(0.6875, 0.125, 'entropy = 0.942\\nsamples = 78\\nvalue = [50, 28]'),\n",
       " Text(0.875, 0.375, 'Age <= 13.0\\nentropy = 0.574\\nsamples = 382\\nvalue = [330, 52]'),\n",
       " Text(0.8125, 0.125, 'entropy = 0.996\\nsamples = 26\\nvalue = [14, 12]'),\n",
       " Text(0.9375, 0.125, 'entropy = 0.507\\nsamples = 356\\nvalue = [316, 40]')]"
      ]
     },
     "execution_count": 44,
     "metadata": {},
     "output_type": "execute_result"
    },
    {
     "data": {
      "image/png": "[encoded data removed]",
      "text/plain": [
       "<Figure size 640x480 with 1 Axes>"
      ]
     },
     "metadata": {},
     "output_type": "display_data"
    }
   ],
   "source": [
    "plot_tree(clf1.best_estimator_, feature_names= titanic_train.columns)"
   ]
  },
  {
   "cell_type": "markdown",
   "id": "11f17750",
   "metadata": {},
   "source": [
    "<h2>Multi-Layered Perceptron found using GridSearchCV</h2>\n",
    "\n",
    "Hyperparameters are called attributes in scikit-learn documentation <br>\n",
    "https://scikit-learn.org/stable/modules/generated/sklearn.neural_network.MLPClassifier.html#sklearn.neural_network.MLPClassifier "
   ]
  },
  {
   "cell_type": "code",
   "execution_count": null,
   "id": "2cc7bfe4",
   "metadata": {},
   "outputs": [
    {
     "name": "stdout",
     "output_type": "stream",
     "text": [
      "pickle file used\n"
     ]
    }
   ],
   "source": [
    "parameters = {\"activation\":(\"identity\", \"logistic\", \"tanh\", \"relu\"),\"hidden_layer_sizes\":((11),(121,11),(11,1,3,7)), \"solver\":(\"adam\",\"sgd\")}\n",
    "#currently 5 neurons then 5 neurons and 5 neurons then 10 neurons in the hidden layer\n",
    "clfMLP = MLPClassifier(early_stopping=True, verbose=True, max_iter=50)\n",
    "classifier = GridSearchCV(estimator=clfMLP, param_grid=parameters, n_jobs=-1, scoring = \"recall\")\n",
    "skip=False # when set to False this search will execute\n",
    "\n",
    "if(not skip):\n",
    "    if (os.path.exists('models/MLP1GridCV_model.pickle')):\n",
    "        pickle_in = open('models/MLP1GridCV_model.pickle','rb')\n",
    "        clf1 = pickle.load(pickle_in)\n",
    "        print(\"pickle file used\")\n",
    "    else:\n",
    "        classifier = classifier.fit(titanic_train.values, labels_train.values)\n",
    "        with open('models/MLP1GridCV_model.pickle','wb') as f:\n",
    "            pickle.dump(classifier, f)\n",
    "\n",
    "        pickle_in = open('models/MLP1GridCV_model.pickle','rb')\n",
    "        clf1 = pickle.load(pickle_in)\n",
    "else:\n",
    "    print(\"skipped\")\n",
    "\n",
    "pickle_in.close()"
   ]
  },
  {
   "cell_type": "code",
   "execution_count": null,
   "id": "5e5a6e5c",
   "metadata": {},
   "outputs": [
    {
     "name": "stdout",
     "output_type": "stream",
     "text": [
      "Best estimator: MLPClassifier(early_stopping=True, hidden_layer_sizes=11, max_iter=50,\n",
      "              verbose=True)\n",
      "Accuracy: 0.5865921787709497\n",
      "Precision (Weighted): 0.5627046811789636\n",
      "Recall (Weighted): 0.5865921787709497\n",
      "F1 Score (Weighted): 0.5431078005379681\n",
      "              precision    recall  f1-score   support\n",
      "\n",
      "           0       0.61      0.84      0.70       105\n",
      "           1       0.50      0.23      0.31        74\n",
      "\n",
      "    accuracy                           0.59       179\n",
      "   macro avg       0.55      0.53      0.51       179\n",
      "weighted avg       0.56      0.59      0.54       179\n",
      "\n"
     ]
    },
    {
     "name": "stderr",
     "output_type": "stream",
     "text": [
      "C:\\Users\\chanj\\AppData\\Local\\Packages\\PythonSoftwareFoundation.Python.3.10_qbz5n2kfra8p0\\LocalCache\\local-packages\\Python310\\site-packages\\sklearn\\base.py:443: UserWarning: X has feature names, but MLPClassifier was fitted without feature names\n",
      "  warnings.warn(\n"
     ]
    },
    {
     "data": {
      "image/png": "[encoded data removed]",
      "text/plain": [
       "<Figure size 1000x1000 with 2 Axes>"
      ]
     },
     "metadata": {},
     "output_type": "display_data"
    }
   ],
   "source": [
    "if (os.path.exists('models/MLP1GridCV_model.pickle') and not skip):\n",
    "    labels_titanic_predict = clf1.predict(titanic_test)\n",
    "    print(f\"Best estimator: {clf1.best_estimator_}\")\n",
    "    metrics(labels_test, labels_titanic_predict)\n",
    "    cmp = ConfusionMatrixDisplay(confusion_matrix(y_true=labels_test, y_pred= labels_titanic_predict))\n",
    "    fig, ax = plt.subplots(figsize=(10,10))\n",
    "    cmp.plot(ax=ax,cmap='magma')\n",
    "else:\n",
    "    print(\"skipped\")"
   ]
  },
  {
   "cell_type": "code",
   "execution_count": null,
   "id": "1e7836dc",
   "metadata": {},
   "outputs": [],
   "source": [
    "make each model take independent names so we can graph recall or precision"
   ]
  }
 ],
 "metadata": {
  "kernelspec": {
   "display_name": "Python 3.10.10 64-bit (microsoft store)",
   "language": "python",
   "name": "python3"
  },
  "language_info": {
   "codemirror_mode": {
    "name": "ipython",
    "version": 3
   },
   "file_extension": ".py",
   "mimetype": "text/x-python",
   "name": "python",
   "nbconvert_exporter": "python",
   "pygments_lexer": "ipython3",
   "version": "3.10.10"
  },
  "vscode": {
   "interpreter": {
    "hash": "13809f5fbb2c71687ac0fbc02129e4c89f53832ed2f3a101566dd09001991f6b"
   }
  }
 },
 "nbformat": 4,
 "nbformat_minor": 5
}
