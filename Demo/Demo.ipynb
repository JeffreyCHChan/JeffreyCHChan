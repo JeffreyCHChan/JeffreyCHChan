{
 "cells": [
  {
   "cell_type": "markdown",
   "id": "794c2fb4",
   "metadata": {},
   "source": [
    "<h1>Importing Libraries</h1>\n",
    "\n",
    "Please run \"pip install -r requirements.txt\" from the root of the project "
   ]
  },
  {
   "cell_type": "code",
   "execution_count": 1,
   "id": "b8926ffe",
   "metadata": {},
   "outputs": [],
   "source": [
    "import os\n",
    "import pickle\n",
    "import pandas as pd\n",
    "import numpy as np\n",
    "import matplotlib.pyplot as plt\n",
    "from sklearn.model_selection import train_test_split\n",
    "from sklearn import preprocessing\n",
    "from sklearn.naive_bayes import MultinomialNB\n",
    "from sklearn.tree import DecisionTreeClassifier, plot_tree\n",
    "from sklearn.neural_network import MLPClassifier\n",
    "from sklearn.model_selection import GridSearchCV\n",
    "from sklearn.metrics import f1_score, precision_score, accuracy_score, recall_score, ConfusionMatrixDisplay, confusion_matrix, classification_report\n",
    "import warnings\n",
    "# Disable all FutureWarnings\n",
    "warnings.filterwarnings(\"ignore\", category=FutureWarning)"
   ]
  },
  {
   "cell_type": "markdown",
   "id": "71d8da82",
   "metadata": {},
   "source": [
    "<h1>Titanic Dataset</h1>\n",
    "\n",
    "https://www.kaggle.com/c/titanic/data\n",
    "\n",
    "<h2> Variable Notes </h2>\n",
    "\n",
    "| Variable  | Definition                  | Key                                            |\n",
    "|-----------|-----------------------------|------------------------------------------------|\n",
    "| survival  | Survival                    | 0 = No, 1 = Yes                                |\n",
    "| pclass    | Ticket class                | 1 = 1st, 2 = 2nd, 3 = 3rd                      |\n",
    "| sex       | Sex                         |                                                |\n",
    "| Age       | Age in years                |                                                |\n",
    "| sibsp     | # of siblings / spouses aboard the Titanic |                                      |\n",
    "| parch     | # of parents / children aboard the Titanic |                                      |\n",
    "| ticket    | Ticket number               |                                                |\n",
    "| fare      | Passenger fare              |                                                |\n",
    "| cabin     | Cabin number                |                                                |\n",
    "| embarked  | Port of Embarkation         | C = Cherbourg, Q = Queenstown, S = Southampton |\n"
   ]
  },
  {
   "cell_type": "markdown",
   "id": "2a700020",
   "metadata": {},
   "source": [
    "<h1>Data Preparation</h1>\n",
    "\n",
    "Here the goal is to make the necessary manipulations so that the models will accept them.\n",
    "This includes filling in Nan (Not a number) values in the pandas."
   ]
  },
  {
   "cell_type": "code",
   "execution_count": 2,
   "id": "d80c3f92",
   "metadata": {},
   "outputs": [],
   "source": [
    "\n",
    "label_encoder = preprocessing.LabelEncoder()\n",
    "current_directory = os.getcwd()\n",
    "titanic = pd.read_csv(current_directory+'\\\\titanic.csv')\n",
    "\n",
    "# Operations to create a distinct value that I know I can encode.\n",
    "titanic[\"Cabin\"].fillna(\"Not Known\")\n",
    "titanic[\"Embarked\"].fillna(\"Not Known\")\n",
    "titanic[\"Sex\"].fillna(\"Not Known\")\n",
    "titanic[\"Ticket\"].fillna(\"Not Known\")\n",
    "titanic[\"Name\"].fillna(\"Not Known\")\n",
    "\n",
    "# Encoding the values in these columns then replacing the columns with the encoded version\n",
    "titanic[\"Cabin\"] = label_encoder.fit_transform(titanic[\"Cabin\"])\n",
    "titanic[\"Name\"] = label_encoder.fit_transform(titanic[\"Name\"])\n",
    "titanic[\"Sex\"] = label_encoder.fit_transform(titanic[\"Sex\"])\n",
    "titanic[\"Ticket\"] = label_encoder.fit_transform(titanic[\"Ticket\"])\n",
    "titanic[\"Embarked\"] = label_encoder.fit_transform(titanic[\"Embarked\"])\n",
    "\n",
    "titanic_labels = titanic[\"Survived\"]\n",
    "# The Survived column can be disgarded now as we have separated it from the features into its own variable.\n",
    "titanic = titanic.drop(\"Survived\", axis=1)"
   ]
  },
  {
   "cell_type": "markdown",
   "id": "8df4f7de",
   "metadata": {},
   "source": [
    "<h1>Data Splitting and Final Data Manipulations </h1>\n",
    "\n",
    "A reason to do fillna that would uses an aggregate (sum, mean, min, etc.) is to prevent data leaking between the training set and test set!"
   ]
  },
  {
   "cell_type": "code",
   "execution_count": 3,
   "id": "d4a4c17e",
   "metadata": {},
   "outputs": [],
   "source": [
    "# Play around and see what happens to the models when you change the test-training ratios\n",
    "train_size = 0.8\n",
    "test_size = 1 - train_size\n",
    "assert train_size + test_size == 1\n",
    "\n",
    "# I decided to drop the Name column as I believe it to generate unique values when encoded \n",
    "titanic.drop(\"Name\",axis=1, inplace=True)\n",
    "\n",
    "# train_test_split this is a method that scikit-learn provides in the library\n",
    "titanic_train, titanic_test, labels_train, labels_test = train_test_split(titanic,titanic_labels , train_size=train_size, random_state=42)"
   ]
  },
  {
   "cell_type": "code",
   "execution_count": 4,
   "id": "683a4e68",
   "metadata": {},
   "outputs": [],
   "source": [
    "'''\n",
    "both ways are valid\n",
    "we do fillna here instead of above as we want to avoid data leaking since an average would \n",
    "use all the data in the column before splitting\n",
    "'''\n",
    "titanic_train[\"Age\"].fillna(titanic_train[\"Age\"].mean(), inplace=True)\n",
    "\n",
    "titanic_test[\"Age\"] = titanic_test[\"Age\"].fillna(titanic_test[\"Age\"].mean())\n"
   ]
  },
  {
   "cell_type": "markdown",
   "id": "649ca624",
   "metadata": {},
   "source": [
    "<h1>Quick Check</h1>\n",
    "\n",
    "Always good idea to validate that your data manipulations/operations expectations matches your results."
   ]
  },
  {
   "cell_type": "code",
   "execution_count": 5,
   "id": "b0c850f1",
   "metadata": {},
   "outputs": [
    {
     "data": {
      "text/html": [
       "<div>\n",
       "<style scoped>\n",
       "    .dataframe tbody tr th:only-of-type {\n",
       "        vertical-align: middle;\n",
       "    }\n",
       "\n",
       "    .dataframe tbody tr th {\n",
       "        vertical-align: top;\n",
       "    }\n",
       "\n",
       "    .dataframe thead th {\n",
       "        text-align: right;\n",
       "    }\n",
       "</style>\n",
       "<table border=\"1\" class=\"dataframe\">\n",
       "  <thead>\n",
       "    <tr style=\"text-align: right;\">\n",
       "      <th></th>\n",
       "      <th>PassengerId</th>\n",
       "      <th>Pclass</th>\n",
       "      <th>Sex</th>\n",
       "      <th>Age</th>\n",
       "      <th>SibSp</th>\n",
       "      <th>Parch</th>\n",
       "      <th>Ticket</th>\n",
       "      <th>Fare</th>\n",
       "      <th>Cabin</th>\n",
       "      <th>Embarked</th>\n",
       "    </tr>\n",
       "  </thead>\n",
       "  <tbody>\n",
       "    <tr>\n",
       "      <th>5</th>\n",
       "      <td>6</td>\n",
       "      <td>3</td>\n",
       "      <td>1</td>\n",
       "      <td>NaN</td>\n",
       "      <td>0</td>\n",
       "      <td>0</td>\n",
       "      <td>275</td>\n",
       "      <td>8.4583</td>\n",
       "      <td>147</td>\n",
       "      <td>1</td>\n",
       "    </tr>\n",
       "    <tr>\n",
       "      <th>17</th>\n",
       "      <td>18</td>\n",
       "      <td>2</td>\n",
       "      <td>1</td>\n",
       "      <td>NaN</td>\n",
       "      <td>0</td>\n",
       "      <td>0</td>\n",
       "      <td>151</td>\n",
       "      <td>13.0000</td>\n",
       "      <td>147</td>\n",
       "      <td>2</td>\n",
       "    </tr>\n",
       "    <tr>\n",
       "      <th>19</th>\n",
       "      <td>20</td>\n",
       "      <td>3</td>\n",
       "      <td>0</td>\n",
       "      <td>NaN</td>\n",
       "      <td>0</td>\n",
       "      <td>0</td>\n",
       "      <td>184</td>\n",
       "      <td>7.2250</td>\n",
       "      <td>147</td>\n",
       "      <td>0</td>\n",
       "    </tr>\n",
       "    <tr>\n",
       "      <th>26</th>\n",
       "      <td>27</td>\n",
       "      <td>3</td>\n",
       "      <td>1</td>\n",
       "      <td>NaN</td>\n",
       "      <td>0</td>\n",
       "      <td>0</td>\n",
       "      <td>179</td>\n",
       "      <td>7.2250</td>\n",
       "      <td>147</td>\n",
       "      <td>0</td>\n",
       "    </tr>\n",
       "    <tr>\n",
       "      <th>28</th>\n",
       "      <td>29</td>\n",
       "      <td>3</td>\n",
       "      <td>0</td>\n",
       "      <td>NaN</td>\n",
       "      <td>0</td>\n",
       "      <td>0</td>\n",
       "      <td>283</td>\n",
       "      <td>7.8792</td>\n",
       "      <td>147</td>\n",
       "      <td>1</td>\n",
       "    </tr>\n",
       "    <tr>\n",
       "      <th>...</th>\n",
       "      <td>...</td>\n",
       "      <td>...</td>\n",
       "      <td>...</td>\n",
       "      <td>...</td>\n",
       "      <td>...</td>\n",
       "      <td>...</td>\n",
       "      <td>...</td>\n",
       "      <td>...</td>\n",
       "      <td>...</td>\n",
       "      <td>...</td>\n",
       "    </tr>\n",
       "    <tr>\n",
       "      <th>859</th>\n",
       "      <td>860</td>\n",
       "      <td>3</td>\n",
       "      <td>1</td>\n",
       "      <td>NaN</td>\n",
       "      <td>0</td>\n",
       "      <td>0</td>\n",
       "      <td>178</td>\n",
       "      <td>7.2292</td>\n",
       "      <td>147</td>\n",
       "      <td>0</td>\n",
       "    </tr>\n",
       "    <tr>\n",
       "      <th>863</th>\n",
       "      <td>864</td>\n",
       "      <td>3</td>\n",
       "      <td>0</td>\n",
       "      <td>NaN</td>\n",
       "      <td>8</td>\n",
       "      <td>2</td>\n",
       "      <td>568</td>\n",
       "      <td>69.5500</td>\n",
       "      <td>147</td>\n",
       "      <td>2</td>\n",
       "    </tr>\n",
       "    <tr>\n",
       "      <th>868</th>\n",
       "      <td>869</td>\n",
       "      <td>3</td>\n",
       "      <td>1</td>\n",
       "      <td>NaN</td>\n",
       "      <td>0</td>\n",
       "      <td>0</td>\n",
       "      <td>309</td>\n",
       "      <td>9.5000</td>\n",
       "      <td>147</td>\n",
       "      <td>2</td>\n",
       "    </tr>\n",
       "    <tr>\n",
       "      <th>878</th>\n",
       "      <td>879</td>\n",
       "      <td>3</td>\n",
       "      <td>1</td>\n",
       "      <td>NaN</td>\n",
       "      <td>0</td>\n",
       "      <td>0</td>\n",
       "      <td>363</td>\n",
       "      <td>7.8958</td>\n",
       "      <td>147</td>\n",
       "      <td>2</td>\n",
       "    </tr>\n",
       "    <tr>\n",
       "      <th>888</th>\n",
       "      <td>889</td>\n",
       "      <td>3</td>\n",
       "      <td>0</td>\n",
       "      <td>NaN</td>\n",
       "      <td>1</td>\n",
       "      <td>2</td>\n",
       "      <td>675</td>\n",
       "      <td>23.4500</td>\n",
       "      <td>147</td>\n",
       "      <td>2</td>\n",
       "    </tr>\n",
       "  </tbody>\n",
       "</table>\n",
       "<p>177 rows × 10 columns</p>\n",
       "</div>"
      ],
      "text/plain": [
       "     PassengerId  Pclass  Sex  Age  SibSp  Parch  Ticket     Fare  Cabin  \\\n",
       "5              6       3    1  NaN      0      0     275   8.4583    147   \n",
       "17            18       2    1  NaN      0      0     151  13.0000    147   \n",
       "19            20       3    0  NaN      0      0     184   7.2250    147   \n",
       "26            27       3    1  NaN      0      0     179   7.2250    147   \n",
       "28            29       3    0  NaN      0      0     283   7.8792    147   \n",
       "..           ...     ...  ...  ...    ...    ...     ...      ...    ...   \n",
       "859          860       3    1  NaN      0      0     178   7.2292    147   \n",
       "863          864       3    0  NaN      8      2     568  69.5500    147   \n",
       "868          869       3    1  NaN      0      0     309   9.5000    147   \n",
       "878          879       3    1  NaN      0      0     363   7.8958    147   \n",
       "888          889       3    0  NaN      1      2     675  23.4500    147   \n",
       "\n",
       "     Embarked  \n",
       "5           1  \n",
       "17          2  \n",
       "19          0  \n",
       "26          0  \n",
       "28          1  \n",
       "..        ...  \n",
       "859         0  \n",
       "863         2  \n",
       "868         2  \n",
       "878         2  \n",
       "888         2  \n",
       "\n",
       "[177 rows x 10 columns]"
      ]
     },
     "execution_count": 5,
     "metadata": {},
     "output_type": "execute_result"
    }
   ],
   "source": [
    "titanic.loc[titanic[\"Age\"].isna()==True]"
   ]
  },
  {
   "cell_type": "code",
   "execution_count": 6,
   "id": "533ff73c",
   "metadata": {},
   "outputs": [
    {
     "data": {
      "text/html": [
       "<div>\n",
       "<style scoped>\n",
       "    .dataframe tbody tr th:only-of-type {\n",
       "        vertical-align: middle;\n",
       "    }\n",
       "\n",
       "    .dataframe tbody tr th {\n",
       "        vertical-align: top;\n",
       "    }\n",
       "\n",
       "    .dataframe thead th {\n",
       "        text-align: right;\n",
       "    }\n",
       "</style>\n",
       "<table border=\"1\" class=\"dataframe\">\n",
       "  <thead>\n",
       "    <tr style=\"text-align: right;\">\n",
       "      <th></th>\n",
       "      <th>PassengerId</th>\n",
       "      <th>Pclass</th>\n",
       "      <th>Sex</th>\n",
       "      <th>Age</th>\n",
       "      <th>SibSp</th>\n",
       "      <th>Parch</th>\n",
       "      <th>Ticket</th>\n",
       "      <th>Fare</th>\n",
       "      <th>Cabin</th>\n",
       "      <th>Embarked</th>\n",
       "    </tr>\n",
       "  </thead>\n",
       "  <tbody>\n",
       "  </tbody>\n",
       "</table>\n",
       "</div>"
      ],
      "text/plain": [
       "Empty DataFrame\n",
       "Columns: [PassengerId, Pclass, Sex, Age, SibSp, Parch, Ticket, Fare, Cabin, Embarked]\n",
       "Index: []"
      ]
     },
     "execution_count": 6,
     "metadata": {},
     "output_type": "execute_result"
    }
   ],
   "source": [
    "titanic_train.loc[titanic_train[\"Age\"].isna()==True]"
   ]
  },
  {
   "cell_type": "code",
   "execution_count": 7,
   "id": "b6768f3e",
   "metadata": {},
   "outputs": [
    {
     "data": {
      "text/html": [
       "<div>\n",
       "<style scoped>\n",
       "    .dataframe tbody tr th:only-of-type {\n",
       "        vertical-align: middle;\n",
       "    }\n",
       "\n",
       "    .dataframe tbody tr th {\n",
       "        vertical-align: top;\n",
       "    }\n",
       "\n",
       "    .dataframe thead th {\n",
       "        text-align: right;\n",
       "    }\n",
       "</style>\n",
       "<table border=\"1\" class=\"dataframe\">\n",
       "  <thead>\n",
       "    <tr style=\"text-align: right;\">\n",
       "      <th></th>\n",
       "      <th>PassengerId</th>\n",
       "      <th>Pclass</th>\n",
       "      <th>Sex</th>\n",
       "      <th>Age</th>\n",
       "      <th>SibSp</th>\n",
       "      <th>Parch</th>\n",
       "      <th>Ticket</th>\n",
       "      <th>Fare</th>\n",
       "      <th>Cabin</th>\n",
       "      <th>Embarked</th>\n",
       "    </tr>\n",
       "  </thead>\n",
       "  <tbody>\n",
       "  </tbody>\n",
       "</table>\n",
       "</div>"
      ],
      "text/plain": [
       "Empty DataFrame\n",
       "Columns: [PassengerId, Pclass, Sex, Age, SibSp, Parch, Ticket, Fare, Cabin, Embarked]\n",
       "Index: []"
      ]
     },
     "execution_count": 7,
     "metadata": {},
     "output_type": "execute_result"
    }
   ],
   "source": [
    "titanic_test.loc[titanic_test[\"Age\"].isna()==True]"
   ]
  },
  {
   "cell_type": "code",
   "execution_count": 8,
   "id": "297a4a30",
   "metadata": {},
   "outputs": [],
   "source": [
    "def metrics(true_y,prediction_y):\n",
    "    print(f\"Accuracy: {accuracy_score(y_true=true_y,y_pred= prediction_y)}\")\n",
    "    print(f\"Precision (Weighted): {precision_score(y_true=true_y,y_pred= prediction_y, average='weighted')}\")\n",
    "    print(f\"Recall (Weighted): {recall_score(y_true=true_y,y_pred= prediction_y, average='weighted')}\")\n",
    "    print(f\"F1 Score (Weighted): {f1_score(y_true=true_y,y_pred= prediction_y,average='weighted')}\")\n",
    "    print(classification_report(y_true=true_y,y_pred= prediction_y, zero_division='warn'))\n",
    "    confusion_matrix(y_true=true_y,y_pred= prediction_y)"
   ]
  },
  {
   "cell_type": "markdown",
   "id": "6ffef649",
   "metadata": {},
   "source": [
    "<h2>2.2 Training and Test data split</h2>"
   ]
  },
  {
   "cell_type": "markdown",
   "id": "2dcb7a46",
   "metadata": {},
   "source": [
    "<h2>Multinomial Naive Bayes Classifier (naive bayes.MultinomialNB.html)\n",
    "with the default parameters.</h2>"
   ]
  },
  {
   "cell_type": "code",
   "execution_count": 9,
   "id": "bce287e0",
   "metadata": {},
   "outputs": [
    {
     "name": "stdout",
     "output_type": "stream",
     "text": [
      "pickle file used\n"
     ]
    }
   ],
   "source": [
    "classifier = MultinomialNB()\n",
    "if (os.path.exists('models/MNB1_model.pickle')):\n",
    "    pickle_in = open('models/MNB1_model.pickle','rb')\n",
    "    clf1 = pickle.load(pickle_in)\n",
    "    print(\"pickle file used\")\n",
    "else:\n",
    "    classifier = classifier.fit(titanic_train, labels_train)\n",
    "    with open('models/MNB1_model.pickle','wb') as f:\n",
    "        pickle.dump(classifier, f)\n",
    "\n",
    "    pickle_in = open('models/MNB1_model.pickle','rb')\n",
    "    clf1 = pickle.load(pickle_in)\n",
    "pickle_in.close()"
   ]
  },
  {
   "cell_type": "code",
   "execution_count": 10,
   "id": "3b5e415c",
   "metadata": {},
   "outputs": [
    {
     "name": "stdout",
     "output_type": "stream",
     "text": [
      "Accuracy: 0.7150837988826816\n",
      "Precision (Weighted): 0.7123686733928125\n",
      "Recall (Weighted): 0.7150837988826816\n",
      "F1 Score (Weighted): 0.7126068335103507\n",
      "              precision    recall  f1-score   support\n",
      "\n",
      "           0       0.74      0.79      0.76       105\n",
      "           1       0.67      0.61      0.64        74\n",
      "\n",
      "    accuracy                           0.72       179\n",
      "   macro avg       0.71      0.70      0.70       179\n",
      "weighted avg       0.71      0.72      0.71       179\n",
      "\n"
     ]
    },
    {
     "data": {
      "text/plain": [
       "<sklearn.metrics._plot.confusion_matrix.ConfusionMatrixDisplay at 0x1d5fd50e230>"
      ]
     },
     "execution_count": 10,
     "metadata": {},
     "output_type": "execute_result"
    },
    {
     "data": {
      "image/png": "[encoded data removed]",
      "text/plain": [
       "<Figure size 1000x1000 with 2 Axes>"
      ]
     },
     "metadata": {},
     "output_type": "display_data"
    }
   ],
   "source": [
    "labels_titanic_predict = clf1.predict(titanic_test)\n",
    "\n",
    "metrics(labels_test, labels_titanic_predict)\n",
    "cmp = ConfusionMatrixDisplay(confusion_matrix(y_true=labels_test, y_pred= labels_titanic_predict))\n",
    "fig, ax = plt.subplots(figsize=(10,10))\n",
    "cmp.plot(ax=ax,cmap='magma')"
   ]
  },
  {
   "cell_type": "markdown",
   "id": "0c414581",
   "metadata": {},
   "source": [
    "<h2>Decision Tree (tree.DecisionTreeClassifier) with the default parameters.</h2>"
   ]
  },
  {
   "cell_type": "code",
   "execution_count": 11,
   "id": "ce98aef6",
   "metadata": {},
   "outputs": [
    {
     "name": "stdout",
     "output_type": "stream",
     "text": [
      "pickle file used\n"
     ]
    }
   ],
   "source": [
    "classifier = DecisionTreeClassifier(criterion=\"entropy\") # default measure of chaos is gini in scikit-learn\n",
    "if (os.path.exists('models/DT1_model.pickle')):\n",
    "    pickle_in = open('models/DT1_model.pickle','rb')\n",
    "    clf1 = pickle.load(pickle_in)\n",
    "    print(\"pickle file used\")\n",
    "else:\n",
    "    classifier = classifier.fit(titanic_train, labels_train)\n",
    "    with open('models/DT1_model.pickle','wb') as f:\n",
    "            pickle.dump(classifier, f)\n",
    "    pickle_in = open('models/DT1_model.pickle','rb')\n",
    "    clf1 = pickle.load(pickle_in)\n",
    "pickle_in.close()"
   ]
  },
  {
   "cell_type": "code",
   "execution_count": 12,
   "id": "79de99ce",
   "metadata": {},
   "outputs": [
    {
     "name": "stdout",
     "output_type": "stream",
     "text": [
      "Accuracy: 0.7653631284916201\n",
      "Precision (Weighted): 0.7645567564118183\n",
      "Recall (Weighted): 0.7653631284916201\n",
      "F1 Score (Weighted): 0.7648628043277679\n",
      "              precision    recall  f1-score   support\n",
      "\n",
      "           0       0.79      0.81      0.80       105\n",
      "           1       0.72      0.70      0.71        74\n",
      "\n",
      "    accuracy                           0.77       179\n",
      "   macro avg       0.76      0.76      0.76       179\n",
      "weighted avg       0.76      0.77      0.76       179\n",
      "\n"
     ]
    },
    {
     "data": {
      "text/plain": [
       "<sklearn.metrics._plot.confusion_matrix.ConfusionMatrixDisplay at 0x1d624c0ceb0>"
      ]
     },
     "execution_count": 12,
     "metadata": {},
     "output_type": "execute_result"
    },
    {
     "data": {
      "image/png": "[encoded data removed]",
      "text/plain": [
       "<Figure size 1000x1000 with 2 Axes>"
      ]
     },
     "metadata": {},
     "output_type": "display_data"
    }
   ],
   "source": [
    "labels_titanic_predict = clf1.predict(titanic_test)\n",
    "\n",
    "metrics(labels_test, labels_titanic_predict)\n",
    "cmp = ConfusionMatrixDisplay(confusion_matrix(y_true=labels_test, y_pred= labels_titanic_predict))\n",
    "fig, ax = plt.subplots(figsize=(10,10))\n",
    "cmp.plot(ax=ax,cmap='magma')\n"
   ]
  },
  {
   "cell_type": "code",
   "execution_count": 13,
   "id": "cc5a41a0",
   "metadata": {},
   "outputs": [
    {
     "data": {
      "text/plain": [
       "[Text(0.314824141855315, 0.9722222222222222, 'Sex <= 0.5\\ngini = 0.469\\nsamples = 712\\nvalue = [444, 268]'),\n",
       " Text(0.1465305118110236, 0.9166666666666666, 'Pclass <= 2.5\\ngini = 0.386\\nsamples = 245\\nvalue = [64, 181]'),\n",
       " Text(0.04330708661417323, 0.8611111111111112, 'Age <= 2.5\\ngini = 0.074\\nsamples = 130\\nvalue = [5, 125]'),\n",
       " Text(0.023622047244094488, 0.8055555555555556, 'PassengerId <= 414.5\\ngini = 0.5\\nsamples = 2\\nvalue = [1, 1]'),\n",
       " Text(0.015748031496062992, 0.75, 'gini = 0.0\\nsamples = 1\\nvalue = [1, 0]'),\n",
       " Text(0.031496062992125984, 0.75, 'gini = 0.0\\nsamples = 1\\nvalue = [0, 1]'),\n",
       " Text(0.06299212598425197, 0.8055555555555556, 'PassengerId <= 215.5\\ngini = 0.061\\nsamples = 128\\nvalue = [4, 124]'),\n",
       " Text(0.047244094488188976, 0.75, 'PassengerId <= 198.0\\ngini = 0.219\\nsamples = 24\\nvalue = [3, 21]'),\n",
       " Text(0.03937007874015748, 0.6944444444444444, 'Fare <= 29.392\\ngini = 0.159\\nsamples = 23\\nvalue = [2, 21]'),\n",
       " Text(0.031496062992125984, 0.6388888888888888, 'Fare <= 28.231\\ngini = 0.26\\nsamples = 13\\nvalue = [2, 11]'),\n",
       " Text(0.023622047244094488, 0.5833333333333334, 'Ticket <= 82.0\\ngini = 0.153\\nsamples = 12\\nvalue = [1, 11]'),\n",
       " Text(0.015748031496062992, 0.5277777777777778, 'Age <= 42.5\\ngini = 0.5\\nsamples = 2\\nvalue = [1, 1]'),\n",
       " Text(0.007874015748031496, 0.4722222222222222, 'gini = 0.0\\nsamples = 1\\nvalue = [1, 0]'),\n",
       " Text(0.023622047244094488, 0.4722222222222222, 'gini = 0.0\\nsamples = 1\\nvalue = [0, 1]'),\n",
       " Text(0.031496062992125984, 0.5277777777777778, 'gini = 0.0\\nsamples = 10\\nvalue = [0, 10]'),\n",
       " Text(0.03937007874015748, 0.5833333333333334, 'gini = 0.0\\nsamples = 1\\nvalue = [1, 0]'),\n",
       " Text(0.047244094488188976, 0.6388888888888888, 'gini = 0.0\\nsamples = 10\\nvalue = [0, 10]'),\n",
       " Text(0.05511811023622047, 0.6944444444444444, 'gini = 0.0\\nsamples = 1\\nvalue = [1, 0]'),\n",
       " Text(0.07874015748031496, 0.75, 'Ticket <= 40.0\\ngini = 0.019\\nsamples = 104\\nvalue = [1, 103]'),\n",
       " Text(0.07086614173228346, 0.6944444444444444, 'Ticket <= 35.0\\ngini = 0.133\\nsamples = 14\\nvalue = [1, 13]'),\n",
       " Text(0.06299212598425197, 0.6388888888888888, 'gini = 0.0\\nsamples = 12\\nvalue = [0, 12]'),\n",
       " Text(0.07874015748031496, 0.6388888888888888, 'Parch <= 1.0\\ngini = 0.5\\nsamples = 2\\nvalue = [1, 1]'),\n",
       " Text(0.07086614173228346, 0.5833333333333334, 'gini = 0.0\\nsamples = 1\\nvalue = [0, 1]'),\n",
       " Text(0.08661417322834646, 0.5833333333333334, 'gini = 0.0\\nsamples = 1\\nvalue = [1, 0]'),\n",
       " Text(0.08661417322834646, 0.6944444444444444, 'gini = 0.0\\nsamples = 90\\nvalue = [0, 90]'),\n",
       " Text(0.24975393700787402, 0.8611111111111112, 'Fare <= 23.35\\ngini = 0.5\\nsamples = 115\\nvalue = [59, 56]'),\n",
       " Text(0.17667322834645668, 0.8055555555555556, 'Ticket <= 255.5\\ngini = 0.486\\nsamples = 94\\nvalue = [39, 55]'),\n",
       " Text(0.11023622047244094, 0.75, 'Fare <= 13.371\\ngini = 0.34\\nsamples = 23\\nvalue = [5, 18]'),\n",
       " Text(0.10236220472440945, 0.6944444444444444, 'gini = 0.0\\nsamples = 10\\nvalue = [0, 10]'),\n",
       " Text(0.11811023622047244, 0.6944444444444444, 'Fare <= 15.494\\ngini = 0.473\\nsamples = 13\\nvalue = [5, 8]'),\n",
       " Text(0.11023622047244094, 0.6388888888888888, 'PassengerId <= 248.5\\ngini = 0.278\\nsamples = 6\\nvalue = [5, 1]'),\n",
       " Text(0.10236220472440945, 0.5833333333333334, 'gini = 0.0\\nsamples = 4\\nvalue = [4, 0]'),\n",
       " Text(0.11811023622047244, 0.5833333333333334, 'Parch <= 1.5\\ngini = 0.5\\nsamples = 2\\nvalue = [1, 1]'),\n",
       " Text(0.11023622047244094, 0.5277777777777778, 'gini = 0.0\\nsamples = 1\\nvalue = [1, 0]'),\n",
       " Text(0.12598425196850394, 0.5277777777777778, 'gini = 0.0\\nsamples = 1\\nvalue = [0, 1]'),\n",
       " Text(0.12598425196850394, 0.6388888888888888, 'gini = 0.0\\nsamples = 7\\nvalue = [0, 7]'),\n",
       " Text(0.24311023622047245, 0.75, 'Fare <= 10.825\\ngini = 0.499\\nsamples = 71\\nvalue = [34, 37]'),\n",
       " Text(0.19488188976377951, 0.6944444444444444, 'Fare <= 8.04\\ngini = 0.491\\nsamples = 46\\nvalue = [26, 20]'),\n",
       " Text(0.16929133858267717, 0.6388888888888888, 'PassengerId <= 729.0\\ngini = 0.49\\nsamples = 28\\nvalue = [12, 16]'),\n",
       " Text(0.16141732283464566, 0.5833333333333334, 'Ticket <= 445.0\\ngini = 0.461\\nsamples = 25\\nvalue = [9, 16]'),\n",
       " Text(0.14173228346456693, 0.5277777777777778, 'Ticket <= 426.0\\ngini = 0.498\\nsamples = 17\\nvalue = [8, 9]'),\n",
       " Text(0.13385826771653545, 0.4722222222222222, 'Embarked <= 1.5\\ngini = 0.459\\nsamples = 14\\nvalue = [5, 9]'),\n",
       " Text(0.11811023622047244, 0.4166666666666667, 'Fare <= 7.681\\ngini = 0.245\\nsamples = 7\\nvalue = [1, 6]'),\n",
       " Text(0.11023622047244094, 0.3611111111111111, 'gini = 0.0\\nsamples = 1\\nvalue = [1, 0]'),\n",
       " Text(0.12598425196850394, 0.3611111111111111, 'gini = 0.0\\nsamples = 6\\nvalue = [0, 6]'),\n",
       " Text(0.14960629921259844, 0.4166666666666667, 'PassengerId <= 296.5\\ngini = 0.49\\nsamples = 7\\nvalue = [4, 3]'),\n",
       " Text(0.14173228346456693, 0.3611111111111111, 'Fare <= 7.7\\ngini = 0.32\\nsamples = 5\\nvalue = [4, 1]'),\n",
       " Text(0.13385826771653545, 0.3055555555555556, 'gini = 0.0\\nsamples = 1\\nvalue = [0, 1]'),\n",
       " Text(0.14960629921259844, 0.3055555555555556, 'gini = 0.0\\nsamples = 4\\nvalue = [4, 0]'),\n",
       " Text(0.15748031496062992, 0.3611111111111111, 'gini = 0.0\\nsamples = 2\\nvalue = [0, 2]'),\n",
       " Text(0.14960629921259844, 0.4722222222222222, 'gini = 0.0\\nsamples = 3\\nvalue = [3, 0]'),\n",
       " Text(0.18110236220472442, 0.5277777777777778, 'PassengerId <= 270.0\\ngini = 0.219\\nsamples = 8\\nvalue = [1, 7]'),\n",
       " Text(0.1732283464566929, 0.4722222222222222, 'Embarked <= 1.5\\ngini = 0.444\\nsamples = 3\\nvalue = [1, 2]'),\n",
       " Text(0.16535433070866143, 0.4166666666666667, 'gini = 0.0\\nsamples = 1\\nvalue = [1, 0]'),\n",
       " Text(0.18110236220472442, 0.4166666666666667, 'gini = 0.0\\nsamples = 2\\nvalue = [0, 2]'),\n",
       " Text(0.1889763779527559, 0.4722222222222222, 'gini = 0.0\\nsamples = 5\\nvalue = [0, 5]'),\n",
       " Text(0.17716535433070865, 0.5833333333333334, 'gini = 0.0\\nsamples = 3\\nvalue = [3, 0]'),\n",
       " Text(0.2204724409448819, 0.6388888888888888, 'PassengerId <= 621.5\\ngini = 0.346\\nsamples = 18\\nvalue = [14, 4]'),\n",
       " Text(0.2047244094488189, 0.5833333333333334, 'Age <= 51.5\\ngini = 0.142\\nsamples = 13\\nvalue = [12, 1]'),\n",
       " Text(0.1968503937007874, 0.5277777777777778, 'gini = 0.0\\nsamples = 12\\nvalue = [12, 0]'),\n",
       " Text(0.2125984251968504, 0.5277777777777778, 'gini = 0.0\\nsamples = 1\\nvalue = [0, 1]'),\n",
       " Text(0.23622047244094488, 0.5833333333333334, 'Age <= 20.0\\ngini = 0.48\\nsamples = 5\\nvalue = [2, 3]'),\n",
       " Text(0.2283464566929134, 0.5277777777777778, 'gini = 0.0\\nsamples = 2\\nvalue = [0, 2]'),\n",
       " Text(0.2440944881889764, 0.5277777777777778, 'Age <= 30.249\\ngini = 0.444\\nsamples = 3\\nvalue = [2, 1]'),\n",
       " Text(0.23622047244094488, 0.4722222222222222, 'gini = 0.0\\nsamples = 2\\nvalue = [2, 0]'),\n",
       " Text(0.25196850393700787, 0.4722222222222222, 'gini = 0.0\\nsamples = 1\\nvalue = [0, 1]'),\n",
       " Text(0.29133858267716534, 0.6944444444444444, 'SibSp <= 2.5\\ngini = 0.435\\nsamples = 25\\nvalue = [8, 17]'),\n",
       " Text(0.28346456692913385, 0.6388888888888888, 'Ticket <= 337.5\\ngini = 0.386\\nsamples = 23\\nvalue = [6, 17]'),\n",
       " Text(0.2677165354330709, 0.5833333333333334, 'Ticket <= 300.5\\ngini = 0.48\\nsamples = 5\\nvalue = [3, 2]'),\n",
       " Text(0.25984251968503935, 0.5277777777777778, 'gini = 0.0\\nsamples = 2\\nvalue = [0, 2]'),\n",
       " Text(0.2755905511811024, 0.5277777777777778, 'gini = 0.0\\nsamples = 3\\nvalue = [3, 0]'),\n",
       " Text(0.2992125984251969, 0.5833333333333334, 'Parch <= 3.0\\ngini = 0.278\\nsamples = 18\\nvalue = [3, 15]'),\n",
       " Text(0.29133858267716534, 0.5277777777777778, 'Age <= 41.0\\ngini = 0.208\\nsamples = 17\\nvalue = [2, 15]'),\n",
       " Text(0.28346456692913385, 0.4722222222222222, 'PassengerId <= 615.5\\ngini = 0.117\\nsamples = 16\\nvalue = [1, 15]'),\n",
       " Text(0.2755905511811024, 0.4166666666666667, 'gini = 0.0\\nsamples = 13\\nvalue = [0, 13]'),\n",
       " Text(0.29133858267716534, 0.4166666666666667, 'Ticket <= 511.0\\ngini = 0.444\\nsamples = 3\\nvalue = [1, 2]'),\n",
       " Text(0.28346456692913385, 0.3611111111111111, 'gini = 0.0\\nsamples = 2\\nvalue = [0, 2]'),\n",
       " Text(0.2992125984251969, 0.3611111111111111, 'gini = 0.0\\nsamples = 1\\nvalue = [1, 0]'),\n",
       " Text(0.2992125984251969, 0.4722222222222222, 'gini = 0.0\\nsamples = 1\\nvalue = [1, 0]'),\n",
       " Text(0.30708661417322836, 0.5277777777777778, 'gini = 0.0\\nsamples = 1\\nvalue = [1, 0]'),\n",
       " Text(0.2992125984251969, 0.6388888888888888, 'gini = 0.0\\nsamples = 2\\nvalue = [2, 0]'),\n",
       " Text(0.3228346456692913, 0.8055555555555556, 'Age <= 5.5\\ngini = 0.091\\nsamples = 21\\nvalue = [20, 1]'),\n",
       " Text(0.31496062992125984, 0.75, 'Ticket <= 331.0\\ngini = 0.444\\nsamples = 3\\nvalue = [2, 1]'),\n",
       " Text(0.30708661417322836, 0.6944444444444444, 'gini = 0.0\\nsamples = 1\\nvalue = [0, 1]'),\n",
       " Text(0.3228346456692913, 0.6944444444444444, 'gini = 0.0\\nsamples = 2\\nvalue = [2, 0]'),\n",
       " Text(0.33070866141732286, 0.75, 'gini = 0.0\\nsamples = 18\\nvalue = [18, 0]'),\n",
       " Text(0.4831177718996063, 0.9166666666666666, 'Age <= 6.5\\ngini = 0.303\\nsamples = 467\\nvalue = [380, 87]'),\n",
       " Text(0.3464566929133858, 0.8611111111111112, 'SibSp <= 2.5\\ngini = 0.434\\nsamples = 22\\nvalue = [7, 15]'),\n",
       " Text(0.33858267716535434, 0.8055555555555556, 'gini = 0.0\\nsamples = 14\\nvalue = [0, 14]'),\n",
       " Text(0.3543307086614173, 0.8055555555555556, 'Ticket <= 331.0\\ngini = 0.219\\nsamples = 8\\nvalue = [7, 1]'),\n",
       " Text(0.3464566929133858, 0.75, 'Fare <= 35.538\\ngini = 0.444\\nsamples = 3\\nvalue = [2, 1]'),\n",
       " Text(0.33858267716535434, 0.6944444444444444, 'gini = 0.0\\nsamples = 1\\nvalue = [0, 1]'),\n",
       " Text(0.3543307086614173, 0.6944444444444444, 'gini = 0.0\\nsamples = 2\\nvalue = [2, 0]'),\n",
       " Text(0.36220472440944884, 0.75, 'gini = 0.0\\nsamples = 5\\nvalue = [5, 0]'),\n",
       " Text(0.6197788508858267, 0.8611111111111112, 'Cabin <= 121.0\\ngini = 0.271\\nsamples = 445\\nvalue = [373, 72]'),\n",
       " Text(0.4409448818897638, 0.8055555555555556, 'Cabin <= 100.5\\ngini = 0.483\\nsamples = 66\\nvalue = [39, 27]'),\n",
       " Text(0.4015748031496063, 0.75, 'Ticket <= 38.0\\ngini = 0.431\\nsamples = 54\\nvalue = [37, 17]'),\n",
       " Text(0.3700787401574803, 0.6944444444444444, 'Parch <= 1.0\\ngini = 0.198\\nsamples = 18\\nvalue = [16, 2]'),\n",
       " Text(0.3543307086614173, 0.6388888888888888, 'Ticket <= 4.0\\ngini = 0.117\\nsamples = 16\\nvalue = [15, 1]'),\n",
       " Text(0.3464566929133858, 0.5833333333333334, 'PassengerId <= 453.5\\ngini = 0.5\\nsamples = 2\\nvalue = [1, 1]'),\n",
       " Text(0.33858267716535434, 0.5277777777777778, 'gini = 0.0\\nsamples = 1\\nvalue = [0, 1]'),\n",
       " Text(0.3543307086614173, 0.5277777777777778, 'gini = 0.0\\nsamples = 1\\nvalue = [1, 0]'),\n",
       " Text(0.36220472440944884, 0.5833333333333334, 'gini = 0.0\\nsamples = 14\\nvalue = [14, 0]'),\n",
       " Text(0.3858267716535433, 0.6388888888888888, 'Ticket <= 30.0\\ngini = 0.5\\nsamples = 2\\nvalue = [1, 1]'),\n",
       " Text(0.3779527559055118, 0.5833333333333334, 'gini = 0.0\\nsamples = 1\\nvalue = [1, 0]'),\n",
       " Text(0.3937007874015748, 0.5833333333333334, 'gini = 0.0\\nsamples = 1\\nvalue = [0, 1]'),\n",
       " Text(0.4330708661417323, 0.6944444444444444, 'Ticket <= 317.5\\ngini = 0.486\\nsamples = 36\\nvalue = [21, 15]'),\n",
       " Text(0.41732283464566927, 0.6388888888888888, 'Fare <= 186.942\\ngini = 0.472\\nsamples = 21\\nvalue = [8, 13]'),\n",
       " Text(0.4094488188976378, 0.5833333333333334, 'Age <= 34.0\\ngini = 0.432\\nsamples = 19\\nvalue = [6, 13]'),\n",
       " Text(0.4015748031496063, 0.5277777777777778, 'gini = 0.0\\nsamples = 7\\nvalue = [0, 7]'),\n",
       " Text(0.41732283464566927, 0.5277777777777778, 'PassengerId <= 673.5\\ngini = 0.5\\nsamples = 12\\nvalue = [6, 6]'),\n",
       " Text(0.4094488188976378, 0.4722222222222222, 'Ticket <= 68.5\\ngini = 0.48\\nsamples = 10\\nvalue = [4, 6]'),\n",
       " Text(0.3937007874015748, 0.4166666666666667, 'PassengerId <= 469.0\\ngini = 0.375\\nsamples = 4\\nvalue = [3, 1]'),\n",
       " Text(0.3858267716535433, 0.3611111111111111, 'gini = 0.0\\nsamples = 1\\nvalue = [0, 1]'),\n",
       " Text(0.4015748031496063, 0.3611111111111111, 'gini = 0.0\\nsamples = 3\\nvalue = [3, 0]'),\n",
       " Text(0.4251968503937008, 0.4166666666666667, 'SibSp <= 1.5\\ngini = 0.278\\nsamples = 6\\nvalue = [1, 5]'),\n",
       " Text(0.41732283464566927, 0.3611111111111111, 'gini = 0.0\\nsamples = 5\\nvalue = [0, 5]'),\n",
       " Text(0.4330708661417323, 0.3611111111111111, 'gini = 0.0\\nsamples = 1\\nvalue = [1, 0]'),\n",
       " Text(0.4251968503937008, 0.4722222222222222, 'gini = 0.0\\nsamples = 2\\nvalue = [2, 0]'),\n",
       " Text(0.4251968503937008, 0.5833333333333334, 'gini = 0.0\\nsamples = 2\\nvalue = [2, 0]'),\n",
       " Text(0.44881889763779526, 0.6388888888888888, 'Fare <= 379.925\\ngini = 0.231\\nsamples = 15\\nvalue = [13, 2]'),\n",
       " Text(0.4409448818897638, 0.5833333333333334, 'gini = 0.0\\nsamples = 13\\nvalue = [13, 0]'),\n",
       " Text(0.4566929133858268, 0.5833333333333334, 'gini = 0.0\\nsamples = 2\\nvalue = [0, 2]'),\n",
       " Text(0.48031496062992124, 0.75, 'Fare <= 28.275\\ngini = 0.278\\nsamples = 12\\nvalue = [2, 10]'),\n",
       " Text(0.47244094488188976, 0.6944444444444444, 'gini = 0.0\\nsamples = 6\\nvalue = [0, 6]'),\n",
       " Text(0.4881889763779528, 0.6944444444444444, 'Fare <= 43.288\\ngini = 0.444\\nsamples = 6\\nvalue = [2, 4]'),\n",
       " Text(0.48031496062992124, 0.6388888888888888, 'Cabin <= 105.5\\ngini = 0.444\\nsamples = 3\\nvalue = [2, 1]'),\n",
       " Text(0.47244094488188976, 0.5833333333333334, 'gini = 0.0\\nsamples = 1\\nvalue = [0, 1]'),\n",
       " Text(0.4881889763779528, 0.5833333333333334, 'gini = 0.0\\nsamples = 2\\nvalue = [2, 0]'),\n",
       " Text(0.49606299212598426, 0.6388888888888888, 'gini = 0.0\\nsamples = 3\\nvalue = [0, 3]'),\n",
       " Text(0.7986128198818898, 0.8055555555555556, 'Ticket <= 652.5\\ngini = 0.209\\nsamples = 379\\nvalue = [334, 45]'),\n",
       " Text(0.6287217027559056, 0.75, 'Ticket <= 82.5\\ngini = 0.188\\nsamples = 361\\nvalue = [323, 38]'),\n",
       " Text(0.531496062992126, 0.6944444444444444, 'Age <= 27.5\\ngini = 0.426\\nsamples = 26\\nvalue = [18, 8]'),\n",
       " Text(0.5118110236220472, 0.6388888888888888, 'Age <= 23.5\\ngini = 0.32\\nsamples = 5\\nvalue = [1, 4]'),\n",
       " Text(0.5039370078740157, 0.5833333333333334, 'gini = 0.0\\nsamples = 1\\nvalue = [1, 0]'),\n",
       " Text(0.5196850393700787, 0.5833333333333334, 'gini = 0.0\\nsamples = 4\\nvalue = [0, 4]'),\n",
       " Text(0.5511811023622047, 0.6388888888888888, 'Pclass <= 2.5\\ngini = 0.308\\nsamples = 21\\nvalue = [17, 4]'),\n",
       " Text(0.5354330708661418, 0.5833333333333334, 'Ticket <= 12.0\\ngini = 0.117\\nsamples = 16\\nvalue = [15, 1]'),\n",
       " Text(0.5275590551181102, 0.5277777777777778, 'Ticket <= 6.0\\ngini = 0.5\\nsamples = 2\\nvalue = [1, 1]'),\n",
       " Text(0.5196850393700787, 0.4722222222222222, 'gini = 0.0\\nsamples = 1\\nvalue = [1, 0]'),\n",
       " Text(0.5354330708661418, 0.4722222222222222, 'gini = 0.0\\nsamples = 1\\nvalue = [0, 1]'),\n",
       " Text(0.5433070866141733, 0.5277777777777778, 'gini = 0.0\\nsamples = 14\\nvalue = [14, 0]'),\n",
       " Text(0.5669291338582677, 0.5833333333333334, 'Age <= 30.749\\ngini = 0.48\\nsamples = 5\\nvalue = [2, 3]'),\n",
       " Text(0.5590551181102362, 0.5277777777777778, 'Age <= 28.749\\ngini = 0.444\\nsamples = 3\\nvalue = [2, 1]'),\n",
       " Text(0.5511811023622047, 0.4722222222222222, 'gini = 0.0\\nsamples = 1\\nvalue = [1, 0]'),\n",
       " Text(0.5669291338582677, 0.4722222222222222, 'PassengerId <= 760.0\\ngini = 0.5\\nsamples = 2\\nvalue = [1, 1]'),\n",
       " Text(0.5590551181102362, 0.4166666666666667, 'gini = 0.0\\nsamples = 1\\nvalue = [0, 1]'),\n",
       " Text(0.5748031496062992, 0.4166666666666667, 'gini = 0.0\\nsamples = 1\\nvalue = [1, 0]'),\n",
       " Text(0.5748031496062992, 0.5277777777777778, 'gini = 0.0\\nsamples = 2\\nvalue = [0, 2]'),\n",
       " Text(0.7259473425196851, 0.6944444444444444, 'Age <= 13.0\\ngini = 0.163\\nsamples = 335\\nvalue = [305, 30]'),\n",
       " Text(0.6304133858267716, 0.6388888888888888, 'SibSp <= 2.5\\ngini = 0.42\\nsamples = 10\\nvalue = [7, 3]'),\n",
       " Text(0.6225393700787402, 0.5833333333333334, 'SibSp <= 0.5\\ngini = 0.375\\nsamples = 4\\nvalue = [1, 3]'),\n",
       " Text(0.6146653543307087, 0.5277777777777778, 'gini = 0.0\\nsamples = 1\\nvalue = [1, 0]'),\n",
       " Text(0.6304133858267716, 0.5277777777777778, 'gini = 0.0\\nsamples = 3\\nvalue = [0, 3]'),\n",
       " Text(0.6382874015748031, 0.5833333333333334, 'gini = 0.0\\nsamples = 6\\nvalue = [6, 0]'),\n",
       " Text(0.8214812992125984, 0.6388888888888888, 'Age <= 32.25\\ngini = 0.152\\nsamples = 325\\nvalue = [298, 27]'),\n",
       " Text(0.7217027559055118, 0.5833333333333334, 'Fare <= 7.871\\ngini = 0.183\\nsamples = 235\\nvalue = [211, 24]'),\n",
       " Text(0.6461614173228346, 0.5277777777777778, 'PassengerId <= 275.0\\ngini = 0.259\\nsamples = 85\\nvalue = [72, 13]'),\n",
       " Text(0.5984251968503937, 0.4722222222222222, 'PassengerId <= 264.5\\ngini = 0.397\\nsamples = 22\\nvalue = [16, 6]'),\n",
       " Text(0.5905511811023622, 0.4166666666666667, 'Age <= 23.0\\ngini = 0.32\\nsamples = 20\\nvalue = [16, 4]'),\n",
       " Text(0.5826771653543307, 0.3611111111111111, 'gini = 0.0\\nsamples = 8\\nvalue = [8, 0]'),\n",
       " Text(0.5984251968503937, 0.3611111111111111, 'PassengerId <= 151.0\\ngini = 0.444\\nsamples = 12\\nvalue = [8, 4]'),\n",
       " Text(0.5905511811023622, 0.3055555555555556, 'Fare <= 7.763\\ngini = 0.5\\nsamples = 8\\nvalue = [4, 4]'),\n",
       " Text(0.5826771653543307, 0.25, 'Ticket <= 502.0\\ngini = 0.444\\nsamples = 6\\nvalue = [4, 2]'),\n",
       " Text(0.5748031496062992, 0.19444444444444445, 'PassengerId <= 47.5\\ngini = 0.32\\nsamples = 5\\nvalue = [4, 1]'),\n",
       " Text(0.5669291338582677, 0.1388888888888889, 'Fare <= 7.227\\ngini = 0.5\\nsamples = 2\\nvalue = [1, 1]'),\n",
       " Text(0.5590551181102362, 0.08333333333333333, 'gini = 0.0\\nsamples = 1\\nvalue = [1, 0]'),\n",
       " Text(0.5748031496062992, 0.08333333333333333, 'gini = 0.0\\nsamples = 1\\nvalue = [0, 1]'),\n",
       " Text(0.5826771653543307, 0.1388888888888889, 'gini = 0.0\\nsamples = 3\\nvalue = [3, 0]'),\n",
       " Text(0.5905511811023622, 0.19444444444444445, 'gini = 0.0\\nsamples = 1\\nvalue = [0, 1]'),\n",
       " Text(0.5984251968503937, 0.25, 'gini = 0.0\\nsamples = 2\\nvalue = [0, 2]'),\n",
       " Text(0.6062992125984252, 0.3055555555555556, 'gini = 0.0\\nsamples = 4\\nvalue = [4, 0]'),\n",
       " Text(0.6062992125984252, 0.4166666666666667, 'gini = 0.0\\nsamples = 2\\nvalue = [0, 2]'),\n",
       " Text(0.6938976377952756, 0.4722222222222222, 'Age <= 31.5\\ngini = 0.198\\nsamples = 63\\nvalue = [56, 7]'),\n",
       " Text(0.6712598425196851, 0.4166666666666667, 'Age <= 29.249\\ngini = 0.177\\nsamples = 61\\nvalue = [55, 6]'),\n",
       " Text(0.6496062992125984, 0.3611111111111111, 'Age <= 26.5\\ngini = 0.285\\nsamples = 29\\nvalue = [24, 5]'),\n",
       " Text(0.6299212598425197, 0.3055555555555556, 'Ticket <= 195.5\\ngini = 0.204\\nsamples = 26\\nvalue = [23, 3]'),\n",
       " Text(0.6141732283464567, 0.25, 'Fare <= 5.619\\ngini = 0.444\\nsamples = 3\\nvalue = [1, 2]'),\n",
       " Text(0.6062992125984252, 0.19444444444444445, 'gini = 0.0\\nsamples = 1\\nvalue = [1, 0]'),\n",
       " Text(0.6220472440944882, 0.19444444444444445, 'gini = 0.0\\nsamples = 2\\nvalue = [0, 2]'),\n",
       " Text(0.6456692913385826, 0.25, 'PassengerId <= 394.0\\ngini = 0.083\\nsamples = 23\\nvalue = [22, 1]'),\n",
       " Text(0.6377952755905512, 0.19444444444444445, 'PassengerId <= 386.0\\ngini = 0.278\\nsamples = 6\\nvalue = [5, 1]'),\n",
       " Text(0.6299212598425197, 0.1388888888888889, 'gini = 0.0\\nsamples = 5\\nvalue = [5, 0]'),\n",
       " Text(0.6456692913385826, 0.1388888888888889, 'gini = 0.0\\nsamples = 1\\nvalue = [0, 1]'),\n",
       " Text(0.6535433070866141, 0.19444444444444445, 'gini = 0.0\\nsamples = 17\\nvalue = [17, 0]'),\n",
       " Text(0.6692913385826772, 0.3055555555555556, 'Fare <= 7.773\\ngini = 0.444\\nsamples = 3\\nvalue = [1, 2]'),\n",
       " Text(0.6614173228346457, 0.25, 'gini = 0.0\\nsamples = 2\\nvalue = [0, 2]'),\n",
       " Text(0.6771653543307087, 0.25, 'gini = 0.0\\nsamples = 1\\nvalue = [1, 0]'),\n",
       " Text(0.6929133858267716, 0.3611111111111111, 'PassengerId <= 827.5\\ngini = 0.061\\nsamples = 32\\nvalue = [31, 1]'),\n",
       " Text(0.6850393700787402, 0.3055555555555556, 'gini = 0.0\\nsamples = 29\\nvalue = [29, 0]'),\n",
       " Text(0.7007874015748031, 0.3055555555555556, 'PassengerId <= 831.0\\ngini = 0.444\\nsamples = 3\\nvalue = [2, 1]'),\n",
       " Text(0.6929133858267716, 0.25, 'gini = 0.0\\nsamples = 1\\nvalue = [0, 1]'),\n",
       " Text(0.7086614173228346, 0.25, 'gini = 0.0\\nsamples = 2\\nvalue = [2, 0]'),\n",
       " Text(0.7165354330708661, 0.4166666666666667, 'Fare <= 7.802\\ngini = 0.5\\nsamples = 2\\nvalue = [1, 1]'),\n",
       " Text(0.7086614173228346, 0.3611111111111111, 'gini = 0.0\\nsamples = 1\\nvalue = [1, 0]'),\n",
       " Text(0.7244094488188977, 0.3611111111111111, 'gini = 0.0\\nsamples = 1\\nvalue = [0, 1]'),\n",
       " Text(0.797244094488189, 0.5277777777777778, 'Embarked <= 1.5\\ngini = 0.136\\nsamples = 150\\nvalue = [139, 11]'),\n",
       " Text(0.7637795275590551, 0.4722222222222222, 'Ticket <= 385.0\\ngini = 0.311\\nsamples = 26\\nvalue = [21, 5]'),\n",
       " Text(0.7480314960629921, 0.4166666666666667, 'Age <= 29.249\\ngini = 0.5\\nsamples = 6\\nvalue = [3, 3]'),\n",
       " Text(0.7401574803149606, 0.3611111111111111, 'PassengerId <= 141.0\\ngini = 0.375\\nsamples = 4\\nvalue = [1, 3]'),\n",
       " Text(0.7322834645669292, 0.3055555555555556, 'gini = 0.0\\nsamples = 1\\nvalue = [1, 0]'),\n",
       " Text(0.7480314960629921, 0.3055555555555556, 'gini = 0.0\\nsamples = 3\\nvalue = [0, 3]'),\n",
       " Text(0.7559055118110236, 0.3611111111111111, 'gini = 0.0\\nsamples = 2\\nvalue = [2, 0]'),\n",
       " Text(0.7795275590551181, 0.4166666666666667, 'SibSp <= 1.5\\ngini = 0.18\\nsamples = 20\\nvalue = [18, 2]'),\n",
       " Text(0.7716535433070866, 0.3611111111111111, 'Ticket <= 630.5\\ngini = 0.1\\nsamples = 19\\nvalue = [18, 1]'),\n",
       " Text(0.7637795275590551, 0.3055555555555556, 'gini = 0.0\\nsamples = 16\\nvalue = [16, 0]'),\n",
       " Text(0.7795275590551181, 0.3055555555555556, 'Ticket <= 632.0\\ngini = 0.444\\nsamples = 3\\nvalue = [2, 1]'),\n",
       " Text(0.7716535433070866, 0.25, 'gini = 0.0\\nsamples = 1\\nvalue = [0, 1]'),\n",
       " Text(0.7874015748031497, 0.25, 'gini = 0.0\\nsamples = 2\\nvalue = [2, 0]'),\n",
       " Text(0.7874015748031497, 0.3611111111111111, 'gini = 0.0\\nsamples = 1\\nvalue = [0, 1]'),\n",
       " Text(0.8307086614173228, 0.4722222222222222, 'PassengerId <= 24.0\\ngini = 0.092\\nsamples = 124\\nvalue = [118, 6]'),\n",
       " Text(0.8110236220472441, 0.4166666666666667, 'Age <= 24.749\\ngini = 0.5\\nsamples = 2\\nvalue = [1, 1]'),\n",
       " Text(0.8031496062992126, 0.3611111111111111, 'gini = 0.0\\nsamples = 1\\nvalue = [1, 0]'),\n",
       " Text(0.8188976377952756, 0.3611111111111111, 'gini = 0.0\\nsamples = 1\\nvalue = [0, 1]'),\n",
       " Text(0.8503937007874016, 0.4166666666666667, 'Age <= 31.5\\ngini = 0.079\\nsamples = 122\\nvalue = [117, 5]'),\n",
       " Text(0.8346456692913385, 0.3611111111111111, 'Fare <= 9.835\\ngini = 0.066\\nsamples = 117\\nvalue = [113, 4]'),\n",
       " Text(0.8267716535433071, 0.3055555555555556, 'Fare <= 8.081\\ngini = 0.117\\nsamples = 64\\nvalue = [60, 4]'),\n",
       " Text(0.8110236220472441, 0.25, 'Age <= 20.0\\ngini = 0.045\\nsamples = 43\\nvalue = [42, 1]'),\n",
       " Text(0.8031496062992126, 0.19444444444444445, 'PassengerId <= 328.5\\ngini = 0.32\\nsamples = 5\\nvalue = [4, 1]'),\n",
       " Text(0.7952755905511811, 0.1388888888888889, 'gini = 0.0\\nsamples = 1\\nvalue = [0, 1]'),\n",
       " Text(0.8110236220472441, 0.1388888888888889, 'gini = 0.0\\nsamples = 4\\nvalue = [4, 0]'),\n",
       " Text(0.8188976377952756, 0.19444444444444445, 'gini = 0.0\\nsamples = 38\\nvalue = [38, 0]'),\n",
       " Text(0.84251968503937, 0.25, 'Fare <= 8.206\\ngini = 0.245\\nsamples = 21\\nvalue = [18, 3]'),\n",
       " Text(0.8346456692913385, 0.19444444444444445, 'gini = 0.0\\nsamples = 1\\nvalue = [0, 1]'),\n",
       " Text(0.8503937007874016, 0.19444444444444445, 'Age <= 26.5\\ngini = 0.18\\nsamples = 20\\nvalue = [18, 2]'),\n",
       " Text(0.84251968503937, 0.1388888888888889, 'gini = 0.0\\nsamples = 13\\nvalue = [13, 0]'),\n",
       " Text(0.8582677165354331, 0.1388888888888889, 'Age <= 27.5\\ngini = 0.408\\nsamples = 7\\nvalue = [5, 2]'),\n",
       " Text(0.8503937007874016, 0.08333333333333333, 'gini = 0.0\\nsamples = 1\\nvalue = [0, 1]'),\n",
       " Text(0.8661417322834646, 0.08333333333333333, 'PassengerId <= 120.5\\ngini = 0.278\\nsamples = 6\\nvalue = [5, 1]'),\n",
       " Text(0.8582677165354331, 0.027777777777777776, 'gini = 0.0\\nsamples = 1\\nvalue = [0, 1]'),\n",
       " Text(0.8740157480314961, 0.027777777777777776, 'gini = 0.0\\nsamples = 5\\nvalue = [5, 0]'),\n",
       " Text(0.84251968503937, 0.3055555555555556, 'gini = 0.0\\nsamples = 53\\nvalue = [53, 0]'),\n",
       " Text(0.8661417322834646, 0.3611111111111111, 'Ticket <= 240.0\\ngini = 0.32\\nsamples = 5\\nvalue = [4, 1]'),\n",
       " Text(0.8582677165354331, 0.3055555555555556, 'gini = 0.0\\nsamples = 1\\nvalue = [0, 1]'),\n",
       " Text(0.8740157480314961, 0.3055555555555556, 'gini = 0.0\\nsamples = 4\\nvalue = [4, 0]'),\n",
       " Text(0.9212598425196851, 0.5833333333333334, 'Fare <= 97.515\\ngini = 0.064\\nsamples = 90\\nvalue = [87, 3]'),\n",
       " Text(0.9133858267716536, 0.5277777777777778, 'Ticket <= 623.0\\ngini = 0.044\\nsamples = 89\\nvalue = [87, 2]'),\n",
       " Text(0.8976377952755905, 0.4722222222222222, 'Ticket <= 136.5\\ngini = 0.023\\nsamples = 86\\nvalue = [85, 1]'),\n",
       " Text(0.889763779527559, 0.4166666666666667, 'Ticket <= 133.0\\ngini = 0.198\\nsamples = 9\\nvalue = [8, 1]'),\n",
       " Text(0.8818897637795275, 0.3611111111111111, 'gini = 0.0\\nsamples = 8\\nvalue = [8, 0]'),\n",
       " Text(0.8976377952755905, 0.3611111111111111, 'gini = 0.0\\nsamples = 1\\nvalue = [0, 1]'),\n",
       " Text(0.905511811023622, 0.4166666666666667, 'gini = 0.0\\nsamples = 77\\nvalue = [77, 0]'),\n",
       " Text(0.9291338582677166, 0.4722222222222222, 'Ticket <= 630.0\\ngini = 0.444\\nsamples = 3\\nvalue = [2, 1]'),\n",
       " Text(0.9212598425196851, 0.4166666666666667, 'gini = 0.0\\nsamples = 1\\nvalue = [0, 1]'),\n",
       " Text(0.937007874015748, 0.4166666666666667, 'gini = 0.0\\nsamples = 2\\nvalue = [2, 0]'),\n",
       " Text(0.9291338582677166, 0.5277777777777778, 'gini = 0.0\\nsamples = 1\\nvalue = [0, 1]'),\n",
       " Text(0.968503937007874, 0.75, 'Ticket <= 663.5\\ngini = 0.475\\nsamples = 18\\nvalue = [11, 7]'),\n",
       " Text(0.952755905511811, 0.6944444444444444, 'PassengerId <= 322.5\\ngini = 0.444\\nsamples = 9\\nvalue = [3, 6]'),\n",
       " Text(0.9448818897637795, 0.6388888888888888, 'Age <= 18.5\\ngini = 0.375\\nsamples = 4\\nvalue = [3, 1]'),\n",
       " Text(0.937007874015748, 0.5833333333333334, 'gini = 0.0\\nsamples = 1\\nvalue = [0, 1]'),\n",
       " Text(0.952755905511811, 0.5833333333333334, 'gini = 0.0\\nsamples = 3\\nvalue = [3, 0]'),\n",
       " Text(0.9606299212598425, 0.6388888888888888, 'gini = 0.0\\nsamples = 5\\nvalue = [0, 5]'),\n",
       " Text(0.984251968503937, 0.6944444444444444, 'Age <= 20.0\\ngini = 0.198\\nsamples = 9\\nvalue = [8, 1]'),\n",
       " Text(0.9763779527559056, 0.6388888888888888, 'gini = 0.0\\nsamples = 1\\nvalue = [0, 1]'),\n",
       " Text(0.9921259842519685, 0.6388888888888888, 'gini = 0.0\\nsamples = 8\\nvalue = [8, 0]')]"
      ]
     },
     "execution_count": 13,
     "metadata": {},
     "output_type": "execute_result"
    },
    {
     "data": {
      "image/png": "[encoded data removed]",
      "text/plain": [
       "<Figure size 640x480 with 1 Axes>"
      ]
     },
     "metadata": {},
     "output_type": "display_data"
    }
   ],
   "source": [
    "plot_tree(clf1, feature_names= titanic_train.columns)"
   ]
  },
  {
   "cell_type": "markdown",
   "id": "05bcc7a2",
   "metadata": {},
   "source": [
    "<h2>Multi-Layered Perceptron (neural network.MLPClassifier) with the default parameters.</h2>"
   ]
  },
  {
   "cell_type": "code",
   "execution_count": 14,
   "id": "e5119811",
   "metadata": {},
   "outputs": [
    {
     "name": "stdout",
     "output_type": "stream",
     "text": [
      "pickle file used\n"
     ]
    }
   ],
   "source": [
    "classifier = MLPClassifier()\n",
    "if (os.path.exists('models/MLP1_model.pickle')):\n",
    "    pickle_in = open('models/MLP1_model.pickle','rb')\n",
    "    clf1 = pickle.load(pickle_in)\n",
    "    print(\"pickle file used\")\n",
    "else:\n",
    "    classifier = classifier.fit(titanic_train, labels_train)\n",
    "    with open('models/MLP1_model.pickle','wb') as f:\n",
    "            pickle.dump(classifier, f)\n",
    "    pickle_in = open('models/MLP1_model.pickle','rb')\n",
    "    clf1 = pickle.load(pickle_in)\n",
    "pickle_in.close()"
   ]
  },
  {
   "cell_type": "code",
   "execution_count": 15,
   "id": "5600c20e",
   "metadata": {},
   "outputs": [],
   "source": [
    "# This can be used \n",
    "# print(np.shape(titanic_train))\n",
    "# print(np.shape(labels_train))"
   ]
  },
  {
   "cell_type": "code",
   "execution_count": 16,
   "id": "294d1552",
   "metadata": {
    "scrolled": true
   },
   "outputs": [
    {
     "name": "stdout",
     "output_type": "stream",
     "text": [
      "Accuracy: 0.7541899441340782\n",
      "Precision (Weighted): 0.7579639975170701\n",
      "Recall (Weighted): 0.7541899441340782\n",
      "F1 Score (Weighted): 0.745673427252854\n",
      "              precision    recall  f1-score   support\n",
      "\n",
      "           0       0.74      0.89      0.81       105\n",
      "           1       0.78      0.57      0.66        74\n",
      "\n",
      "    accuracy                           0.75       179\n",
      "   macro avg       0.76      0.73      0.73       179\n",
      "weighted avg       0.76      0.75      0.75       179\n",
      "\n"
     ]
    },
    {
     "data": {
      "text/plain": [
       "<sklearn.metrics._plot.confusion_matrix.ConfusionMatrixDisplay at 0x1d624c21270>"
      ]
     },
     "execution_count": 16,
     "metadata": {},
     "output_type": "execute_result"
    },
    {
     "data": {
      "image/png": "[encoded data removed]",
      "text/plain": [
       "<Figure size 1000x1000 with 2 Axes>"
      ]
     },
     "metadata": {},
     "output_type": "display_data"
    }
   ],
   "source": [
    "labels_titanic_predict = clf1.predict(titanic_test)\n",
    "metrics(labels_test, labels_titanic_predict)\n",
    "cmp = ConfusionMatrixDisplay(confusion_matrix(y_true=labels_test, y_pred= labels_titanic_predict))\n",
    "fig, ax = plt.subplots(figsize=(10,10))\n",
    "cmp.plot(ax=ax,cmap='magma')"
   ]
  },
  {
   "cell_type": "markdown",
   "id": "6622038a",
   "metadata": {},
   "source": [
    "<h1>Your Turn</h1>\n",
    "\n",
    "Go find a model you want to use on this data<br>\n",
    "\n",
    "Simple things you can try:\n",
    "* manually selecting hyperparameters\n",
    "* change the features\n",
    "* try unsupervised learning \n",
    "\n",
    "If you don't know where to start feel free to discuss with myself or those around you!\n",
    "\n",
    "All models and fancy things can be found here \n",
    "https://scikit-learn.org/stable/modules/classes.html"
   ]
  },
  {
   "cell_type": "code",
   "execution_count": 17,
   "id": "92e40dc9",
   "metadata": {},
   "outputs": [
    {
     "ename": "NameError",
     "evalue": "name 'ModelClass' is not defined",
     "output_type": "error",
     "traceback": [
      "\u001b[1;31m---------------------------------------------------------------------------\u001b[0m",
      "\u001b[1;31mNameError\u001b[0m                                 Traceback (most recent call last)",
      "Cell \u001b[1;32mIn[17], line 1\u001b[0m\n\u001b[1;32m----> 1\u001b[0m classifier \u001b[39m=\u001b[39m ModelClass \u001b[39m# define a model\u001b[39;00m\n\u001b[0;32m      2\u001b[0m modelName \u001b[39m=\u001b[39m \u001b[39m\"\u001b[39m\u001b[39mUserModel\u001b[39m\u001b[39m\"\u001b[39m \u001b[39m# name your model\u001b[39;00m\n\u001b[0;32m      4\u001b[0m \u001b[39mif\u001b[39;00m (os\u001b[39m.\u001b[39mpath\u001b[39m.\u001b[39mexists(\u001b[39mf\u001b[39m\u001b[39m'\u001b[39m\u001b[39mmodels/\u001b[39m\u001b[39m{\u001b[39;00mmodelName\u001b[39m}\u001b[39;00m\u001b[39m.pickle\u001b[39m\u001b[39m'\u001b[39m)):\n",
      "\u001b[1;31mNameError\u001b[0m: name 'ModelClass' is not defined"
     ]
    }
   ],
   "source": [
    "classifier = ModelClass # define a model\n",
    "modelName = \"UserModel\" # name your model\n",
    "\n",
    "if (os.path.exists(f'models/{modelName}.pickle')):\n",
    "    pickle_in = open(f'models/{modelName}.pickle','rb')\n",
    "    clf1 = pickle.load(pickle_in)\n",
    "    print(\"pickle file used\")\n",
    "else:\n",
    "    classifier = classifier.fit(titanic_train, labels_train)\n",
    "    with open(f'models/{modelName}.pickle','wb') as f:\n",
    "            pickle.dump(classifier, f)\n",
    "    pickle_in = open(f'models/{modelName}.pickle','rb')\n",
    "    clf1 = pickle.load(pickle_in)\n",
    "pickle_in.close()"
   ]
  },
  {
   "cell_type": "markdown",
   "id": "66992eee",
   "metadata": {},
   "source": [
    "<h1>Model Refinement Through Hyperparameter Search</h1>\n",
    "\n",
    "Idea is to take find hyperparameter values that will improve the performance of the model's prediction\n",
    "\n",
    "https://scikit-learn.org/stable/modules/classes.html#hyper-parameter-optimizers "
   ]
  },
  {
   "cell_type": "markdown",
   "id": "0769877b",
   "metadata": {},
   "source": [
    "<h2>Multinomial Naive Bayes Classifier found using GridSearchCV</h2>\n",
    "\n",
    "Hyperparameters are called attributes in scikit-learn documentation <br>\n",
    "https://scikit-learn.org/stable/modules/generated/sklearn.naive_bayes.MultinomialNB.html#sklearn.naive_bayes.MultinomialNB\n"
   ]
  },
  {
   "cell_type": "code",
   "execution_count": null,
   "id": "d9ae7194",
   "metadata": {},
   "outputs": [
    {
     "name": "stdout",
     "output_type": "stream",
     "text": [
      "pickle file used\n"
     ]
    }
   ],
   "source": [
    "parameters = {\"alpha\":(0.5,0,0.36,1)}\n",
    "clfMNB = MultinomialNB()\n",
    "\n",
    "classifier = GridSearchCV(estimator=clfMNB, param_grid=parameters,n_jobs=-1, scoring = \"recall\")\n",
    "\n",
    "if (os.path.exists('models/MNB1GridCV_model.pickle')):\n",
    "    pickle_in = open('models/MNB1GridCV_model.pickle','rb')\n",
    "    clf1 = pickle.load(pickle_in)\n",
    "    print(\"pickle file used\")\n",
    "else:\n",
    "    classifier = classifier.fit(titanic_train, labels_train)\n",
    "    with open('models/MNB1GridCV_model.pickle','wb') as f:\n",
    "        pickle.dump(classifier, f)\n",
    "\n",
    "    pickle_in = open('models/MNB1GridCV_model.pickle','rb')\n",
    "    clf1 = pickle.load(pickle_in)\n",
    "pickle_in.close()\n"
   ]
  },
  {
   "cell_type": "code",
   "execution_count": null,
   "id": "a39ec2a9",
   "metadata": {},
   "outputs": [
    {
     "name": "stdout",
     "output_type": "stream",
     "text": [
      "Best estimator: MultinomialNB(alpha=0.5)\n",
      "Accuracy: 0.7150837988826816\n",
      "Precision (Weighted): 0.7123686733928125\n",
      "Recall (Weighted): 0.7150837988826816\n",
      "F1 Score (Weighted): 0.7126068335103507\n",
      "              precision    recall  f1-score   support\n",
      "\n",
      "           0       0.74      0.79      0.76       105\n",
      "           1       0.67      0.61      0.64        74\n",
      "\n",
      "    accuracy                           0.72       179\n",
      "   macro avg       0.71      0.70      0.70       179\n",
      "weighted avg       0.71      0.72      0.71       179\n",
      "\n"
     ]
    },
    {
     "data": {
      "text/plain": [
       "<sklearn.metrics._plot.confusion_matrix.ConfusionMatrixDisplay at 0x2f7241bdea0>"
      ]
     },
     "execution_count": 41,
     "metadata": {},
     "output_type": "execute_result"
    },
    {
     "data": {
      "image/png": "[encoded data removed]",
      "text/plain": [
       "<Figure size 1000x1000 with 2 Axes>"
      ]
     },
     "metadata": {},
     "output_type": "display_data"
    }
   ],
   "source": [
    "labels_titanic_predict = clf1.predict(titanic_test)\n",
    "\n",
    "print(f\"Best estimator: {clf1.best_estimator_}\")\n",
    "metrics(labels_test, labels_titanic_predict)\n",
    "cmp = ConfusionMatrixDisplay(confusion_matrix(y_true=labels_test, y_pred= labels_titanic_predict))\n",
    "fig, ax = plt.subplots(figsize=(10,10))\n",
    "cmp.plot(ax=ax,cmap='magma')"
   ]
  },
  {
   "cell_type": "markdown",
   "id": "d5689bef",
   "metadata": {},
   "source": [
    "<h2>Decision Tree Classifier found using GridSearchCV</h2>\n",
    "\n",
    "Hyperparameters are called attributes in scikit-learn documentation <br>\n",
    "\n",
    "https://scikit-learn.org/stable/modules/generated/sklearn.tree.DecisionTreeClassifier.html#sklearn.tree.DecisionTreeClassifier "
   ]
  },
  {
   "cell_type": "code",
   "execution_count": null,
   "id": "bcf52bf6",
   "metadata": {},
   "outputs": [
    {
     "name": "stdout",
     "output_type": "stream",
     "text": [
      "pickle file used\n"
     ]
    }
   ],
   "source": [
    "parameters = {\"criterion\":(\"gini\",\"entropy\"),\"max_depth\":(100,3,10),\"min_samples_split\":(12,5,30)}\n",
    "clfDT = DecisionTreeClassifier()\n",
    "\n",
    "classifier = GridSearchCV(estimator=clfDT, param_grid=parameters,n_jobs=-1, scoring = \"recall\")\n",
    "\n",
    "if (os.path.exists('models/DT1GridCV_model.pickle')):\n",
    "    pickle_in = open('models/DT1GridCV_model.pickle','rb')\n",
    "    clf1 = pickle.load(pickle_in)\n",
    "    print(\"pickle file used\")\n",
    "else:\n",
    "    classifier = classifier.fit(titanic_train, labels_train)\n",
    "    with open('models/DT1GridCV_model.pickle','wb') as f:\n",
    "        pickle.dump(classifier, f)\n",
    "\n",
    "    pickle_in = open('models/DT1GridCV_model.pickle','rb')\n",
    "    clf1 = pickle.load(pickle_in)\n",
    "pickle_in.close()"
   ]
  },
  {
   "cell_type": "code",
   "execution_count": null,
   "id": "338b507b",
   "metadata": {},
   "outputs": [
    {
     "name": "stdout",
     "output_type": "stream",
     "text": [
      "Best estimator: DecisionTreeClassifier(criterion='entropy', max_depth=3, min_samples_split=30)\n",
      "Accuracy: 0.7988826815642458\n",
      "Precision (Weighted): 0.7987081005586593\n",
      "Recall (Weighted): 0.7988826815642458\n",
      "F1 Score (Weighted): 0.7961666703468987\n",
      "              precision    recall  f1-score   support\n",
      "\n",
      "           0       0.80      0.88      0.84       105\n",
      "           1       0.80      0.69      0.74        74\n",
      "\n",
      "    accuracy                           0.80       179\n",
      "   macro avg       0.80      0.78      0.79       179\n",
      "weighted avg       0.80      0.80      0.80       179\n",
      "\n"
     ]
    },
    {
     "data": {
      "text/plain": [
       "<sklearn.metrics._plot.confusion_matrix.ConfusionMatrixDisplay at 0x2f7270bef20>"
      ]
     },
     "execution_count": 43,
     "metadata": {},
     "output_type": "execute_result"
    },
    {
     "data": {
      "image/png": "[encoded data removed]",
      "text/plain": [
       "<Figure size 1000x1000 with 2 Axes>"
      ]
     },
     "metadata": {},
     "output_type": "display_data"
    }
   ],
   "source": [
    "labels_titanic_predict = clf1.predict(titanic_test)\n",
    "\n",
    "print(f\"Best estimator: {clf1.best_estimator_}\")\n",
    "metrics(labels_test, labels_titanic_predict)\n",
    "cmp = ConfusionMatrixDisplay(confusion_matrix(y_true=labels_test, y_pred= labels_titanic_predict))\n",
    "fig, ax = plt.subplots(figsize=(10,10))\n",
    "cmp.plot(ax=ax,cmap='magma')"
   ]
  },
  {
   "cell_type": "code",
   "execution_count": null,
   "id": "9b8ff239",
   "metadata": {},
   "outputs": [
    {
     "data": {
      "text/plain": [
       "[Text(0.5, 0.875, 'Sex <= 0.5\\nentropy = 0.955\\nsamples = 712\\nvalue = [444, 268]'),\n",
       " Text(0.25, 0.625, 'Pclass <= 2.5\\nentropy = 0.829\\nsamples = 245\\nvalue = [64, 181]'),\n",
       " Text(0.125, 0.375, 'PassengerId <= 301.0\\nentropy = 0.235\\nsamples = 130\\nvalue = [5, 125]'),\n",
       " Text(0.0625, 0.125, 'entropy = 0.513\\nsamples = 35\\nvalue = [4, 31]'),\n",
       " Text(0.1875, 0.125, 'entropy = 0.084\\nsamples = 95\\nvalue = [1, 94]'),\n",
       " Text(0.375, 0.375, 'Fare <= 23.35\\nentropy = 1.0\\nsamples = 115\\nvalue = [59, 56]'),\n",
       " Text(0.3125, 0.125, 'entropy = 0.979\\nsamples = 94\\nvalue = [39, 55]'),\n",
       " Text(0.4375, 0.125, 'entropy = 0.276\\nsamples = 21\\nvalue = [20, 1]'),\n",
       " Text(0.75, 0.625, 'Cabin <= 145.0\\nentropy = 0.694\\nsamples = 467\\nvalue = [380, 87]'),\n",
       " Text(0.625, 0.375, 'Age <= 17.5\\nentropy = 0.977\\nsamples = 85\\nvalue = [50, 35]'),\n",
       " Text(0.5625, 0.125, 'entropy = 0.0\\nsamples = 7\\nvalue = [0, 7]'),\n",
       " Text(0.6875, 0.125, 'entropy = 0.942\\nsamples = 78\\nvalue = [50, 28]'),\n",
       " Text(0.875, 0.375, 'Age <= 13.0\\nentropy = 0.574\\nsamples = 382\\nvalue = [330, 52]'),\n",
       " Text(0.8125, 0.125, 'entropy = 0.996\\nsamples = 26\\nvalue = [14, 12]'),\n",
       " Text(0.9375, 0.125, 'entropy = 0.507\\nsamples = 356\\nvalue = [316, 40]')]"
      ]
     },
     "execution_count": 44,
     "metadata": {},
     "output_type": "execute_result"
    },
    {
     "data": {
      "image/png": "[encoded data removed]",
      "text/plain": [
       "<Figure size 640x480 with 1 Axes>"
      ]
     },
     "metadata": {},
     "output_type": "display_data"
    }
   ],
   "source": [
    "plot_tree(clf1.best_estimator_, feature_names= titanic_train.columns)"
   ]
  },
  {
   "cell_type": "markdown",
   "id": "11f17750",
   "metadata": {},
   "source": [
    "<h2>Multi-Layered Perceptron found using GridSearchCV</h2>\n",
    "\n",
    "Hyperparameters are called attributes in scikit-learn documentation <br>\n",
    "https://scikit-learn.org/stable/modules/generated/sklearn.neural_network.MLPClassifier.html#sklearn.neural_network.MLPClassifier "
   ]
  },
  {
   "cell_type": "code",
   "execution_count": null,
   "id": "2cc7bfe4",
   "metadata": {},
   "outputs": [
    {
     "name": "stdout",
     "output_type": "stream",
     "text": [
      "pickle file used\n"
     ]
    }
   ],
   "source": [
    "parameters = {\"activation\":(\"identity\", \"logistic\", \"tanh\", \"relu\"),\"hidden_layer_sizes\":((11),(121,11),(11,1,3,7)), \"solver\":(\"adam\",\"sgd\")}\n",
    "#currently 5 neurons then 5 neurons and 5 neurons then 10 neurons in the hidden layer\n",
    "clfMLP = MLPClassifier(early_stopping=True, verbose=True, max_iter=50)\n",
    "classifier = GridSearchCV(estimator=clfMLP, param_grid=parameters, n_jobs=-1, scoring = \"recall\")\n",
    "skip=False # when set to False this search will execute\n",
    "\n",
    "if(not skip):\n",
    "    if (os.path.exists('models/MLP1GridCV_model.pickle')):\n",
    "        pickle_in = open('models/MLP1GridCV_model.pickle','rb')\n",
    "        clf1 = pickle.load(pickle_in)\n",
    "        print(\"pickle file used\")\n",
    "    else:\n",
    "        classifier = classifier.fit(titanic_train.values, labels_train.values)\n",
    "        with open('models/MLP1GridCV_model.pickle','wb') as f:\n",
    "            pickle.dump(classifier, f)\n",
    "\n",
    "        pickle_in = open('models/MLP1GridCV_model.pickle','rb')\n",
    "        clf1 = pickle.load(pickle_in)\n",
    "else:\n",
    "    print(\"skipped\")\n",
    "\n",
    "pickle_in.close()"
   ]
  },
  {
   "cell_type": "code",
   "execution_count": null,
   "id": "5e5a6e5c",
   "metadata": {},
   "outputs": [
    {
     "name": "stdout",
     "output_type": "stream",
     "text": [
      "Best estimator: MLPClassifier(early_stopping=True, hidden_layer_sizes=11, max_iter=50,\n",
      "              verbose=True)\n",
      "Accuracy: 0.5865921787709497\n",
      "Precision (Weighted): 0.5627046811789636\n",
      "Recall (Weighted): 0.5865921787709497\n",
      "F1 Score (Weighted): 0.5431078005379681\n",
      "              precision    recall  f1-score   support\n",
      "\n",
      "           0       0.61      0.84      0.70       105\n",
      "           1       0.50      0.23      0.31        74\n",
      "\n",
      "    accuracy                           0.59       179\n",
      "   macro avg       0.55      0.53      0.51       179\n",
      "weighted avg       0.56      0.59      0.54       179\n",
      "\n"
     ]
    },
    {
     "name": "stderr",
     "output_type": "stream",
     "text": [
      "C:\\Users\\chanj\\AppData\\Local\\Packages\\PythonSoftwareFoundation.Python.3.10_qbz5n2kfra8p0\\LocalCache\\local-packages\\Python310\\site-packages\\sklearn\\base.py:443: UserWarning: X has feature names, but MLPClassifier was fitted without feature names\n",
      "  warnings.warn(\n"
     ]
    },
    {
     "data": {
      "image/png": "[encoded data removed]",
      "text/plain": [
       "<Figure size 1000x1000 with 2 Axes>"
      ]
     },
     "metadata": {},
     "output_type": "display_data"
    }
   ],
   "source": [
    "if (os.path.exists('models/MLP1GridCV_model.pickle') and not skip):\n",
    "    labels_titanic_predict = clf1.predict(titanic_test)\n",
    "    print(f\"Best estimator: {clf1.best_estimator_}\")\n",
    "    metrics(labels_test, labels_titanic_predict)\n",
    "    cmp = ConfusionMatrixDisplay(confusion_matrix(y_true=labels_test, y_pred= labels_titanic_predict))\n",
    "    fig, ax = plt.subplots(figsize=(10,10))\n",
    "    cmp.plot(ax=ax,cmap='magma')\n",
    "else:\n",
    "    print(\"skipped\")"
   ]
  },
  {
   "cell_type": "code",
   "execution_count": null,
   "id": "1e7836dc",
   "metadata": {},
   "outputs": [],
   "source": [
    "make each model take independent names so we can graph recall or precision"
   ]
  }
 ],
 "metadata": {
  "kernelspec": {
   "display_name": "Python 3.10.10 64-bit (microsoft store)",
   "language": "python",
   "name": "python3"
  },
  "language_info": {
   "codemirror_mode": {
    "name": "ipython",
    "version": 3
   },
   "file_extension": ".py",
   "mimetype": "text/x-python",
   "name": "python",
   "nbconvert_exporter": "python",
   "pygments_lexer": "ipython3",
   "version": "3.10.10"
  },
  "vscode": {
   "interpreter": {
    "hash": "13809f5fbb2c71687ac0fbc02129e4c89f53832ed2f3a101566dd09001991f6b"
   }
  }
 },
 "nbformat": 4,
 "nbformat_minor": 5
}
