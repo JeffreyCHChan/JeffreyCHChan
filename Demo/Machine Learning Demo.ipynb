{
 "cells": [
  {
   "cell_type": "markdown",
   "id": "794c2fb4",
   "metadata": {},
   "source": [
    "<h1>Importing Libraries</h1>\n",
    "\n",
    "Please run \"pip install -r requirements.txt\" from the root of the project "
   ]
  },
  {
   "cell_type": "code",
   "execution_count": null,
   "id": "1500b991",
   "metadata": {},
   "outputs": [],
   "source": [
    "%pip install -r requirements.txt"
   ]
  },
  {
   "cell_type": "code",
   "execution_count": 116,
   "id": "b8926ffe",
   "metadata": {},
   "outputs": [],
   "source": [
    "import os\n",
    "import pickle\n",
    "import pandas as pd\n",
    "import numpy as np\n",
    "import matplotlib.pyplot as plt\n",
    "from sklearn.model_selection import train_test_split\n",
    "from sklearn import preprocessing\n",
    "from sklearn.naive_bayes import MultinomialNB\n",
    "from sklearn.tree import DecisionTreeClassifier, plot_tree\n",
    "from sklearn.neural_network import MLPClassifier\n",
    "from sklearn.model_selection import GridSearchCV\n",
    "from sklearn.metrics import f1_score, precision_score, accuracy_score, recall_score, ConfusionMatrixDisplay, confusion_matrix, classification_report\n",
    "import warnings\n",
    "# Disable all FutureWarnings\n",
    "warnings.filterwarnings(\"ignore\", category=FutureWarning)"
   ]
  },
  {
   "cell_type": "markdown",
   "id": "a105a5f0",
   "metadata": {},
   "source": [
    "<h1>NumPy vs Pandas</h1>\n",
    "\n",
    "A Pandas DataFrame is a two-dimensional, tabular, mutable data structure in Python that can store tabular data containing objects of different data types.\n",
    "\n",
    "A NumPy array is a type of multi-dimensional data structure in Python which can store objects of similar data types."
   ]
  },
  {
   "cell_type": "markdown",
   "id": "71d8da82",
   "metadata": {},
   "source": [
    "<h1>Titanic Dataset</h1>\n",
    "\n",
    "https://www.kaggle.com/c/titanic/data\n",
    "\n",
    "<h2> Variable Notes </h2>\n",
    "\n",
    "| Variable  | Definition                  | Key                                            |\n",
    "|-----------|-----------------------------|------------------------------------------------|\n",
    "| survival  | Survival                    | 0 = No, 1 = Yes                                |\n",
    "| pclass    | Ticket class                | 1 = 1st, 2 = 2nd, 3 = 3rd                      |\n",
    "| sex       | Sex                         |                                                |\n",
    "| Age       | Age in years                |                                                |\n",
    "| sibsp     | # of siblings / spouses aboard the Titanic |                                      |\n",
    "| parch     | # of parents / children aboard the Titanic |                                      |\n",
    "| ticket    | Ticket number               |                                                |\n",
    "| fare      | Passenger fare              |                                                |\n",
    "| cabin     | Cabin number                |                                                |\n",
    "| embarked  | Port of Embarkation         | C = Cherbourg, Q = Queenstown, S = Southampton |\n"
   ]
  },
  {
   "cell_type": "markdown",
   "id": "2a700020",
   "metadata": {},
   "source": [
    "<h1>Data Preparation</h1>\n",
    "\n",
    "Here the goal is to make the necessary manipulations so that the models will accept them.\n",
    "This includes filling in Nan (Not a number) values in the pandas."
   ]
  },
  {
   "cell_type": "code",
   "execution_count": 117,
   "id": "d80c3f92",
   "metadata": {},
   "outputs": [],
   "source": [
    "\n",
    "label_encoder = preprocessing.LabelEncoder()\n",
    "current_directory = os.getcwd()\n",
    "titanic = pd.read_csv(current_directory+'\\\\titanic.csv')\n",
    "\n",
    "# Operations to create a distinct value that I know I can encode.\n",
    "titanic[\"Cabin\"].fillna(\"Not Known\")\n",
    "titanic[\"Embarked\"].fillna(\"Not Known\")\n",
    "titanic[\"Sex\"].fillna(\"Not Known\")\n",
    "titanic[\"Ticket\"].fillna(\"Not Known\")\n",
    "titanic[\"Name\"].fillna(\"Not Known\")\n",
    "\n",
    "# Encoding the values in these columns then replacing the columns with the encoded version\n",
    "titanic[\"Cabin\"] = label_encoder.fit_transform(titanic[\"Cabin\"])\n",
    "titanic[\"Name\"] = label_encoder.fit_transform(titanic[\"Name\"])\n",
    "titanic[\"Sex\"] = label_encoder.fit_transform(titanic[\"Sex\"])\n",
    "titanic[\"Ticket\"] = label_encoder.fit_transform(titanic[\"Ticket\"])\n",
    "titanic[\"Embarked\"] = label_encoder.fit_transform(titanic[\"Embarked\"])\n",
    "\n",
    "titanic_labels = titanic[\"Survived\"]\n",
    "# The Survived column can be disgarded now as we have separated it from the features into its own variable.\n",
    "titanic = titanic.drop(\"Survived\", axis=1)"
   ]
  },
  {
   "cell_type": "markdown",
   "id": "8df4f7de",
   "metadata": {},
   "source": [
    "<h1>Data Splitting and Final Data Manipulations </h1>\n",
    "\n",
    "A reason to do fillna that would uses an aggregate (sum, mean, min, etc.) is to prevent data leaking between the training set and test set!"
   ]
  },
  {
   "cell_type": "code",
   "execution_count": 118,
   "id": "d4a4c17e",
   "metadata": {},
   "outputs": [],
   "source": [
    "# Play around and see what happens to the models when you change the test-training ratios\n",
    "train_size = 0.8\n",
    "test_size = 1 - train_size\n",
    "assert train_size + test_size == 1\n",
    "\n",
    "# I decided to drop the Name column as I believe it to generate unique values when encoded \n",
    "titanic.drop(\"Name\",axis=1, inplace=True)\n",
    "\n",
    "# train_test_split this is a method that scikit-learn provides in the library\n",
    "titanic_train, titanic_test, labels_train, labels_test = train_test_split(titanic,titanic_labels , train_size=train_size, random_state=42)"
   ]
  },
  {
   "cell_type": "code",
   "execution_count": 119,
   "id": "683a4e68",
   "metadata": {},
   "outputs": [],
   "source": [
    "'''\n",
    "both ways are valid\n",
    "we do fillna here instead of above as we want to avoid data leaking since an average would \n",
    "use all the data in the column before splitting\n",
    "'''\n",
    "titanic_train[\"Age\"].fillna(titanic_train[\"Age\"].mean(), inplace=True)\n",
    "\n",
    "titanic_test[\"Age\"] = titanic_test[\"Age\"].fillna(titanic_test[\"Age\"].mean())"
   ]
  },
  {
   "cell_type": "markdown",
   "id": "649ca624",
   "metadata": {},
   "source": [
    "<h1>Quick Check</h1>\n",
    "\n",
    "Always good idea to validate that your data manipulations/operations expectations matches your results."
   ]
  },
  {
   "cell_type": "code",
   "execution_count": 120,
   "id": "b0c850f1",
   "metadata": {},
   "outputs": [
    {
     "data": {
      "text/html": [
       "<div>\n",
       "<style scoped>\n",
       "    .dataframe tbody tr th:only-of-type {\n",
       "        vertical-align: middle;\n",
       "    }\n",
       "\n",
       "    .dataframe tbody tr th {\n",
       "        vertical-align: top;\n",
       "    }\n",
       "\n",
       "    .dataframe thead th {\n",
       "        text-align: right;\n",
       "    }\n",
       "</style>\n",
       "<table border=\"1\" class=\"dataframe\">\n",
       "  <thead>\n",
       "    <tr style=\"text-align: right;\">\n",
       "      <th></th>\n",
       "      <th>PassengerId</th>\n",
       "      <th>Pclass</th>\n",
       "      <th>Sex</th>\n",
       "      <th>Age</th>\n",
       "      <th>SibSp</th>\n",
       "      <th>Parch</th>\n",
       "      <th>Ticket</th>\n",
       "      <th>Fare</th>\n",
       "      <th>Cabin</th>\n",
       "      <th>Embarked</th>\n",
       "    </tr>\n",
       "  </thead>\n",
       "  <tbody>\n",
       "    <tr>\n",
       "      <th>5</th>\n",
       "      <td>6</td>\n",
       "      <td>3</td>\n",
       "      <td>1</td>\n",
       "      <td>NaN</td>\n",
       "      <td>0</td>\n",
       "      <td>0</td>\n",
       "      <td>275</td>\n",
       "      <td>8.4583</td>\n",
       "      <td>147</td>\n",
       "      <td>1</td>\n",
       "    </tr>\n",
       "    <tr>\n",
       "      <th>17</th>\n",
       "      <td>18</td>\n",
       "      <td>2</td>\n",
       "      <td>1</td>\n",
       "      <td>NaN</td>\n",
       "      <td>0</td>\n",
       "      <td>0</td>\n",
       "      <td>151</td>\n",
       "      <td>13.0000</td>\n",
       "      <td>147</td>\n",
       "      <td>2</td>\n",
       "    </tr>\n",
       "    <tr>\n",
       "      <th>19</th>\n",
       "      <td>20</td>\n",
       "      <td>3</td>\n",
       "      <td>0</td>\n",
       "      <td>NaN</td>\n",
       "      <td>0</td>\n",
       "      <td>0</td>\n",
       "      <td>184</td>\n",
       "      <td>7.2250</td>\n",
       "      <td>147</td>\n",
       "      <td>0</td>\n",
       "    </tr>\n",
       "    <tr>\n",
       "      <th>26</th>\n",
       "      <td>27</td>\n",
       "      <td>3</td>\n",
       "      <td>1</td>\n",
       "      <td>NaN</td>\n",
       "      <td>0</td>\n",
       "      <td>0</td>\n",
       "      <td>179</td>\n",
       "      <td>7.2250</td>\n",
       "      <td>147</td>\n",
       "      <td>0</td>\n",
       "    </tr>\n",
       "    <tr>\n",
       "      <th>28</th>\n",
       "      <td>29</td>\n",
       "      <td>3</td>\n",
       "      <td>0</td>\n",
       "      <td>NaN</td>\n",
       "      <td>0</td>\n",
       "      <td>0</td>\n",
       "      <td>283</td>\n",
       "      <td>7.8792</td>\n",
       "      <td>147</td>\n",
       "      <td>1</td>\n",
       "    </tr>\n",
       "    <tr>\n",
       "      <th>...</th>\n",
       "      <td>...</td>\n",
       "      <td>...</td>\n",
       "      <td>...</td>\n",
       "      <td>...</td>\n",
       "      <td>...</td>\n",
       "      <td>...</td>\n",
       "      <td>...</td>\n",
       "      <td>...</td>\n",
       "      <td>...</td>\n",
       "      <td>...</td>\n",
       "    </tr>\n",
       "    <tr>\n",
       "      <th>859</th>\n",
       "      <td>860</td>\n",
       "      <td>3</td>\n",
       "      <td>1</td>\n",
       "      <td>NaN</td>\n",
       "      <td>0</td>\n",
       "      <td>0</td>\n",
       "      <td>178</td>\n",
       "      <td>7.2292</td>\n",
       "      <td>147</td>\n",
       "      <td>0</td>\n",
       "    </tr>\n",
       "    <tr>\n",
       "      <th>863</th>\n",
       "      <td>864</td>\n",
       "      <td>3</td>\n",
       "      <td>0</td>\n",
       "      <td>NaN</td>\n",
       "      <td>8</td>\n",
       "      <td>2</td>\n",
       "      <td>568</td>\n",
       "      <td>69.5500</td>\n",
       "      <td>147</td>\n",
       "      <td>2</td>\n",
       "    </tr>\n",
       "    <tr>\n",
       "      <th>868</th>\n",
       "      <td>869</td>\n",
       "      <td>3</td>\n",
       "      <td>1</td>\n",
       "      <td>NaN</td>\n",
       "      <td>0</td>\n",
       "      <td>0</td>\n",
       "      <td>309</td>\n",
       "      <td>9.5000</td>\n",
       "      <td>147</td>\n",
       "      <td>2</td>\n",
       "    </tr>\n",
       "    <tr>\n",
       "      <th>878</th>\n",
       "      <td>879</td>\n",
       "      <td>3</td>\n",
       "      <td>1</td>\n",
       "      <td>NaN</td>\n",
       "      <td>0</td>\n",
       "      <td>0</td>\n",
       "      <td>363</td>\n",
       "      <td>7.8958</td>\n",
       "      <td>147</td>\n",
       "      <td>2</td>\n",
       "    </tr>\n",
       "    <tr>\n",
       "      <th>888</th>\n",
       "      <td>889</td>\n",
       "      <td>3</td>\n",
       "      <td>0</td>\n",
       "      <td>NaN</td>\n",
       "      <td>1</td>\n",
       "      <td>2</td>\n",
       "      <td>675</td>\n",
       "      <td>23.4500</td>\n",
       "      <td>147</td>\n",
       "      <td>2</td>\n",
       "    </tr>\n",
       "  </tbody>\n",
       "</table>\n",
       "<p>177 rows × 10 columns</p>\n",
       "</div>"
      ],
      "text/plain": [
       "     PassengerId  Pclass  Sex  Age  SibSp  Parch  Ticket     Fare  Cabin  \\\n",
       "5              6       3    1  NaN      0      0     275   8.4583    147   \n",
       "17            18       2    1  NaN      0      0     151  13.0000    147   \n",
       "19            20       3    0  NaN      0      0     184   7.2250    147   \n",
       "26            27       3    1  NaN      0      0     179   7.2250    147   \n",
       "28            29       3    0  NaN      0      0     283   7.8792    147   \n",
       "..           ...     ...  ...  ...    ...    ...     ...      ...    ...   \n",
       "859          860       3    1  NaN      0      0     178   7.2292    147   \n",
       "863          864       3    0  NaN      8      2     568  69.5500    147   \n",
       "868          869       3    1  NaN      0      0     309   9.5000    147   \n",
       "878          879       3    1  NaN      0      0     363   7.8958    147   \n",
       "888          889       3    0  NaN      1      2     675  23.4500    147   \n",
       "\n",
       "     Embarked  \n",
       "5           1  \n",
       "17          2  \n",
       "19          0  \n",
       "26          0  \n",
       "28          1  \n",
       "..        ...  \n",
       "859         0  \n",
       "863         2  \n",
       "868         2  \n",
       "878         2  \n",
       "888         2  \n",
       "\n",
       "[177 rows x 10 columns]"
      ]
     },
     "execution_count": 120,
     "metadata": {},
     "output_type": "execute_result"
    }
   ],
   "source": [
    "titanic.loc[titanic[\"Age\"].isna()==True]\n",
    "# We know that Age has NaN (Not a Number) values so let's check "
   ]
  },
  {
   "cell_type": "code",
   "execution_count": 121,
   "id": "533ff73c",
   "metadata": {},
   "outputs": [
    {
     "data": {
      "text/html": [
       "<div>\n",
       "<style scoped>\n",
       "    .dataframe tbody tr th:only-of-type {\n",
       "        vertical-align: middle;\n",
       "    }\n",
       "\n",
       "    .dataframe tbody tr th {\n",
       "        vertical-align: top;\n",
       "    }\n",
       "\n",
       "    .dataframe thead th {\n",
       "        text-align: right;\n",
       "    }\n",
       "</style>\n",
       "<table border=\"1\" class=\"dataframe\">\n",
       "  <thead>\n",
       "    <tr style=\"text-align: right;\">\n",
       "      <th></th>\n",
       "      <th>PassengerId</th>\n",
       "      <th>Pclass</th>\n",
       "      <th>Sex</th>\n",
       "      <th>Age</th>\n",
       "      <th>SibSp</th>\n",
       "      <th>Parch</th>\n",
       "      <th>Ticket</th>\n",
       "      <th>Fare</th>\n",
       "      <th>Cabin</th>\n",
       "      <th>Embarked</th>\n",
       "    </tr>\n",
       "  </thead>\n",
       "  <tbody>\n",
       "  </tbody>\n",
       "</table>\n",
       "</div>"
      ],
      "text/plain": [
       "Empty DataFrame\n",
       "Columns: [PassengerId, Pclass, Sex, Age, SibSp, Parch, Ticket, Fare, Cabin, Embarked]\n",
       "Index: []"
      ]
     },
     "execution_count": 121,
     "metadata": {},
     "output_type": "execute_result"
    }
   ],
   "source": [
    "titanic_train.loc[titanic_train[\"Age\"].isna()==True]\n",
    "# no rows should appear"
   ]
  },
  {
   "cell_type": "code",
   "execution_count": 122,
   "id": "b6768f3e",
   "metadata": {},
   "outputs": [
    {
     "data": {
      "text/html": [
       "<div>\n",
       "<style scoped>\n",
       "    .dataframe tbody tr th:only-of-type {\n",
       "        vertical-align: middle;\n",
       "    }\n",
       "\n",
       "    .dataframe tbody tr th {\n",
       "        vertical-align: top;\n",
       "    }\n",
       "\n",
       "    .dataframe thead th {\n",
       "        text-align: right;\n",
       "    }\n",
       "</style>\n",
       "<table border=\"1\" class=\"dataframe\">\n",
       "  <thead>\n",
       "    <tr style=\"text-align: right;\">\n",
       "      <th></th>\n",
       "      <th>PassengerId</th>\n",
       "      <th>Pclass</th>\n",
       "      <th>Sex</th>\n",
       "      <th>Age</th>\n",
       "      <th>SibSp</th>\n",
       "      <th>Parch</th>\n",
       "      <th>Ticket</th>\n",
       "      <th>Fare</th>\n",
       "      <th>Cabin</th>\n",
       "      <th>Embarked</th>\n",
       "    </tr>\n",
       "  </thead>\n",
       "  <tbody>\n",
       "  </tbody>\n",
       "</table>\n",
       "</div>"
      ],
      "text/plain": [
       "Empty DataFrame\n",
       "Columns: [PassengerId, Pclass, Sex, Age, SibSp, Parch, Ticket, Fare, Cabin, Embarked]\n",
       "Index: []"
      ]
     },
     "execution_count": 122,
     "metadata": {},
     "output_type": "execute_result"
    }
   ],
   "source": [
    "titanic_test.loc[titanic_test[\"Age\"].isna()==True]\n",
    "# no rows should appear"
   ]
  },
  {
   "cell_type": "code",
   "execution_count": 123,
   "id": "297a4a30",
   "metadata": {},
   "outputs": [],
   "source": [
    "def metrics(true_y,prediction_y):\n",
    "    print(f\"Accuracy: {accuracy_score(y_true=true_y,y_pred= prediction_y)}\")\n",
    "    print(f\"Precision (Weighted): {precision_score(y_true=true_y,y_pred= prediction_y, average='weighted')}\")\n",
    "    print(f\"Recall (Weighted): {recall_score(y_true=true_y,y_pred= prediction_y, average='weighted')}\")\n",
    "    print(f\"F1 Score (Weighted): {f1_score(y_true=true_y,y_pred= prediction_y,average='weighted')}\")\n",
    "    print(classification_report(y_true=true_y,y_pred= prediction_y, zero_division='warn'))\n",
    "    confusion_matrix(y_true=true_y,y_pred= prediction_y)\n",
    "\n",
    "def compareModels(true_y,prediction_y):\n",
    "    return [accuracy_score(y_true=true_y,y_pred= prediction_y),\n",
    "    precision_score(y_true=true_y,y_pred= prediction_y, average='weighted'),\n",
    "    recall_score(y_true=true_y,y_pred= prediction_y, average='weighted'),\n",
    "    f1_score(y_true=true_y,y_pred= prediction_y,average='weighted')]"
   ]
  },
  {
   "cell_type": "markdown",
   "id": "6ffef649",
   "metadata": {},
   "source": [
    "<h2>2.2 Training and Test data split</h2>"
   ]
  },
  {
   "cell_type": "markdown",
   "id": "2dcb7a46",
   "metadata": {},
   "source": [
    "<h2>Multinomial Naive Bayes Classifier (naive bayes.MultinomialNB)\n",
    "with the default parameters.</h2>"
   ]
  },
  {
   "cell_type": "code",
   "execution_count": 124,
   "id": "bce287e0",
   "metadata": {},
   "outputs": [
    {
     "name": "stdout",
     "output_type": "stream",
     "text": [
      "pickle file used\n"
     ]
    }
   ],
   "source": [
    "classifier = MultinomialNB()\n",
    "if (os.path.exists('models/MNB1_model.pickle')):\n",
    "    pickle_in = open('models/MNB1_model.pickle','rb')\n",
    "    MNBclf = pickle.load(pickle_in)\n",
    "    print(\"pickle file used\")\n",
    "else:\n",
    "    classifier = classifier.fit(titanic_train, labels_train)\n",
    "    with open('models/MNB1_model.pickle','wb') as f:\n",
    "        pickle.dump(classifier, f)\n",
    "\n",
    "    pickle_in = open('models/MNB1_model.pickle','rb')\n",
    "    MNBclf = pickle.load(pickle_in)\n",
    "pickle_in.close()"
   ]
  },
  {
   "cell_type": "code",
   "execution_count": 125,
   "id": "3b5e415c",
   "metadata": {},
   "outputs": [
    {
     "name": "stdout",
     "output_type": "stream",
     "text": [
      "Accuracy: 0.7150837988826816\n",
      "Precision (Weighted): 0.7123686733928125\n",
      "Recall (Weighted): 0.7150837988826816\n",
      "F1 Score (Weighted): 0.7126068335103507\n",
      "              precision    recall  f1-score   support\n",
      "\n",
      "           0       0.74      0.79      0.76       105\n",
      "           1       0.67      0.61      0.64        74\n",
      "\n",
      "    accuracy                           0.72       179\n",
      "   macro avg       0.71      0.70      0.70       179\n",
      "weighted avg       0.71      0.72      0.71       179\n",
      "\n"
     ]
    },
    {
     "data": {
      "text/plain": [
       "<sklearn.metrics._plot.confusion_matrix.ConfusionMatrixDisplay at 0x203597d1690>"
      ]
     },
     "execution_count": 125,
     "metadata": {},
     "output_type": "execute_result"
    },
    {
     "data": {
      "image/png": "[encoded data removed]",
      "text/plain": [
       "<Figure size 1000x1000 with 2 Axes>"
      ]
     },
     "metadata": {},
     "output_type": "display_data"
    }
   ],
   "source": [
    "labels_titanic_predict = MNBclf.predict(titanic_test)\n",
    "\n",
    "metrics(labels_test, labels_titanic_predict)\n",
    "cmp = ConfusionMatrixDisplay(confusion_matrix(y_true=labels_test, y_pred= labels_titanic_predict))\n",
    "fig, ax = plt.subplots(figsize=(10,10))\n",
    "cmp.plot(ax=ax,cmap='magma')"
   ]
  },
  {
   "cell_type": "markdown",
   "id": "0c414581",
   "metadata": {},
   "source": [
    "<h2>Decision Tree (tree.DecisionTreeClassifier) with the default parameters.</h2>"
   ]
  },
  {
   "cell_type": "code",
   "execution_count": 126,
   "id": "ce98aef6",
   "metadata": {},
   "outputs": [
    {
     "name": "stdout",
     "output_type": "stream",
     "text": [
      "pickle file used\n"
     ]
    }
   ],
   "source": [
    "classifier = DecisionTreeClassifier(criterion=\"entropy\") # default measure of chaos is gini in scikit-learn\n",
    "if (os.path.exists('models/DT1_model.pickle')):\n",
    "    pickle_in = open('models/DT1_model.pickle','rb')\n",
    "    DTclf = pickle.load(pickle_in)\n",
    "    print(\"pickle file used\")\n",
    "else:\n",
    "    classifier = classifier.fit(titanic_train, labels_train)\n",
    "    with open('models/DT1_model.pickle','wb') as f:\n",
    "            pickle.dump(classifier, f)\n",
    "    pickle_in = open('models/DT1_model.pickle','rb')\n",
    "    DTclf = pickle.load(pickle_in)\n",
    "pickle_in.close()"
   ]
  },
  {
   "cell_type": "code",
   "execution_count": 127,
   "id": "79de99ce",
   "metadata": {},
   "outputs": [
    {
     "name": "stdout",
     "output_type": "stream",
     "text": [
      "Accuracy: 0.7206703910614525\n",
      "Precision (Weighted): 0.7206703910614525\n",
      "Recall (Weighted): 0.7206703910614525\n",
      "F1 Score (Weighted): 0.7206703910614525\n",
      "              precision    recall  f1-score   support\n",
      "\n",
      "           0       0.76      0.76      0.76       105\n",
      "           1       0.66      0.66      0.66        74\n",
      "\n",
      "    accuracy                           0.72       179\n",
      "   macro avg       0.71      0.71      0.71       179\n",
      "weighted avg       0.72      0.72      0.72       179\n",
      "\n"
     ]
    },
    {
     "data": {
      "text/plain": [
       "<sklearn.metrics._plot.confusion_matrix.ConfusionMatrixDisplay at 0x203596f7580>"
      ]
     },
     "execution_count": 127,
     "metadata": {},
     "output_type": "execute_result"
    },
    {
     "data": {
      "image/png": "[encoded data removed]",
      "text/plain": [
       "<Figure size 1000x1000 with 2 Axes>"
      ]
     },
     "metadata": {},
     "output_type": "display_data"
    }
   ],
   "source": [
    "labels_titanic_predict = DTclf.predict(titanic_test)\n",
    "\n",
    "metrics(labels_test, labels_titanic_predict)\n",
    "cmp = ConfusionMatrixDisplay(confusion_matrix(y_true=labels_test, y_pred= labels_titanic_predict))\n",
    "fig, ax = plt.subplots(figsize=(10,10))\n",
    "cmp.plot(ax=ax,cmap='magma')\n"
   ]
  },
  {
   "cell_type": "code",
   "execution_count": null,
   "id": "cc5a41a0",
   "metadata": {},
   "outputs": [],
   "source": [
    "plot_tree(DTclf, feature_names= titanic_train.columns)"
   ]
  },
  {
   "cell_type": "markdown",
   "id": "05bcc7a2",
   "metadata": {},
   "source": [
    "<h2>Multi-Layered Perceptron (neural network.MLPClassifier) with the default parameters.</h2>"
   ]
  },
  {
   "cell_type": "code",
   "execution_count": 129,
   "id": "e5119811",
   "metadata": {},
   "outputs": [
    {
     "name": "stdout",
     "output_type": "stream",
     "text": [
      "pickle file used\n"
     ]
    }
   ],
   "source": [
    "classifier = MLPClassifier(random_state = 19)\n",
    "if (os.path.exists('models/MLP1_model.pickle')):\n",
    "    pickle_in = open('models/MLP1_model.pickle','rb')\n",
    "    MLPclf = pickle.load(pickle_in)\n",
    "    print(\"pickle file used\")\n",
    "else:\n",
    "    classifier = classifier.fit(titanic_train, labels_train)\n",
    "    with open('models/MLP1_model.pickle','wb') as f:\n",
    "            pickle.dump(classifier, f)\n",
    "    pickle_in = open('models/MLP1_model.pickle','rb')\n",
    "    MLPclf = pickle.load(pickle_in)\n",
    "pickle_in.close()"
   ]
  },
  {
   "cell_type": "code",
   "execution_count": 130,
   "id": "5600c20e",
   "metadata": {},
   "outputs": [],
   "source": [
    "# This can be used \n",
    "# print(np.shape(titanic_train))\n",
    "# print(np.shape(labels_train))"
   ]
  },
  {
   "cell_type": "code",
   "execution_count": 131,
   "id": "294d1552",
   "metadata": {
    "scrolled": true
   },
   "outputs": [
    {
     "name": "stdout",
     "output_type": "stream",
     "text": [
      "Accuracy: 0.7318435754189944\n",
      "Precision (Weighted): 0.7395820006539015\n",
      "Recall (Weighted): 0.7318435754189944\n",
      "F1 Score (Weighted): 0.7180408586494387\n",
      "              precision    recall  f1-score   support\n",
      "\n",
      "           0       0.72      0.90      0.80       105\n",
      "           1       0.77      0.50      0.61        74\n",
      "\n",
      "    accuracy                           0.73       179\n",
      "   macro avg       0.74      0.70      0.70       179\n",
      "weighted avg       0.74      0.73      0.72       179\n",
      "\n"
     ]
    },
    {
     "data": {
      "text/plain": [
       "<sklearn.metrics._plot.confusion_matrix.ConfusionMatrixDisplay at 0x203597d0520>"
      ]
     },
     "execution_count": 131,
     "metadata": {},
     "output_type": "execute_result"
    },
    {
     "data": {
      "image/png": "[encoded data removed]",
      "text/plain": [
       "<Figure size 1000x1000 with 2 Axes>"
      ]
     },
     "metadata": {},
     "output_type": "display_data"
    }
   ],
   "source": [
    "labels_titanic_predict = MLPclf.predict(titanic_test)\n",
    "metrics(labels_test, labels_titanic_predict)\n",
    "cmp = ConfusionMatrixDisplay(confusion_matrix(y_true=labels_test, y_pred= labels_titanic_predict))\n",
    "fig, ax = plt.subplots(figsize=(10,10))\n",
    "cmp.plot(ax=ax,cmap='magma')"
   ]
  },
  {
   "cell_type": "markdown",
   "id": "66992eee",
   "metadata": {},
   "source": [
    "<h1>Model Refinement Through Hyperparameter Search</h1>\n",
    "\n",
    "Idea is to take find hyperparameter values that will improve the performance of the model's prediction. Hyperparameters are parameters you can control over the model (ex: maxDepth of a Decision Tree, etc.)\n",
    "\n",
    "https://scikit-learn.org/stable/modules/classes.html#hyper-parameter-optimizers "
   ]
  },
  {
   "cell_type": "markdown",
   "id": "0769877b",
   "metadata": {},
   "source": [
    "<h2>Multinomial Naive Bayes Classifier found using GridSearchCV</h2>\n",
    "\n",
    "Hyperparameters are called attributes in scikit-learn documentation <br>\n",
    "https://scikit-learn.org/stable/modules/generated/sklearn.naive_bayes.MultinomialNB.html#sklearn.naive_bayes.MultinomialNB\n"
   ]
  },
  {
   "cell_type": "code",
   "execution_count": 132,
   "id": "d9ae7194",
   "metadata": {},
   "outputs": [
    {
     "name": "stdout",
     "output_type": "stream",
     "text": [
      "pickle file used\n"
     ]
    }
   ],
   "source": [
    "parameters = {\"alpha\":(0.5,0,0.36,1)}\n",
    "clfMNB = MultinomialNB()\n",
    "\n",
    "classifier = GridSearchCV(estimator=clfMNB, param_grid=parameters,n_jobs=-1, scoring = \"recall\")\n",
    "\n",
    "if (os.path.exists('models/MNB1GridCV_model.pickle')):\n",
    "    pickle_in = open('models/MNB1GridCV_model.pickle','rb')\n",
    "    MNBclfGrid = pickle.load(pickle_in)\n",
    "    print(\"pickle file used\")\n",
    "else:\n",
    "    classifier = classifier.fit(titanic_train, labels_train)\n",
    "    with open('models/MNB1GridCV_model.pickle','wb') as f:\n",
    "        pickle.dump(classifier, f)\n",
    "\n",
    "    pickle_in = open('models/MNB1GridCV_model.pickle','rb')\n",
    "    MNBclfGrid = pickle.load(pickle_in)\n",
    "pickle_in.close()\n"
   ]
  },
  {
   "cell_type": "code",
   "execution_count": 133,
   "id": "a39ec2a9",
   "metadata": {},
   "outputs": [
    {
     "name": "stdout",
     "output_type": "stream",
     "text": [
      "Best estimator: MultinomialNB(alpha=0.5)\n",
      "Accuracy: 0.7150837988826816\n",
      "Precision (Weighted): 0.7123686733928125\n",
      "Recall (Weighted): 0.7150837988826816\n",
      "F1 Score (Weighted): 0.7126068335103507\n",
      "              precision    recall  f1-score   support\n",
      "\n",
      "           0       0.74      0.79      0.76       105\n",
      "           1       0.67      0.61      0.64        74\n",
      "\n",
      "    accuracy                           0.72       179\n",
      "   macro avg       0.71      0.70      0.70       179\n",
      "weighted avg       0.71      0.72      0.71       179\n",
      "\n"
     ]
    },
    {
     "data": {
      "text/plain": [
       "<sklearn.metrics._plot.confusion_matrix.ConfusionMatrixDisplay at 0x20359fa2d40>"
      ]
     },
     "execution_count": 133,
     "metadata": {},
     "output_type": "execute_result"
    },
    {
     "data": {
      "image/png": "[encoded data removed]",
      "text/plain": [
       "<Figure size 1000x1000 with 2 Axes>"
      ]
     },
     "metadata": {},
     "output_type": "display_data"
    }
   ],
   "source": [
    "labels_titanic_predict = MNBclfGrid.predict(titanic_test)\n",
    "\n",
    "print(f\"Best estimator: {MNBclfGrid.best_estimator_}\")\n",
    "metrics(labels_test, labels_titanic_predict)\n",
    "cmp = ConfusionMatrixDisplay(confusion_matrix(y_true=labels_test, y_pred= labels_titanic_predict))\n",
    "fig, ax = plt.subplots(figsize=(10,10))\n",
    "cmp.plot(ax=ax,cmap='magma')"
   ]
  },
  {
   "cell_type": "markdown",
   "id": "d5689bef",
   "metadata": {},
   "source": [
    "<h2>Decision Tree Classifier found using GridSearchCV</h2>\n",
    "\n",
    "Hyperparameters are called attributes in scikit-learn documentation <br>\n",
    "\n",
    "https://scikit-learn.org/stable/modules/generated/sklearn.tree.DecisionTreeClassifier.html#sklearn.tree.DecisionTreeClassifier "
   ]
  },
  {
   "cell_type": "code",
   "execution_count": 134,
   "id": "bcf52bf6",
   "metadata": {},
   "outputs": [
    {
     "name": "stdout",
     "output_type": "stream",
     "text": [
      "pickle file used\n"
     ]
    }
   ],
   "source": [
    "parameters = {\"criterion\":(\"gini\",\"entropy\"),\"max_depth\":(100,3,10,5),\"min_samples_split\":(12,5,30)}\n",
    "clfDT = DecisionTreeClassifier()\n",
    "\n",
    "classifier = GridSearchCV(estimator=clfDT, param_grid=parameters,n_jobs=-1, scoring = \"recall\")\n",
    "\n",
    "if (os.path.exists('models/DT1GridCV_model.pickle')):\n",
    "    pickle_in = open('models/DT1GridCV_model.pickle','rb')\n",
    "    DTclfGrid = pickle.load(pickle_in)\n",
    "    print(\"pickle file used\")\n",
    "else:\n",
    "    classifier = classifier.fit(titanic_train, labels_train)\n",
    "    with open('models/DT1GridCV_model.pickle','wb') as f:\n",
    "        pickle.dump(classifier, f)\n",
    "\n",
    "    pickle_in = open('models/DT1GridCV_model.pickle','rb')\n",
    "    DTclfGrid = pickle.load(pickle_in)\n",
    "pickle_in.close()"
   ]
  },
  {
   "cell_type": "code",
   "execution_count": 135,
   "id": "338b507b",
   "metadata": {},
   "outputs": [
    {
     "name": "stdout",
     "output_type": "stream",
     "text": [
      "Best estimator: DecisionTreeClassifier(criterion='entropy', max_depth=3, min_samples_split=30)\n",
      "Accuracy: 0.7988826815642458\n",
      "Precision (Weighted): 0.7987081005586593\n",
      "Recall (Weighted): 0.7988826815642458\n",
      "F1 Score (Weighted): 0.7961666703468987\n",
      "              precision    recall  f1-score   support\n",
      "\n",
      "           0       0.80      0.88      0.84       105\n",
      "           1       0.80      0.69      0.74        74\n",
      "\n",
      "    accuracy                           0.80       179\n",
      "   macro avg       0.80      0.78      0.79       179\n",
      "weighted avg       0.80      0.80      0.80       179\n",
      "\n"
     ]
    },
    {
     "data": {
      "text/plain": [
       "<sklearn.metrics._plot.confusion_matrix.ConfusionMatrixDisplay at 0x2035c0dfa00>"
      ]
     },
     "execution_count": 135,
     "metadata": {},
     "output_type": "execute_result"
    },
    {
     "data": {
      "image/png": "[encoded data removed]",
      "text/plain": [
       "<Figure size 1000x1000 with 2 Axes>"
      ]
     },
     "metadata": {},
     "output_type": "display_data"
    }
   ],
   "source": [
    "labels_titanic_predict = DTclfGrid.predict(titanic_test)\n",
    "\n",
    "print(f\"Best estimator: {DTclfGrid.best_estimator_}\")\n",
    "metrics(labels_test, labels_titanic_predict)\n",
    "cmp = ConfusionMatrixDisplay(confusion_matrix(y_true=labels_test, y_pred= labels_titanic_predict))\n",
    "fig, ax = plt.subplots(figsize=(10,10))\n",
    "cmp.plot(ax=ax,cmap='magma')"
   ]
  },
  {
   "cell_type": "code",
   "execution_count": 136,
   "id": "9b8ff239",
   "metadata": {},
   "outputs": [
    {
     "data": {
      "text/plain": [
       "[Text(0.5, 0.875, 'Sex <= 0.5\\nentropy = 0.955\\nsamples = 712\\nvalue = [444, 268]'),\n",
       " Text(0.25, 0.625, 'Pclass <= 2.5\\nentropy = 0.829\\nsamples = 245\\nvalue = [64, 181]'),\n",
       " Text(0.125, 0.375, 'PassengerId <= 301.0\\nentropy = 0.235\\nsamples = 130\\nvalue = [5, 125]'),\n",
       " Text(0.0625, 0.125, 'entropy = 0.513\\nsamples = 35\\nvalue = [4, 31]'),\n",
       " Text(0.1875, 0.125, 'entropy = 0.084\\nsamples = 95\\nvalue = [1, 94]'),\n",
       " Text(0.375, 0.375, 'Fare <= 23.35\\nentropy = 1.0\\nsamples = 115\\nvalue = [59, 56]'),\n",
       " Text(0.3125, 0.125, 'entropy = 0.979\\nsamples = 94\\nvalue = [39, 55]'),\n",
       " Text(0.4375, 0.125, 'entropy = 0.276\\nsamples = 21\\nvalue = [20, 1]'),\n",
       " Text(0.75, 0.625, 'Cabin <= 145.0\\nentropy = 0.694\\nsamples = 467\\nvalue = [380, 87]'),\n",
       " Text(0.625, 0.375, 'Age <= 17.5\\nentropy = 0.977\\nsamples = 85\\nvalue = [50, 35]'),\n",
       " Text(0.5625, 0.125, 'entropy = 0.0\\nsamples = 7\\nvalue = [0, 7]'),\n",
       " Text(0.6875, 0.125, 'entropy = 0.942\\nsamples = 78\\nvalue = [50, 28]'),\n",
       " Text(0.875, 0.375, 'Age <= 13.0\\nentropy = 0.574\\nsamples = 382\\nvalue = [330, 52]'),\n",
       " Text(0.8125, 0.125, 'entropy = 0.996\\nsamples = 26\\nvalue = [14, 12]'),\n",
       " Text(0.9375, 0.125, 'entropy = 0.507\\nsamples = 356\\nvalue = [316, 40]')]"
      ]
     },
     "execution_count": 136,
     "metadata": {},
     "output_type": "execute_result"
    },
    {
     "data": {
      "image/png": "[encoded data removed]",
      "text/plain": [
       "<Figure size 640x480 with 1 Axes>"
      ]
     },
     "metadata": {},
     "output_type": "display_data"
    }
   ],
   "source": [
    "plot_tree(DTclfGrid.best_estimator_, feature_names= titanic_train.columns)"
   ]
  },
  {
   "cell_type": "markdown",
   "id": "11f17750",
   "metadata": {},
   "source": [
    "<h2>Multi-Layered Perceptron found using GridSearchCV</h2>\n",
    "\n",
    "Hyperparameters are called attributes in scikit-learn documentation <br>\n",
    "https://scikit-learn.org/stable/modules/generated/sklearn.neural_network.MLPClassifier.html#sklearn.neural_network.MLPClassifier "
   ]
  },
  {
   "cell_type": "code",
   "execution_count": 137,
   "id": "2cc7bfe4",
   "metadata": {},
   "outputs": [
    {
     "name": "stdout",
     "output_type": "stream",
     "text": [
      "pickle file used\n"
     ]
    }
   ],
   "source": [
    "parameters = {\"activation\":(\"identity\", \"logistic\", \"tanh\", \"relu\"),\"hidden_layer_sizes\":((11),(121,11),(6,12,4),(11,1,3,7)), \"solver\":(\"adam\",\"sgd\")}\n",
    "#currently 5 neurons then 5 neurons and 5 neurons then 10 neurons in the hidden layer\n",
    "clfMLP = MLPClassifier(early_stopping=True, verbose=True, max_iter=50, random_state = 19)\n",
    "classifier = GridSearchCV(estimator=clfMLP, param_grid=parameters, n_jobs=-1, scoring = \"recall\")\n",
    "skip=False # when set to False this search will execute\n",
    "\n",
    "if(not skip):\n",
    "    if (os.path.exists('models/MLP1GridCV_model.pickle')):\n",
    "        pickle_in = open('models/MLP1GridCV_model.pickle','rb')\n",
    "        MLPcflGrid = pickle.load(pickle_in)\n",
    "        print(\"pickle file used\")\n",
    "    else:\n",
    "        classifier = classifier.fit(titanic_train.values, labels_train.values)\n",
    "        with open('models/MLP1GridCV_model.pickle','wb') as f:\n",
    "            pickle.dump(classifier, f)\n",
    "\n",
    "        pickle_in = open('models/MLP1GridCV_model.pickle','rb')\n",
    "        MLPcflGrid = pickle.load(pickle_in)\n",
    "else:\n",
    "    print(\"skipped\")\n",
    "\n",
    "pickle_in.close()"
   ]
  },
  {
   "cell_type": "code",
   "execution_count": 138,
   "id": "5e5a6e5c",
   "metadata": {},
   "outputs": [
    {
     "name": "stdout",
     "output_type": "stream",
     "text": [
      "Best estimator: MLPClassifier(early_stopping=True, hidden_layer_sizes=11, max_iter=50,\n",
      "              random_state=19, verbose=True)\n",
      "Accuracy: 0.4692737430167598\n",
      "Precision (Weighted): 0.42542594291114266\n",
      "Recall (Weighted): 0.4692737430167598\n",
      "F1 Score (Weighted): 0.436804290917648\n",
      "              precision    recall  f1-score   support\n",
      "\n",
      "           0       0.54      0.69      0.60       105\n",
      "           1       0.27      0.16      0.20        74\n",
      "\n",
      "    accuracy                           0.47       179\n",
      "   macro avg       0.40      0.42      0.40       179\n",
      "weighted avg       0.43      0.47      0.44       179\n",
      "\n"
     ]
    },
    {
     "name": "stderr",
     "output_type": "stream",
     "text": [
      "C:\\Users\\chanj\\AppData\\Local\\Packages\\PythonSoftwareFoundation.Python.3.10_qbz5n2kfra8p0\\LocalCache\\local-packages\\Python310\\site-packages\\sklearn\\base.py:443: UserWarning: X has feature names, but MLPClassifier was fitted without feature names\n",
      "  warnings.warn(\n"
     ]
    },
    {
     "data": {
      "image/png": "[encoded data removed]",
      "text/plain": [
       "<Figure size 1000x1000 with 2 Axes>"
      ]
     },
     "metadata": {},
     "output_type": "display_data"
    }
   ],
   "source": [
    "if (os.path.exists('models/MLP1GridCV_model.pickle') and not skip):\n",
    "    labels_titanic_predict = MLPcflGrid.predict(titanic_test)\n",
    "    print(f\"Best estimator: {MLPcflGrid.best_estimator_}\")\n",
    "    metrics(labels_test, labels_titanic_predict)\n",
    "    cmp = ConfusionMatrixDisplay(confusion_matrix(y_true=labels_test, y_pred= labels_titanic_predict))\n",
    "    fig, ax = plt.subplots(figsize=(10,10))\n",
    "    cmp.plot(ax=ax,cmap='magma')\n",
    "else:\n",
    "    print(\"skipped\")"
   ]
  },
  {
   "cell_type": "markdown",
   "id": "6622038a",
   "metadata": {},
   "source": [
    "<h1>Your Turn</h1>\n",
    "\n",
    "Go find a model you want to use on this data<br>\n",
    "\n",
    "Simple things you can try:\n",
    "* manually selecting hyperparameters\n",
    "* change the features\n",
    "* try unsupervised learning \n",
    "\n",
    "If you don't know where to start feel free to discuss with myself or those around you!\n",
    "\n",
    "All models and fancy things can be found here \n",
    "https://scikit-learn.org/stable/modules/classes.html\n",
    "\n",
    "Need help picking a model?\n",
    "https://scikit-learn.org/stable/tutorial/machine_learning_map/index.html "
   ]
  },
  {
   "cell_type": "code",
   "execution_count": 139,
   "id": "92e40dc9",
   "metadata": {},
   "outputs": [
    {
     "ename": "NameError",
     "evalue": "name 'ModelClass' is not defined",
     "output_type": "error",
     "traceback": [
      "\u001b[1;31m---------------------------------------------------------------------------\u001b[0m",
      "\u001b[1;31mNameError\u001b[0m                                 Traceback (most recent call last)",
      "Cell \u001b[1;32mIn[139], line 1\u001b[0m\n\u001b[1;32m----> 1\u001b[0m classifier \u001b[39m=\u001b[39m ModelClass \u001b[39m# define a model \u001b[39;00m\n\u001b[0;32m      2\u001b[0m modelName \u001b[39m=\u001b[39m \u001b[39m\"\u001b[39m\u001b[39mUserModel\u001b[39m\u001b[39m\"\u001b[39m \u001b[39m# name your model\u001b[39;00m\n\u001b[0;32m      4\u001b[0m \u001b[39mif\u001b[39;00m (os\u001b[39m.\u001b[39mpath\u001b[39m.\u001b[39mexists(\u001b[39mf\u001b[39m\u001b[39m'\u001b[39m\u001b[39mmodels/\u001b[39m\u001b[39m{\u001b[39;00mmodelName\u001b[39m}\u001b[39;00m\u001b[39m.pickle\u001b[39m\u001b[39m'\u001b[39m)):\n",
      "\u001b[1;31mNameError\u001b[0m: name 'ModelClass' is not defined"
     ]
    }
   ],
   "source": [
    "classifier = ModelClass # define a model \n",
    "modelName = \"UserModel\" # name your model\n",
    "\n",
    "if (os.path.exists(f'models/{modelName}.pickle')):\n",
    "    pickle_in = open(f'models/{modelName}.pickle','rb')\n",
    "    user_clf = pickle.load(pickle_in)\n",
    "    print(\"pickle file used\")\n",
    "else:\n",
    "    classifier = classifier.fit(titanic_train, labels_train)\n",
    "    with open(f'models/{modelName}.pickle','wb') as f:\n",
    "            pickle.dump(classifier, f)\n",
    "    pickle_in = open(f'models/{modelName}.pickle','rb')\n",
    "    user_clf = pickle.load(pickle_in)\n",
    "pickle_in.close()"
   ]
  },
  {
   "cell_type": "code",
   "execution_count": null,
   "id": "14aa1ea8",
   "metadata": {},
   "outputs": [],
   "source": [
    "given_models = [\n",
    "    MNBclf,\n",
    "    DTclf,\n",
    "    MLPclf,\n",
    "    MNBclfGrid,\n",
    "    DTclfGrid,\n",
    "    MLPcflGrid,\n",
    "    user_clf\n",
    "]\n",
    "\n",
    "\n",
    "rows =[]\n",
    "for model in given_models:\n",
    "    rows.append(compareModels(labels_test, model.predict(titanic_test)))\n",
    "\n",
    "for count,model in enumerate(given_models):\n",
    "    if type(model) == GridSearchCV:\n",
    "        given_models[count] = f\"{model.best_estimator_}\"\n",
    "    else:\n",
    "        given_models[count] = f\"{model}\"\n",
    "    \n",
    "df = pd.DataFrame(rows,index = given_models,columns=['Accuracy', 'Precision', 'Recall', 'F1 Score'])\n",
    "df.sort_values(\"Recall\", ascending= False)"
   ]
  },
  {
   "cell_type": "markdown",
   "id": "31d219fd",
   "metadata": {},
   "source": [
    "<h1>More Resources</h1>\n",
    "\n",
    "\n",
    "Sci-kit learn linear models [Link](https://scikit-learn.org/stable/modules/classes.html#module-sklearn.linear_model).\n",
    "\n",
    "Sci-kit learn clustering models [Link](https://scikit-learn.org/stable/modules/classes.html#module-sklearn.cluster).\n",
    "\n",
    "Sci-kit learn ensemble models [Link](https://scikit-learn.org/stable/modules/classes.html#module-sklearn.ensemble)."
   ]
  }
 ],
 "metadata": {
  "kernelspec": {
   "display_name": "Python 3.10.10 64-bit (microsoft store)",
   "language": "python",
   "name": "python3"
  },
  "language_info": {
   "codemirror_mode": {
    "name": "ipython",
    "version": 3
   },
   "file_extension": ".py",
   "mimetype": "text/x-python",
   "name": "python",
   "nbconvert_exporter": "python",
   "pygments_lexer": "ipython3",
   "version": "3.10.10"
  },
  "vscode": {
   "interpreter": {
    "hash": "13809f5fbb2c71687ac0fbc02129e4c89f53832ed2f3a101566dd09001991f6b"
   }
  }
 },
 "nbformat": 4,
 "nbformat_minor": 5
}
