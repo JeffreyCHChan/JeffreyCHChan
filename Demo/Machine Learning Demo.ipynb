{
 "cells": [
  {
   "cell_type": "markdown",
   "id": "794c2fb4",
   "metadata": {},
   "source": [
    "<h1>Importing Libraries</h1>\n",
    "\n",
    "Please run \"pip install -r requirements.txt\" from the root of the project "
   ]
  },
  {
   "cell_type": "code",
   "execution_count": 5,
   "id": "1500b991",
   "metadata": {},
   "outputs": [
    {
     "name": "stdout",
     "output_type": "stream",
     "text": [
      "Requirement already satisfied: scikit-learn==1.1.2 in /Users/jeffreychan/.pyenv/versions/3.10.1/lib/python3.10/site-packages (from -r requirements.txt (line 1)) (1.1.2)\n",
      "Requirement already satisfied: numpy==1.22.3 in /Users/jeffreychan/.pyenv/versions/3.10.1/lib/python3.10/site-packages (from -r requirements.txt (line 2)) (1.22.3)\n",
      "Requirement already satisfied: pandas==1.5.2 in /Users/jeffreychan/.pyenv/versions/3.10.1/lib/python3.10/site-packages (from -r requirements.txt (line 3)) (1.5.2)\n",
      "Requirement already satisfied: matplotlib==3.5.3 in /Users/jeffreychan/.pyenv/versions/3.10.1/lib/python3.10/site-packages (from -r requirements.txt (line 4)) (3.5.3)\n",
      "Requirement already satisfied: threadpoolctl>=2.0.0 in /Users/jeffreychan/.pyenv/versions/3.10.1/lib/python3.10/site-packages (from scikit-learn==1.1.2->-r requirements.txt (line 1)) (3.2.0)\n",
      "Requirement already satisfied: scipy>=1.3.2 in /Users/jeffreychan/.pyenv/versions/3.10.1/lib/python3.10/site-packages (from scikit-learn==1.1.2->-r requirements.txt (line 1)) (1.11.3)\n",
      "Requirement already satisfied: joblib>=1.0.0 in /Users/jeffreychan/.pyenv/versions/3.10.1/lib/python3.10/site-packages (from scikit-learn==1.1.2->-r requirements.txt (line 1)) (1.3.2)\n",
      "Requirement already satisfied: pytz>=2020.1 in /Users/jeffreychan/.pyenv/versions/3.10.1/lib/python3.10/site-packages (from pandas==1.5.2->-r requirements.txt (line 3)) (2023.3.post1)\n",
      "Requirement already satisfied: python-dateutil>=2.8.1 in /Users/jeffreychan/.pyenv/versions/3.10.1/lib/python3.10/site-packages (from pandas==1.5.2->-r requirements.txt (line 3)) (2.8.2)\n",
      "Requirement already satisfied: pyparsing>=2.2.1 in /Users/jeffreychan/.pyenv/versions/3.10.1/lib/python3.10/site-packages (from matplotlib==3.5.3->-r requirements.txt (line 4)) (3.1.1)\n",
      "Requirement already satisfied: pillow>=6.2.0 in /Users/jeffreychan/.pyenv/versions/3.10.1/lib/python3.10/site-packages (from matplotlib==3.5.3->-r requirements.txt (line 4)) (10.1.0)\n",
      "Requirement already satisfied: fonttools>=4.22.0 in /Users/jeffreychan/.pyenv/versions/3.10.1/lib/python3.10/site-packages (from matplotlib==3.5.3->-r requirements.txt (line 4)) (4.43.1)\n",
      "Requirement already satisfied: kiwisolver>=1.0.1 in /Users/jeffreychan/.pyenv/versions/3.10.1/lib/python3.10/site-packages (from matplotlib==3.5.3->-r requirements.txt (line 4)) (1.4.5)\n",
      "Requirement already satisfied: packaging>=20.0 in /Users/jeffreychan/.pyenv/versions/3.10.1/lib/python3.10/site-packages (from matplotlib==3.5.3->-r requirements.txt (line 4)) (23.2)\n",
      "Requirement already satisfied: cycler>=0.10 in /Users/jeffreychan/.pyenv/versions/3.10.1/lib/python3.10/site-packages (from matplotlib==3.5.3->-r requirements.txt (line 4)) (0.12.1)\n",
      "Requirement already satisfied: six>=1.5 in /Users/jeffreychan/.pyenv/versions/3.10.1/lib/python3.10/site-packages (from python-dateutil>=2.8.1->pandas==1.5.2->-r requirements.txt (line 3)) (1.16.0)\n",
      "\u001b[33mWARNING: You are using pip version 21.2.4; however, version 23.3.1 is available.\n",
      "You should consider upgrading via the '/Users/jeffreychan/.pyenv/versions/3.10.1/bin/python -m pip install --upgrade pip' command.\u001b[0m\n",
      "Note: you may need to restart the kernel to use updated packages.\n"
     ]
    }
   ],
   "source": [
    "%pip install -r requirements.txt"
   ]
  },
  {
   "cell_type": "code",
   "execution_count": 6,
   "id": "b8926ffe",
   "metadata": {},
   "outputs": [],
   "source": [
    "import os\n",
    "import pickle\n",
    "import pandas as pd\n",
    "import numpy as np\n",
    "import matplotlib.pyplot as plt\n",
    "from sklearn.model_selection import train_test_split\n",
    "from sklearn import preprocessing\n",
    "from sklearn.naive_bayes import MultinomialNB\n",
    "from sklearn.tree import DecisionTreeClassifier, plot_tree\n",
    "from sklearn.neural_network import MLPClassifier\n",
    "from sklearn.model_selection import GridSearchCV, cross_val_score\n",
    "from sklearn.metrics import f1_score, precision_score, accuracy_score, recall_score, ConfusionMatrixDisplay, confusion_matrix, classification_report\n",
    "import warnings\n",
    "# Disable all FutureWarnings\n",
    "warnings.filterwarnings(\"ignore\", category=FutureWarning)"
   ]
  },
  {
   "cell_type": "markdown",
   "id": "a105a5f0",
   "metadata": {},
   "source": [
    "<h1>NumPy vs Pandas</h1>\n",
    "\n",
    "A Pandas DataFrame is a two-dimensional, tabular, mutable data structure in Python that can store tabular data containing objects of different data types.\n",
    "\n",
    "A NumPy array is a type of multi-dimensional data structure in Python which can store objects of similar data types."
   ]
  },
  {
   "cell_type": "markdown",
   "id": "71d8da82",
   "metadata": {},
   "source": [
    "<h1>Titanic Dataset</h1>\n",
    "\n",
    "https://www.kaggle.com/c/titanic/data\n",
    "\n",
    "<h2> Variable Notes </h2>\n",
    "\n",
    "| Variable  | Definition                  | Key                                            |\n",
    "|-----------|-----------------------------|------------------------------------------------|\n",
    "| survival  | Survival                    | 0 = No, 1 = Yes                                |\n",
    "| pclass    | Ticket class                | 1 = 1st, 2 = 2nd, 3 = 3rd                      |\n",
    "| sex       | Sex                         |                                                |\n",
    "| Age       | Age in years                |                                                |\n",
    "| sibsp     | # of siblings / spouses aboard the Titanic |                                      |\n",
    "| parch     | # of parents / children aboard the Titanic |                                      |\n",
    "| ticket    | Ticket number               |                                                |\n",
    "| fare      | Passenger fare              |                                                |\n",
    "| cabin     | Cabin number                |                                                |\n",
    "| embarked  | Port of Embarkation         | C = Cherbourg, Q = Queenstown, S = Southampton |\n"
   ]
  },
  {
   "cell_type": "markdown",
   "id": "2a700020",
   "metadata": {},
   "source": [
    "<h1>Data Preparation</h1>\n",
    "\n",
    "Here the goal is to make the necessary manipulations so that the models will accept them.\n",
    "This includes filling in Nan (Not a number) values in the pandas."
   ]
  },
  {
   "cell_type": "code",
   "execution_count": 7,
   "id": "d80c3f92",
   "metadata": {},
   "outputs": [],
   "source": [
    "\n",
    "label_encoder = preprocessing.LabelEncoder()\n",
    "current_directory = os.getcwd()\n",
    "try:\n",
    "    titanic = pd.read_csv(current_directory+'\\\\titanic.csv')\n",
    "except FileNotFoundError:\n",
    "    titanic = pd.read_csv(current_directory+'/titanic.csv')\n",
    "    \n",
    "\n",
    "# Operations to create a distinct value that I know I can encode.\n",
    "titanic[\"Cabin\"].fillna(\"Not Known\")\n",
    "titanic[\"Embarked\"].fillna(\"Not Known\")\n",
    "titanic[\"Sex\"].fillna(\"Not Known\")\n",
    "titanic[\"Ticket\"].fillna(\"Not Known\")\n",
    "titanic[\"Name\"].fillna(\"Not Known\")\n",
    "\n",
    "# Encoding the values in these columns then replacing the columns with the encoded version\n",
    "titanic[\"Cabin\"] = label_encoder.fit_transform(titanic[\"Cabin\"])\n",
    "titanic[\"Name\"] = label_encoder.fit_transform(titanic[\"Name\"])\n",
    "titanic[\"Sex\"] = label_encoder.fit_transform(titanic[\"Sex\"])\n",
    "titanic[\"Ticket\"] = label_encoder.fit_transform(titanic[\"Ticket\"])\n",
    "titanic[\"Embarked\"] = label_encoder.fit_transform(titanic[\"Embarked\"])\n",
    "\n",
    "titanic_labels = titanic[\"Survived\"]\n",
    "# The Survived column can be disgarded now as we have separated it from the features into its own variable.\n",
    "titanic = titanic.drop(\"Survived\", axis=1)"
   ]
  },
  {
   "cell_type": "markdown",
   "id": "8df4f7de",
   "metadata": {},
   "source": [
    "<h1>Data Splitting and Final Data Manipulations </h1>\n",
    "\n",
    "A reason to do fillna that would uses an aggregate (sum, mean, min, etc.) is to prevent data leaking between the training set and test set!"
   ]
  },
  {
   "cell_type": "code",
   "execution_count": 8,
   "id": "d4a4c17e",
   "metadata": {},
   "outputs": [],
   "source": [
    "# Play around and see what happens to the models when you change the test-training ratios\n",
    "train_size = 0.8\n",
    "test_size = 1 - train_size\n",
    "assert train_size + test_size == 1\n",
    "\n",
    "# I decided to drop the Name column as I believe it to generate unique values when encoded \n",
    "titanic.drop(\"Name\",axis=1, inplace=True)\n",
    "\n",
    "# train_test_split this is a method that scikit-learn provides in the library\n",
    "titanic_train, titanic_test, labels_train, labels_test = train_test_split(titanic,titanic_labels , train_size=train_size, random_state=42)"
   ]
  },
  {
   "cell_type": "code",
   "execution_count": 9,
   "id": "683a4e68",
   "metadata": {},
   "outputs": [],
   "source": [
    "'''\n",
    "both ways are valid\n",
    "we do fillna here instead of above as we want to avoid data leaking since an average would \n",
    "use all the data in the column before splitting\n",
    "'''\n",
    "titanic_train[\"Age\"].fillna(titanic_train[\"Age\"].mean(), inplace=True)\n",
    "\n",
    "titanic_test[\"Age\"] = titanic_test[\"Age\"].fillna(titanic_test[\"Age\"].mean())"
   ]
  },
  {
   "cell_type": "markdown",
   "id": "649ca624",
   "metadata": {},
   "source": [
    "<h1>Quick Check</h1>\n",
    "\n",
    "Always good idea to validate that your data manipulations/operations expectations matches your results."
   ]
  },
  {
   "cell_type": "code",
   "execution_count": 10,
   "id": "b0c850f1",
   "metadata": {},
   "outputs": [
    {
     "data": {
      "text/html": [
       "<div>\n",
       "<style scoped>\n",
       "    .dataframe tbody tr th:only-of-type {\n",
       "        vertical-align: middle;\n",
       "    }\n",
       "\n",
       "    .dataframe tbody tr th {\n",
       "        vertical-align: top;\n",
       "    }\n",
       "\n",
       "    .dataframe thead th {\n",
       "        text-align: right;\n",
       "    }\n",
       "</style>\n",
       "<table border=\"1\" class=\"dataframe\">\n",
       "  <thead>\n",
       "    <tr style=\"text-align: right;\">\n",
       "      <th></th>\n",
       "      <th>PassengerId</th>\n",
       "      <th>Pclass</th>\n",
       "      <th>Sex</th>\n",
       "      <th>Age</th>\n",
       "      <th>SibSp</th>\n",
       "      <th>Parch</th>\n",
       "      <th>Ticket</th>\n",
       "      <th>Fare</th>\n",
       "      <th>Cabin</th>\n",
       "      <th>Embarked</th>\n",
       "    </tr>\n",
       "  </thead>\n",
       "  <tbody>\n",
       "    <tr>\n",
       "      <th>5</th>\n",
       "      <td>6</td>\n",
       "      <td>3</td>\n",
       "      <td>1</td>\n",
       "      <td>NaN</td>\n",
       "      <td>0</td>\n",
       "      <td>0</td>\n",
       "      <td>275</td>\n",
       "      <td>8.4583</td>\n",
       "      <td>147</td>\n",
       "      <td>1</td>\n",
       "    </tr>\n",
       "    <tr>\n",
       "      <th>17</th>\n",
       "      <td>18</td>\n",
       "      <td>2</td>\n",
       "      <td>1</td>\n",
       "      <td>NaN</td>\n",
       "      <td>0</td>\n",
       "      <td>0</td>\n",
       "      <td>151</td>\n",
       "      <td>13.0000</td>\n",
       "      <td>147</td>\n",
       "      <td>2</td>\n",
       "    </tr>\n",
       "    <tr>\n",
       "      <th>19</th>\n",
       "      <td>20</td>\n",
       "      <td>3</td>\n",
       "      <td>0</td>\n",
       "      <td>NaN</td>\n",
       "      <td>0</td>\n",
       "      <td>0</td>\n",
       "      <td>184</td>\n",
       "      <td>7.2250</td>\n",
       "      <td>147</td>\n",
       "      <td>0</td>\n",
       "    </tr>\n",
       "    <tr>\n",
       "      <th>26</th>\n",
       "      <td>27</td>\n",
       "      <td>3</td>\n",
       "      <td>1</td>\n",
       "      <td>NaN</td>\n",
       "      <td>0</td>\n",
       "      <td>0</td>\n",
       "      <td>179</td>\n",
       "      <td>7.2250</td>\n",
       "      <td>147</td>\n",
       "      <td>0</td>\n",
       "    </tr>\n",
       "    <tr>\n",
       "      <th>28</th>\n",
       "      <td>29</td>\n",
       "      <td>3</td>\n",
       "      <td>0</td>\n",
       "      <td>NaN</td>\n",
       "      <td>0</td>\n",
       "      <td>0</td>\n",
       "      <td>283</td>\n",
       "      <td>7.8792</td>\n",
       "      <td>147</td>\n",
       "      <td>1</td>\n",
       "    </tr>\n",
       "    <tr>\n",
       "      <th>...</th>\n",
       "      <td>...</td>\n",
       "      <td>...</td>\n",
       "      <td>...</td>\n",
       "      <td>...</td>\n",
       "      <td>...</td>\n",
       "      <td>...</td>\n",
       "      <td>...</td>\n",
       "      <td>...</td>\n",
       "      <td>...</td>\n",
       "      <td>...</td>\n",
       "    </tr>\n",
       "    <tr>\n",
       "      <th>859</th>\n",
       "      <td>860</td>\n",
       "      <td>3</td>\n",
       "      <td>1</td>\n",
       "      <td>NaN</td>\n",
       "      <td>0</td>\n",
       "      <td>0</td>\n",
       "      <td>178</td>\n",
       "      <td>7.2292</td>\n",
       "      <td>147</td>\n",
       "      <td>0</td>\n",
       "    </tr>\n",
       "    <tr>\n",
       "      <th>863</th>\n",
       "      <td>864</td>\n",
       "      <td>3</td>\n",
       "      <td>0</td>\n",
       "      <td>NaN</td>\n",
       "      <td>8</td>\n",
       "      <td>2</td>\n",
       "      <td>568</td>\n",
       "      <td>69.5500</td>\n",
       "      <td>147</td>\n",
       "      <td>2</td>\n",
       "    </tr>\n",
       "    <tr>\n",
       "      <th>868</th>\n",
       "      <td>869</td>\n",
       "      <td>3</td>\n",
       "      <td>1</td>\n",
       "      <td>NaN</td>\n",
       "      <td>0</td>\n",
       "      <td>0</td>\n",
       "      <td>309</td>\n",
       "      <td>9.5000</td>\n",
       "      <td>147</td>\n",
       "      <td>2</td>\n",
       "    </tr>\n",
       "    <tr>\n",
       "      <th>878</th>\n",
       "      <td>879</td>\n",
       "      <td>3</td>\n",
       "      <td>1</td>\n",
       "      <td>NaN</td>\n",
       "      <td>0</td>\n",
       "      <td>0</td>\n",
       "      <td>363</td>\n",
       "      <td>7.8958</td>\n",
       "      <td>147</td>\n",
       "      <td>2</td>\n",
       "    </tr>\n",
       "    <tr>\n",
       "      <th>888</th>\n",
       "      <td>889</td>\n",
       "      <td>3</td>\n",
       "      <td>0</td>\n",
       "      <td>NaN</td>\n",
       "      <td>1</td>\n",
       "      <td>2</td>\n",
       "      <td>675</td>\n",
       "      <td>23.4500</td>\n",
       "      <td>147</td>\n",
       "      <td>2</td>\n",
       "    </tr>\n",
       "  </tbody>\n",
       "</table>\n",
       "<p>177 rows × 10 columns</p>\n",
       "</div>"
      ],
      "text/plain": [
       "     PassengerId  Pclass  Sex  Age  SibSp  Parch  Ticket     Fare  Cabin  \\\n",
       "5              6       3    1  NaN      0      0     275   8.4583    147   \n",
       "17            18       2    1  NaN      0      0     151  13.0000    147   \n",
       "19            20       3    0  NaN      0      0     184   7.2250    147   \n",
       "26            27       3    1  NaN      0      0     179   7.2250    147   \n",
       "28            29       3    0  NaN      0      0     283   7.8792    147   \n",
       "..           ...     ...  ...  ...    ...    ...     ...      ...    ...   \n",
       "859          860       3    1  NaN      0      0     178   7.2292    147   \n",
       "863          864       3    0  NaN      8      2     568  69.5500    147   \n",
       "868          869       3    1  NaN      0      0     309   9.5000    147   \n",
       "878          879       3    1  NaN      0      0     363   7.8958    147   \n",
       "888          889       3    0  NaN      1      2     675  23.4500    147   \n",
       "\n",
       "     Embarked  \n",
       "5           1  \n",
       "17          2  \n",
       "19          0  \n",
       "26          0  \n",
       "28          1  \n",
       "..        ...  \n",
       "859         0  \n",
       "863         2  \n",
       "868         2  \n",
       "878         2  \n",
       "888         2  \n",
       "\n",
       "[177 rows x 10 columns]"
      ]
     },
     "execution_count": 10,
     "metadata": {},
     "output_type": "execute_result"
    }
   ],
   "source": [
    "titanic.loc[titanic[\"Age\"].isna()==True]\n",
    "# We know that Age has NaN (Not a Number) values so let's check "
   ]
  },
  {
   "cell_type": "code",
   "execution_count": 11,
   "id": "533ff73c",
   "metadata": {},
   "outputs": [
    {
     "data": {
      "text/html": [
       "<div>\n",
       "<style scoped>\n",
       "    .dataframe tbody tr th:only-of-type {\n",
       "        vertical-align: middle;\n",
       "    }\n",
       "\n",
       "    .dataframe tbody tr th {\n",
       "        vertical-align: top;\n",
       "    }\n",
       "\n",
       "    .dataframe thead th {\n",
       "        text-align: right;\n",
       "    }\n",
       "</style>\n",
       "<table border=\"1\" class=\"dataframe\">\n",
       "  <thead>\n",
       "    <tr style=\"text-align: right;\">\n",
       "      <th></th>\n",
       "      <th>PassengerId</th>\n",
       "      <th>Pclass</th>\n",
       "      <th>Sex</th>\n",
       "      <th>Age</th>\n",
       "      <th>SibSp</th>\n",
       "      <th>Parch</th>\n",
       "      <th>Ticket</th>\n",
       "      <th>Fare</th>\n",
       "      <th>Cabin</th>\n",
       "      <th>Embarked</th>\n",
       "    </tr>\n",
       "  </thead>\n",
       "  <tbody>\n",
       "  </tbody>\n",
       "</table>\n",
       "</div>"
      ],
      "text/plain": [
       "Empty DataFrame\n",
       "Columns: [PassengerId, Pclass, Sex, Age, SibSp, Parch, Ticket, Fare, Cabin, Embarked]\n",
       "Index: []"
      ]
     },
     "execution_count": 11,
     "metadata": {},
     "output_type": "execute_result"
    }
   ],
   "source": [
    "titanic_train.loc[titanic_train[\"Age\"].isna()==True]\n",
    "# no rows should appear"
   ]
  },
  {
   "cell_type": "code",
   "execution_count": 12,
   "id": "b6768f3e",
   "metadata": {},
   "outputs": [
    {
     "data": {
      "text/html": [
       "<div>\n",
       "<style scoped>\n",
       "    .dataframe tbody tr th:only-of-type {\n",
       "        vertical-align: middle;\n",
       "    }\n",
       "\n",
       "    .dataframe tbody tr th {\n",
       "        vertical-align: top;\n",
       "    }\n",
       "\n",
       "    .dataframe thead th {\n",
       "        text-align: right;\n",
       "    }\n",
       "</style>\n",
       "<table border=\"1\" class=\"dataframe\">\n",
       "  <thead>\n",
       "    <tr style=\"text-align: right;\">\n",
       "      <th></th>\n",
       "      <th>PassengerId</th>\n",
       "      <th>Pclass</th>\n",
       "      <th>Sex</th>\n",
       "      <th>Age</th>\n",
       "      <th>SibSp</th>\n",
       "      <th>Parch</th>\n",
       "      <th>Ticket</th>\n",
       "      <th>Fare</th>\n",
       "      <th>Cabin</th>\n",
       "      <th>Embarked</th>\n",
       "    </tr>\n",
       "  </thead>\n",
       "  <tbody>\n",
       "  </tbody>\n",
       "</table>\n",
       "</div>"
      ],
      "text/plain": [
       "Empty DataFrame\n",
       "Columns: [PassengerId, Pclass, Sex, Age, SibSp, Parch, Ticket, Fare, Cabin, Embarked]\n",
       "Index: []"
      ]
     },
     "execution_count": 12,
     "metadata": {},
     "output_type": "execute_result"
    }
   ],
   "source": [
    "titanic_test.loc[titanic_test[\"Age\"].isna()==True]\n",
    "# no rows should appear"
   ]
  },
  {
   "cell_type": "code",
   "execution_count": 13,
   "id": "297a4a30",
   "metadata": {},
   "outputs": [],
   "source": [
    "def metrics(true_y,prediction_y):\n",
    "    print(f\"Accuracy: {accuracy_score(y_true=true_y,y_pred= prediction_y)}\")\n",
    "    print(f\"Precision (Weighted): {precision_score(y_true=true_y,y_pred= prediction_y, average='weighted')}\")\n",
    "    print(f\"Recall (Weighted): {recall_score(y_true=true_y,y_pred= prediction_y, average='weighted')}\")\n",
    "    print(f\"F1 Score (Weighted): {f1_score(y_true=true_y,y_pred= prediction_y,average='weighted')}\")\n",
    "    print(classification_report(y_true=true_y,y_pred= prediction_y, zero_division='warn'))\n",
    "    confusion_matrix(y_true=true_y,y_pred= prediction_y)\n",
    "\n",
    "def compareModels(true_y,prediction_y):\n",
    "    return [accuracy_score(y_true=true_y,y_pred= prediction_y),\n",
    "    precision_score(y_true=true_y,y_pred= prediction_y, average='weighted'),\n",
    "    recall_score(y_true=true_y,y_pred= prediction_y, average='weighted'),\n",
    "    f1_score(y_true=true_y,y_pred= prediction_y,average='weighted')]"
   ]
  },
  {
   "cell_type": "markdown",
   "id": "6ffef649",
   "metadata": {},
   "source": [
    "<h2>2.2 Training and Test data split</h2>"
   ]
  },
  {
   "cell_type": "markdown",
   "id": "2dcb7a46",
   "metadata": {},
   "source": [
    "<h2>Multinomial Naive Bayes Classifier (naive bayes.MultinomialNB)\n",
    "with the default parameters.</h2>"
   ]
  },
  {
   "cell_type": "code",
   "execution_count": 14,
   "id": "bce287e0",
   "metadata": {},
   "outputs": [
    {
     "name": "stdout",
     "output_type": "stream",
     "text": [
      "pickle file used\n"
     ]
    }
   ],
   "source": [
    "classifier = MultinomialNB()\n",
    "if (os.path.exists('models/MNB1_model.pickle')):\n",
    "    pickle_in = open('models/MNB1_model.pickle','rb')\n",
    "    MNBclf = pickle.load(pickle_in)\n",
    "    print(\"pickle file used\")\n",
    "else:\n",
    "    classifier = classifier.fit(titanic_train, labels_train)\n",
    "    with open('models/MNB1_model.pickle','wb') as f:\n",
    "        pickle.dump(classifier, f)\n",
    "\n",
    "    pickle_in = open('models/MNB1_model.pickle','rb')\n",
    "    MNBclf = pickle.load(pickle_in)\n",
    "pickle_in.close()"
   ]
  },
  {
   "cell_type": "code",
   "execution_count": 15,
   "id": "3b5e415c",
   "metadata": {},
   "outputs": [
    {
     "name": "stdout",
     "output_type": "stream",
     "text": [
      "Accuracy: 0.7150837988826816\n",
      "Precision (Weighted): 0.7123686733928125\n",
      "Recall (Weighted): 0.7150837988826816\n",
      "F1 Score (Weighted): 0.7126068335103507\n",
      "              precision    recall  f1-score   support\n",
      "\n",
      "           0       0.74      0.79      0.76       105\n",
      "           1       0.67      0.61      0.64        74\n",
      "\n",
      "    accuracy                           0.72       179\n",
      "   macro avg       0.71      0.70      0.70       179\n",
      "weighted avg       0.71      0.72      0.71       179\n",
      "\n"
     ]
    },
    {
     "data": {
      "text/plain": [
       "<sklearn.metrics._plot.confusion_matrix.ConfusionMatrixDisplay at 0x122427940>"
      ]
     },
     "execution_count": 15,
     "metadata": {},
     "output_type": "execute_result"
    },
    {
     "data": {
      "image/png": "[encoded data removed]",
      "text/plain": [
       "<Figure size 1000x1000 with 2 Axes>"
      ]
     },
     "metadata": {},
     "output_type": "display_data"
    }
   ],
   "source": [
    "labels_titanic_predict = MNBclf.predict(titanic_test)\n",
    "\n",
    "metrics(labels_test, labels_titanic_predict)\n",
    "cmp = ConfusionMatrixDisplay(confusion_matrix(y_true=labels_test, y_pred= labels_titanic_predict))\n",
    "fig, ax = plt.subplots(figsize=(10,10))\n",
    "cmp.plot(ax=ax,cmap='magma')"
   ]
  },
  {
   "cell_type": "markdown",
   "id": "0c414581",
   "metadata": {},
   "source": [
    "<h2>Decision Tree (tree.DecisionTreeClassifier) with the default parameters.</h2>"
   ]
  },
  {
   "cell_type": "code",
   "execution_count": 16,
   "id": "ce98aef6",
   "metadata": {},
   "outputs": [
    {
     "name": "stdout",
     "output_type": "stream",
     "text": [
      "pickle file used\n"
     ]
    }
   ],
   "source": [
    "classifier = DecisionTreeClassifier(criterion=\"entropy\") # default measure of chaos is gini in scikit-learn\n",
    "if (os.path.exists('models/DT1_model.pickle')):\n",
    "    pickle_in = open('models/DT1_model.pickle','rb')\n",
    "    DTclf = pickle.load(pickle_in)\n",
    "    print(\"pickle file used\")\n",
    "else:\n",
    "    classifier = classifier.fit(titanic_train, labels_train)\n",
    "    with open('models/DT1_model.pickle','wb') as f:\n",
    "            pickle.dump(classifier, f)\n",
    "    pickle_in = open('models/DT1_model.pickle','rb')\n",
    "    DTclf = pickle.load(pickle_in)\n",
    "pickle_in.close()"
   ]
  },
  {
   "cell_type": "code",
   "execution_count": 17,
   "id": "79de99ce",
   "metadata": {},
   "outputs": [
    {
     "name": "stdout",
     "output_type": "stream",
     "text": [
      "Accuracy: 0.7039106145251397\n",
      "Precision (Weighted): 0.7023544120089875\n",
      "Recall (Weighted): 0.7039106145251397\n",
      "F1 Score (Weighted): 0.7029327573997248\n",
      "              precision    recall  f1-score   support\n",
      "\n",
      "           0       0.74      0.76      0.75       105\n",
      "           1       0.65      0.62      0.63        74\n",
      "\n",
      "    accuracy                           0.70       179\n",
      "   macro avg       0.69      0.69      0.69       179\n",
      "weighted avg       0.70      0.70      0.70       179\n",
      "\n"
     ]
    },
    {
     "data": {
      "text/plain": [
       "<sklearn.metrics._plot.confusion_matrix.ConfusionMatrixDisplay at 0x10a85c850>"
      ]
     },
     "execution_count": 17,
     "metadata": {},
     "output_type": "execute_result"
    },
    {
     "data": {
      "image/png": "[encoded data removed]",
      "text/plain": [
       "<Figure size 1000x1000 with 2 Axes>"
      ]
     },
     "metadata": {},
     "output_type": "display_data"
    }
   ],
   "source": [
    "labels_titanic_predict = DTclf.predict(titanic_test)\n",
    "\n",
    "metrics(labels_test, labels_titanic_predict)\n",
    "cmp = ConfusionMatrixDisplay(confusion_matrix(y_true=labels_test, y_pred= labels_titanic_predict))\n",
    "fig, ax = plt.subplots(figsize=(10,10))\n",
    "cmp.plot(ax=ax,cmap='magma')\n"
   ]
  },
  {
   "cell_type": "code",
   "execution_count": 18,
   "id": "cc5a41a0",
   "metadata": {},
   "outputs": [
    {
     "data": {
      "text/plain": [
       "[Text(0.3847104519774011, 0.9761904761904762, 'Sex <= 0.5\\nentropy = 0.955\\nsamples = 712\\nvalue = [444, 268]'),\n",
       " Text(0.19138418079096045, 0.9285714285714286, 'Pclass <= 2.5\\nentropy = 0.829\\nsamples = 245\\nvalue = [64, 181]'),\n",
       " Text(0.0903954802259887, 0.8809523809523809, 'PassengerId <= 301.0\\nentropy = 0.235\\nsamples = 130\\nvalue = [5, 125]'),\n",
       " Text(0.06779661016949153, 0.8333333333333334, 'PassengerId <= 285.5\\nentropy = 0.513\\nsamples = 35\\nvalue = [4, 31]'),\n",
       " Text(0.05649717514124294, 0.7857142857142857, 'Fare <= 29.392\\nentropy = 0.431\\nsamples = 34\\nvalue = [3, 31]'),\n",
       " Text(0.04519774011299435, 0.7380952380952381, 'Fare <= 28.231\\nentropy = 0.65\\nsamples = 18\\nvalue = [3, 15]'),\n",
       " Text(0.03389830508474576, 0.6904761904761905, 'Age <= 28.0\\nentropy = 0.523\\nsamples = 17\\nvalue = [2, 15]'),\n",
       " Text(0.022598870056497175, 0.6428571428571429, 'Ticket <= 163.0\\nentropy = 0.918\\nsamples = 6\\nvalue = [2, 4]'),\n",
       " Text(0.011299435028248588, 0.5952380952380952, 'entropy = 0.0\\nsamples = 2\\nvalue = [2, 0]'),\n",
       " Text(0.03389830508474576, 0.5952380952380952, 'entropy = 0.0\\nsamples = 4\\nvalue = [0, 4]'),\n",
       " Text(0.04519774011299435, 0.6428571428571429, 'entropy = 0.0\\nsamples = 11\\nvalue = [0, 11]'),\n",
       " Text(0.05649717514124294, 0.6904761904761905, 'entropy = 0.0\\nsamples = 1\\nvalue = [1, 0]'),\n",
       " Text(0.06779661016949153, 0.7380952380952381, 'entropy = 0.0\\nsamples = 16\\nvalue = [0, 16]'),\n",
       " Text(0.07909604519774012, 0.7857142857142857, 'entropy = 0.0\\nsamples = 1\\nvalue = [1, 0]'),\n",
       " Text(0.11299435028248588, 0.8333333333333334, 'Fare <= 143.592\\nentropy = 0.084\\nsamples = 95\\nvalue = [1, 94]'),\n",
       " Text(0.1016949152542373, 0.7857142857142857, 'entropy = 0.0\\nsamples = 82\\nvalue = [0, 82]'),\n",
       " Text(0.12429378531073447, 0.7857142857142857, 'Ticket <= 66.0\\nentropy = 0.391\\nsamples = 13\\nvalue = [1, 12]'),\n",
       " Text(0.11299435028248588, 0.7380952380952381, 'SibSp <= 0.5\\nentropy = 1.0\\nsamples = 2\\nvalue = [1, 1]'),\n",
       " Text(0.1016949152542373, 0.6904761904761905, 'entropy = 0.0\\nsamples = 1\\nvalue = [0, 1]'),\n",
       " Text(0.12429378531073447, 0.6904761904761905, 'entropy = 0.0\\nsamples = 1\\nvalue = [1, 0]'),\n",
       " Text(0.13559322033898305, 0.7380952380952381, 'entropy = 0.0\\nsamples = 11\\nvalue = [0, 11]'),\n",
       " Text(0.2923728813559322, 0.8809523809523809, 'Fare <= 23.35\\nentropy = 1.0\\nsamples = 115\\nvalue = [59, 56]'),\n",
       " Text(0.2231638418079096, 0.8333333333333334, 'Ticket <= 255.5\\nentropy = 0.979\\nsamples = 94\\nvalue = [39, 55]'),\n",
       " Text(0.1694915254237288, 0.7857142857142857, 'Fare <= 13.371\\nentropy = 0.755\\nsamples = 23\\nvalue = [5, 18]'),\n",
       " Text(0.15819209039548024, 0.7380952380952381, 'entropy = 0.0\\nsamples = 10\\nvalue = [0, 10]'),\n",
       " Text(0.1807909604519774, 0.7380952380952381, 'Fare <= 15.494\\nentropy = 0.961\\nsamples = 13\\nvalue = [5, 8]'),\n",
       " Text(0.1694915254237288, 0.6904761904761905, 'PassengerId <= 248.5\\nentropy = 0.65\\nsamples = 6\\nvalue = [5, 1]'),\n",
       " Text(0.15819209039548024, 0.6428571428571429, 'entropy = 0.0\\nsamples = 4\\nvalue = [4, 0]'),\n",
       " Text(0.1807909604519774, 0.6428571428571429, 'Parch <= 1.5\\nentropy = 1.0\\nsamples = 2\\nvalue = [1, 1]'),\n",
       " Text(0.1694915254237288, 0.5952380952380952, 'entropy = 0.0\\nsamples = 1\\nvalue = [1, 0]'),\n",
       " Text(0.192090395480226, 0.5952380952380952, 'entropy = 0.0\\nsamples = 1\\nvalue = [0, 1]'),\n",
       " Text(0.192090395480226, 0.6904761904761905, 'entropy = 0.0\\nsamples = 7\\nvalue = [0, 7]'),\n",
       " Text(0.2768361581920904, 0.7857142857142857, 'Fare <= 10.825\\nentropy = 0.999\\nsamples = 71\\nvalue = [34, 37]'),\n",
       " Text(0.23728813559322035, 0.7380952380952381, 'SibSp <= 0.5\\nentropy = 0.988\\nsamples = 46\\nvalue = [26, 20]'),\n",
       " Text(0.22598870056497175, 0.6904761904761905, 'Ticket <= 277.0\\nentropy = 1.0\\nsamples = 41\\nvalue = [21, 20]'),\n",
       " Text(0.21468926553672316, 0.6428571428571429, 'entropy = 0.0\\nsamples = 3\\nvalue = [3, 0]'),\n",
       " Text(0.23728813559322035, 0.6428571428571429, 'Fare <= 7.744\\nentropy = 0.998\\nsamples = 38\\nvalue = [18, 20]'),\n",
       " Text(0.21468926553672316, 0.5952380952380952, 'Fare <= 7.0\\nentropy = 0.592\\nsamples = 7\\nvalue = [1, 6]'),\n",
       " Text(0.2033898305084746, 0.5476190476190477, 'entropy = 0.0\\nsamples = 1\\nvalue = [1, 0]'),\n",
       " Text(0.22598870056497175, 0.5476190476190477, 'entropy = 0.0\\nsamples = 6\\nvalue = [0, 6]'),\n",
       " Text(0.2598870056497175, 0.5952380952380952, 'Ticket <= 280.0\\nentropy = 0.993\\nsamples = 31\\nvalue = [17, 14]'),\n",
       " Text(0.24858757062146894, 0.5476190476190477, 'entropy = 0.0\\nsamples = 2\\nvalue = [0, 2]'),\n",
       " Text(0.2711864406779661, 0.5476190476190477, 'Age <= 16.0\\nentropy = 0.978\\nsamples = 29\\nvalue = [17, 12]'),\n",
       " Text(0.2598870056497175, 0.5, 'entropy = 0.0\\nsamples = 2\\nvalue = [2, 0]'),\n",
       " Text(0.2824858757062147, 0.5, 'PassengerId <= 67.0\\nentropy = 0.991\\nsamples = 27\\nvalue = [15, 12]'),\n",
       " Text(0.2711864406779661, 0.4523809523809524, 'entropy = 0.0\\nsamples = 3\\nvalue = [0, 3]'),\n",
       " Text(0.2937853107344633, 0.4523809523809524, 'Ticket <= 330.5\\nentropy = 0.954\\nsamples = 24\\nvalue = [15, 9]'),\n",
       " Text(0.2824858757062147, 0.40476190476190477, 'entropy = 0.0\\nsamples = 4\\nvalue = [4, 0]'),\n",
       " Text(0.3050847457627119, 0.40476190476190477, 'Ticket <= 500.5\\nentropy = 0.993\\nsamples = 20\\nvalue = [11, 9]'),\n",
       " Text(0.2824858757062147, 0.35714285714285715, 'PassengerId <= 270.0\\nentropy = 0.997\\nsamples = 15\\nvalue = [7, 8]'),\n",
       " Text(0.2711864406779661, 0.30952380952380953, 'entropy = 0.0\\nsamples = 2\\nvalue = [2, 0]'),\n",
       " Text(0.2937853107344633, 0.30952380952380953, 'Ticket <= 449.0\\nentropy = 0.961\\nsamples = 13\\nvalue = [5, 8]'),\n",
       " Text(0.2711864406779661, 0.2619047619047619, 'Embarked <= 1.5\\nentropy = 0.985\\nsamples = 7\\nvalue = [4, 3]'),\n",
       " Text(0.2598870056497175, 0.21428571428571427, 'entropy = 0.0\\nsamples = 2\\nvalue = [2, 0]'),\n",
       " Text(0.2824858757062147, 0.21428571428571427, 'Age <= 25.0\\nentropy = 0.971\\nsamples = 5\\nvalue = [2, 3]'),\n",
       " Text(0.2711864406779661, 0.16666666666666666, 'Ticket <= 335.5\\nentropy = 0.918\\nsamples = 3\\nvalue = [2, 1]'),\n",
       " Text(0.2598870056497175, 0.11904761904761904, 'entropy = 0.0\\nsamples = 1\\nvalue = [0, 1]'),\n",
       " Text(0.2824858757062147, 0.11904761904761904, 'entropy = 0.0\\nsamples = 2\\nvalue = [2, 0]'),\n",
       " Text(0.2937853107344633, 0.16666666666666666, 'entropy = 0.0\\nsamples = 2\\nvalue = [0, 2]'),\n",
       " Text(0.3163841807909605, 0.2619047619047619, 'Ticket <= 489.5\\nentropy = 0.65\\nsamples = 6\\nvalue = [1, 5]'),\n",
       " Text(0.3050847457627119, 0.21428571428571427, 'entropy = 0.0\\nsamples = 4\\nvalue = [0, 4]'),\n",
       " Text(0.327683615819209, 0.21428571428571427, 'PassengerId <= 591.0\\nentropy = 1.0\\nsamples = 2\\nvalue = [1, 1]'),\n",
       " Text(0.3163841807909605, 0.16666666666666666, 'entropy = 0.0\\nsamples = 1\\nvalue = [1, 0]'),\n",
       " Text(0.3389830508474576, 0.16666666666666666, 'entropy = 0.0\\nsamples = 1\\nvalue = [0, 1]'),\n",
       " Text(0.327683615819209, 0.35714285714285715, 'PassengerId <= 346.0\\nentropy = 0.722\\nsamples = 5\\nvalue = [4, 1]'),\n",
       " Text(0.3163841807909605, 0.30952380952380953, 'entropy = 0.0\\nsamples = 1\\nvalue = [0, 1]'),\n",
       " Text(0.3389830508474576, 0.30952380952380953, 'entropy = 0.0\\nsamples = 4\\nvalue = [4, 0]'),\n",
       " Text(0.24858757062146894, 0.6904761904761905, 'entropy = 0.0\\nsamples = 5\\nvalue = [5, 0]'),\n",
       " Text(0.3163841807909605, 0.7380952380952381, 'SibSp <= 2.5\\nentropy = 0.904\\nsamples = 25\\nvalue = [8, 17]'),\n",
       " Text(0.3050847457627119, 0.6904761904761905, 'Embarked <= 1.5\\nentropy = 0.828\\nsamples = 23\\nvalue = [6, 17]'),\n",
       " Text(0.2937853107344633, 0.6428571428571429, 'entropy = 0.0\\nsamples = 5\\nvalue = [0, 5]'),\n",
       " Text(0.3163841807909605, 0.6428571428571429, 'Fare <= 13.438\\nentropy = 0.918\\nsamples = 18\\nvalue = [6, 12]'),\n",
       " Text(0.3050847457627119, 0.5952380952380952, 'entropy = 0.0\\nsamples = 4\\nvalue = [0, 4]'),\n",
       " Text(0.327683615819209, 0.5952380952380952, 'PassengerId <= 138.0\\nentropy = 0.985\\nsamples = 14\\nvalue = [6, 8]'),\n",
       " Text(0.3163841807909605, 0.5476190476190477, 'entropy = 0.0\\nsamples = 3\\nvalue = [3, 0]'),\n",
       " Text(0.3389830508474576, 0.5476190476190477, 'PassengerId <= 564.0\\nentropy = 0.845\\nsamples = 11\\nvalue = [3, 8]'),\n",
       " Text(0.327683615819209, 0.5, 'Fare <= 15.125\\nentropy = 0.503\\nsamples = 9\\nvalue = [1, 8]'),\n",
       " Text(0.3163841807909605, 0.4523809523809524, 'entropy = 0.0\\nsamples = 1\\nvalue = [1, 0]'),\n",
       " Text(0.3389830508474576, 0.4523809523809524, 'entropy = 0.0\\nsamples = 8\\nvalue = [0, 8]'),\n",
       " Text(0.3502824858757062, 0.5, 'entropy = 0.0\\nsamples = 2\\nvalue = [2, 0]'),\n",
       " Text(0.327683615819209, 0.6904761904761905, 'entropy = 0.0\\nsamples = 2\\nvalue = [2, 0]'),\n",
       " Text(0.3615819209039548, 0.8333333333333334, 'Age <= 5.5\\nentropy = 0.276\\nsamples = 21\\nvalue = [20, 1]'),\n",
       " Text(0.3502824858757062, 0.7857142857142857, 'Ticket <= 331.0\\nentropy = 0.918\\nsamples = 3\\nvalue = [2, 1]'),\n",
       " Text(0.3389830508474576, 0.7380952380952381, 'entropy = 0.0\\nsamples = 1\\nvalue = [0, 1]'),\n",
       " Text(0.3615819209039548, 0.7380952380952381, 'entropy = 0.0\\nsamples = 2\\nvalue = [2, 0]'),\n",
       " Text(0.3728813559322034, 0.7857142857142857, 'entropy = 0.0\\nsamples = 18\\nvalue = [18, 0]'),\n",
       " Text(0.5780367231638418, 0.9285714285714286, 'Cabin <= 145.0\\nentropy = 0.694\\nsamples = 467\\nvalue = [380, 87]'),\n",
       " Text(0.4491525423728814, 0.8809523809523809, 'Age <= 17.5\\nentropy = 0.977\\nsamples = 85\\nvalue = [50, 35]'),\n",
       " Text(0.4378531073446328, 0.8333333333333334, 'entropy = 0.0\\nsamples = 7\\nvalue = [0, 7]'),\n",
       " Text(0.4604519774011299, 0.8333333333333334, 'Fare <= 7.9\\nentropy = 0.942\\nsamples = 78\\nvalue = [50, 28]'),\n",
       " Text(0.4491525423728814, 0.7857142857142857, 'entropy = 0.0\\nsamples = 8\\nvalue = [8, 0]'),\n",
       " Text(0.4717514124293785, 0.7857142857142857, 'PassengerId <= 586.0\\nentropy = 0.971\\nsamples = 70\\nvalue = [42, 28]'),\n",
       " Text(0.4350282485875706, 0.7380952380952381, 'Age <= 53.0\\nentropy = 0.867\\nsamples = 45\\nvalue = [32, 13]'),\n",
       " Text(0.423728813559322, 0.6904761904761905, 'PassengerId <= 495.5\\nentropy = 0.935\\nsamples = 37\\nvalue = [24, 13]'),\n",
       " Text(0.4124293785310734, 0.6428571428571429, 'PassengerId <= 361.5\\nentropy = 0.974\\nsamples = 32\\nvalue = [19, 13]'),\n",
       " Text(0.3728813559322034, 0.5952380952380952, 'Ticket <= 45.0\\nentropy = 0.811\\nsamples = 20\\nvalue = [15, 5]'),\n",
       " Text(0.3615819209039548, 0.5476190476190477, 'entropy = 0.0\\nsamples = 6\\nvalue = [6, 0]'),\n",
       " Text(0.384180790960452, 0.5476190476190477, 'Ticket <= 284.5\\nentropy = 0.94\\nsamples = 14\\nvalue = [9, 5]'),\n",
       " Text(0.3728813559322034, 0.5, 'Parch <= 1.5\\nentropy = 0.954\\nsamples = 8\\nvalue = [3, 5]'),\n",
       " Text(0.3615819209039548, 0.4523809523809524, 'Age <= 41.0\\nentropy = 0.65\\nsamples = 6\\nvalue = [1, 5]'),\n",
       " Text(0.3502824858757062, 0.40476190476190477, 'entropy = 0.0\\nsamples = 5\\nvalue = [0, 5]'),\n",
       " Text(0.3728813559322034, 0.40476190476190477, 'entropy = 0.0\\nsamples = 1\\nvalue = [1, 0]'),\n",
       " Text(0.384180790960452, 0.4523809523809524, 'entropy = 0.0\\nsamples = 2\\nvalue = [2, 0]'),\n",
       " Text(0.3954802259887006, 0.5, 'entropy = 0.0\\nsamples = 6\\nvalue = [6, 0]'),\n",
       " Text(0.4519774011299435, 0.5952380952380952, 'Ticket <= 30.0\\nentropy = 0.918\\nsamples = 12\\nvalue = [4, 8]'),\n",
       " Text(0.4293785310734463, 0.5476190476190477, 'Fare <= 27.15\\nentropy = 0.811\\nsamples = 4\\nvalue = [3, 1]'),\n",
       " Text(0.4180790960451977, 0.5, 'entropy = 0.0\\nsamples = 1\\nvalue = [0, 1]'),\n",
       " Text(0.4406779661016949, 0.5, 'entropy = 0.0\\nsamples = 3\\nvalue = [3, 0]'),\n",
       " Text(0.4745762711864407, 0.5476190476190477, 'Cabin <= 122.5\\nentropy = 0.544\\nsamples = 8\\nvalue = [1, 7]'),\n",
       " Text(0.4632768361581921, 0.5, 'entropy = 0.0\\nsamples = 6\\nvalue = [0, 6]'),\n",
       " Text(0.4858757062146893, 0.5, 'Embarked <= 1.0\\nentropy = 1.0\\nsamples = 2\\nvalue = [1, 1]'),\n",
       " Text(0.4745762711864407, 0.4523809523809524, 'entropy = 0.0\\nsamples = 1\\nvalue = [0, 1]'),\n",
       " Text(0.4971751412429379, 0.4523809523809524, 'entropy = 0.0\\nsamples = 1\\nvalue = [1, 0]'),\n",
       " Text(0.4350282485875706, 0.6428571428571429, 'entropy = 0.0\\nsamples = 5\\nvalue = [5, 0]'),\n",
       " Text(0.4463276836158192, 0.6904761904761905, 'entropy = 0.0\\nsamples = 8\\nvalue = [8, 0]'),\n",
       " Text(0.5084745762711864, 0.7380952380952381, 'PassengerId <= 741.5\\nentropy = 0.971\\nsamples = 25\\nvalue = [10, 15]'),\n",
       " Text(0.4858757062146893, 0.6904761904761905, 'Cabin <= 36.0\\nentropy = 0.787\\nsamples = 17\\nvalue = [4, 13]'),\n",
       " Text(0.4745762711864407, 0.6428571428571429, 'entropy = 0.0\\nsamples = 7\\nvalue = [0, 7]'),\n",
       " Text(0.4971751412429379, 0.6428571428571429, 'Cabin <= 88.0\\nentropy = 0.971\\nsamples = 10\\nvalue = [4, 6]'),\n",
       " Text(0.4858757062146893, 0.5952380952380952, 'entropy = 0.0\\nsamples = 3\\nvalue = [3, 0]'),\n",
       " Text(0.5084745762711864, 0.5952380952380952, 'Fare <= 25.938\\nentropy = 0.592\\nsamples = 7\\nvalue = [1, 6]'),\n",
       " Text(0.4971751412429379, 0.5476190476190477, 'entropy = 0.0\\nsamples = 1\\nvalue = [1, 0]'),\n",
       " Text(0.519774011299435, 0.5476190476190477, 'entropy = 0.0\\nsamples = 6\\nvalue = [0, 6]'),\n",
       " Text(0.5310734463276836, 0.6904761904761905, 'Fare <= 29.85\\nentropy = 0.811\\nsamples = 8\\nvalue = [6, 2]'),\n",
       " Text(0.519774011299435, 0.6428571428571429, 'entropy = 0.0\\nsamples = 2\\nvalue = [0, 2]'),\n",
       " Text(0.5423728813559322, 0.6428571428571429, 'entropy = 0.0\\nsamples = 6\\nvalue = [6, 0]'),\n",
       " Text(0.7069209039548022, 0.8809523809523809, 'Age <= 13.0\\nentropy = 0.574\\nsamples = 382\\nvalue = [330, 52]'),\n",
       " Text(0.5875706214689266, 0.8333333333333334, 'SibSp <= 2.0\\nentropy = 0.996\\nsamples = 26\\nvalue = [14, 12]'),\n",
       " Text(0.5536723163841808, 0.7857142857142857, 'Age <= 10.0\\nentropy = 0.414\\nsamples = 12\\nvalue = [1, 11]'),\n",
       " Text(0.5423728813559322, 0.7380952380952381, 'entropy = 0.0\\nsamples = 10\\nvalue = [0, 10]'),\n",
       " Text(0.5649717514124294, 0.7380952380952381, 'SibSp <= 0.5\\nentropy = 1.0\\nsamples = 2\\nvalue = [1, 1]'),\n",
       " Text(0.5536723163841808, 0.6904761904761905, 'entropy = 0.0\\nsamples = 1\\nvalue = [1, 0]'),\n",
       " Text(0.576271186440678, 0.6904761904761905, 'entropy = 0.0\\nsamples = 1\\nvalue = [0, 1]'),\n",
       " Text(0.6214689265536724, 0.7857142857142857, 'Ticket <= 331.0\\nentropy = 0.371\\nsamples = 14\\nvalue = [13, 1]'),\n",
       " Text(0.6101694915254238, 0.7380952380952381, 'Parch <= 1.5\\nentropy = 0.722\\nsamples = 5\\nvalue = [4, 1]'),\n",
       " Text(0.5988700564971752, 0.6904761904761905, 'entropy = 0.0\\nsamples = 3\\nvalue = [3, 0]'),\n",
       " Text(0.6214689265536724, 0.6904761904761905, 'Age <= 6.0\\nentropy = 1.0\\nsamples = 2\\nvalue = [1, 1]'),\n",
       " Text(0.6101694915254238, 0.6428571428571429, 'entropy = 0.0\\nsamples = 1\\nvalue = [0, 1]'),\n",
       " Text(0.632768361581921, 0.6428571428571429, 'entropy = 0.0\\nsamples = 1\\nvalue = [1, 0]'),\n",
       " Text(0.632768361581921, 0.7380952380952381, 'entropy = 0.0\\nsamples = 9\\nvalue = [9, 0]'),\n",
       " Text(0.826271186440678, 0.8333333333333334, 'Ticket <= 652.5\\nentropy = 0.507\\nsamples = 356\\nvalue = [316, 40]'),\n",
       " Text(0.7598870056497176, 0.7857142857142857, 'Ticket <= 91.0\\nentropy = 0.461\\nsamples = 339\\nvalue = [306, 33]'),\n",
       " Text(0.7005649717514124, 0.7380952380952381, 'Fare <= 54.248\\nentropy = 0.863\\nsamples = 21\\nvalue = [15, 6]'),\n",
       " Text(0.6666666666666666, 0.6904761904761905, 'Ticket <= 12.0\\nentropy = 0.567\\nsamples = 15\\nvalue = [13, 2]'),\n",
       " Text(0.655367231638418, 0.6428571428571429, 'entropy = 0.0\\nsamples = 1\\nvalue = [0, 1]'),\n",
       " Text(0.6779661016949152, 0.6428571428571429, 'Age <= 27.5\\nentropy = 0.371\\nsamples = 14\\nvalue = [13, 1]'),\n",
       " Text(0.6666666666666666, 0.5952380952380952, 'Ticket <= 64.5\\nentropy = 1.0\\nsamples = 2\\nvalue = [1, 1]'),\n",
       " Text(0.655367231638418, 0.5476190476190477, 'entropy = 0.0\\nsamples = 1\\nvalue = [0, 1]'),\n",
       " Text(0.6779661016949152, 0.5476190476190477, 'entropy = 0.0\\nsamples = 1\\nvalue = [1, 0]'),\n",
       " Text(0.6892655367231638, 0.5952380952380952, 'entropy = 0.0\\nsamples = 12\\nvalue = [12, 0]'),\n",
       " Text(0.7344632768361582, 0.6904761904761905, 'Age <= 30.749\\nentropy = 0.918\\nsamples = 6\\nvalue = [2, 4]'),\n",
       " Text(0.7231638418079096, 0.6428571428571429, 'PassengerId <= 340.0\\nentropy = 1.0\\nsamples = 4\\nvalue = [2, 2]'),\n",
       " Text(0.711864406779661, 0.5952380952380952, 'entropy = 0.0\\nsamples = 1\\nvalue = [1, 0]'),\n",
       " Text(0.7344632768361582, 0.5952380952380952, 'PassengerId <= 760.0\\nentropy = 0.918\\nsamples = 3\\nvalue = [1, 2]'),\n",
       " Text(0.7231638418079096, 0.5476190476190477, 'entropy = 0.0\\nsamples = 2\\nvalue = [0, 2]'),\n",
       " Text(0.7457627118644068, 0.5476190476190477, 'entropy = 0.0\\nsamples = 1\\nvalue = [1, 0]'),\n",
       " Text(0.7457627118644068, 0.6428571428571429, 'entropy = 0.0\\nsamples = 2\\nvalue = [0, 2]'),\n",
       " Text(0.8192090395480226, 0.7380952380952381, 'Age <= 32.25\\nentropy = 0.419\\nsamples = 318\\nvalue = [291, 27]'),\n",
       " Text(0.7796610169491526, 0.6904761904761905, 'Age <= 18.5\\nentropy = 0.48\\nsamples = 232\\nvalue = [208, 24]'),\n",
       " Text(0.768361581920904, 0.6428571428571429, 'entropy = 0.0\\nsamples = 24\\nvalue = [24, 0]'),\n",
       " Text(0.7909604519774012, 0.6428571428571429, 'Fare <= 26.125\\nentropy = 0.516\\nsamples = 208\\nvalue = [184, 24]'),\n",
       " Text(0.7796610169491526, 0.5952380952380952, 'Ticket <= 150.0\\nentropy = 0.545\\nsamples = 191\\nvalue = [167, 24]'),\n",
       " Text(0.768361581920904, 0.5476190476190477, 'entropy = 0.0\\nsamples = 13\\nvalue = [13, 0]'),\n",
       " Text(0.7909604519774012, 0.5476190476190477, 'Ticket <= 172.0\\nentropy = 0.571\\nsamples = 178\\nvalue = [154, 24]'),\n",
       " Text(0.768361581920904, 0.5, 'Age <= 29.749\\nentropy = 0.918\\nsamples = 3\\nvalue = [1, 2]'),\n",
       " Text(0.7570621468926554, 0.4523809523809524, 'entropy = 0.0\\nsamples = 2\\nvalue = [0, 2]'),\n",
       " Text(0.7796610169491526, 0.4523809523809524, 'entropy = 0.0\\nsamples = 1\\nvalue = [1, 0]'),\n",
       " Text(0.8135593220338984, 0.5, 'Fare <= 25.733\\nentropy = 0.546\\nsamples = 175\\nvalue = [153, 22]'),\n",
       " Text(0.8022598870056498, 0.4523809523809524, 'Fare <= 7.871\\nentropy = 0.531\\nsamples = 174\\nvalue = [153, 21]'),\n",
       " Text(0.7231638418079096, 0.40476190476190477, 'PassengerId <= 287.5\\nentropy = 0.667\\nsamples = 69\\nvalue = [57, 12]'),\n",
       " Text(0.6610169491525424, 0.35714285714285715, 'Age <= 23.0\\nentropy = 0.881\\nsamples = 20\\nvalue = [14, 6]'),\n",
       " Text(0.6497175141242938, 0.30952380952380953, 'entropy = 0.0\\nsamples = 7\\nvalue = [7, 0]'),\n",
       " Text(0.672316384180791, 0.30952380952380953, 'Age <= 25.5\\nentropy = 0.996\\nsamples = 13\\nvalue = [7, 6]'),\n",
       " Text(0.6610169491525424, 0.2619047619047619, 'entropy = 0.0\\nsamples = 3\\nvalue = [0, 3]'),\n",
       " Text(0.6836158192090396, 0.2619047619047619, 'Ticket <= 424.0\\nentropy = 0.881\\nsamples = 10\\nvalue = [7, 3]'),\n",
       " Text(0.672316384180791, 0.21428571428571427, 'Age <= 26.5\\nentropy = 1.0\\nsamples = 6\\nvalue = [3, 3]'),\n",
       " Text(0.6610169491525424, 0.16666666666666666, 'entropy = 0.0\\nsamples = 1\\nvalue = [1, 0]'),\n",
       " Text(0.6836158192090396, 0.16666666666666666, 'Ticket <= 234.5\\nentropy = 0.971\\nsamples = 5\\nvalue = [2, 3]'),\n",
       " Text(0.672316384180791, 0.11904761904761904, 'PassengerId <= 32.0\\nentropy = 0.918\\nsamples = 3\\nvalue = [2, 1]'),\n",
       " Text(0.6610169491525424, 0.07142857142857142, 'entropy = 0.0\\nsamples = 1\\nvalue = [1, 0]'),\n",
       " Text(0.6836158192090396, 0.07142857142857142, 'Ticket <= 208.5\\nentropy = 1.0\\nsamples = 2\\nvalue = [1, 1]'),\n",
       " Text(0.672316384180791, 0.023809523809523808, 'entropy = 0.0\\nsamples = 1\\nvalue = [0, 1]'),\n",
       " Text(0.6949152542372882, 0.023809523809523808, 'entropy = 0.0\\nsamples = 1\\nvalue = [1, 0]'),\n",
       " Text(0.6949152542372882, 0.11904761904761904, 'entropy = 0.0\\nsamples = 2\\nvalue = [0, 2]'),\n",
       " Text(0.6949152542372882, 0.21428571428571427, 'entropy = 0.0\\nsamples = 4\\nvalue = [4, 0]'),\n",
       " Text(0.7853107344632768, 0.35714285714285715, 'Ticket <= 483.0\\nentropy = 0.536\\nsamples = 49\\nvalue = [43, 6]'),\n",
       " Text(0.7740112994350282, 0.30952380952380953, 'Ticket <= 475.0\\nentropy = 0.619\\nsamples = 39\\nvalue = [33, 6]'),\n",
       " Text(0.7627118644067796, 0.2619047619047619, 'PassengerId <= 760.0\\nentropy = 0.562\\nsamples = 38\\nvalue = [33, 5]'),\n",
       " Text(0.7401129943502824, 0.21428571428571427, 'Age <= 31.5\\nentropy = 0.362\\nsamples = 29\\nvalue = [27, 2]'),\n",
       " Text(0.7288135593220338, 0.16666666666666666, 'PassengerId <= 394.0\\nentropy = 0.222\\nsamples = 28\\nvalue = [27, 1]'),\n",
       " Text(0.7175141242937854, 0.11904761904761904, 'Ticket <= 362.5\\nentropy = 0.811\\nsamples = 4\\nvalue = [3, 1]'),\n",
       " Text(0.7062146892655368, 0.07142857142857142, 'entropy = 0.0\\nsamples = 3\\nvalue = [3, 0]'),\n",
       " Text(0.7288135593220338, 0.07142857142857142, 'entropy = 0.0\\nsamples = 1\\nvalue = [0, 1]'),\n",
       " Text(0.7401129943502824, 0.11904761904761904, 'entropy = 0.0\\nsamples = 24\\nvalue = [24, 0]'),\n",
       " Text(0.751412429378531, 0.16666666666666666, 'entropy = 0.0\\nsamples = 1\\nvalue = [0, 1]'),\n",
       " Text(0.7853107344632768, 0.21428571428571427, 'Age <= 28.249\\nentropy = 0.918\\nsamples = 9\\nvalue = [6, 3]'),\n",
       " Text(0.7740112994350282, 0.16666666666666666, 'entropy = 0.0\\nsamples = 2\\nvalue = [0, 2]'),\n",
       " Text(0.7966101694915254, 0.16666666666666666, 'Fare <= 7.49\\nentropy = 0.592\\nsamples = 7\\nvalue = [6, 1]'),\n",
       " Text(0.7853107344632768, 0.11904761904761904, 'entropy = 0.0\\nsamples = 4\\nvalue = [4, 0]'),\n",
       " Text(0.807909604519774, 0.11904761904761904, 'Age <= 30.249\\nentropy = 0.918\\nsamples = 3\\nvalue = [2, 1]'),\n",
       " Text(0.7966101694915254, 0.07142857142857142, 'entropy = 0.0\\nsamples = 1\\nvalue = [0, 1]'),\n",
       " Text(0.8192090395480226, 0.07142857142857142, 'entropy = 0.0\\nsamples = 2\\nvalue = [2, 0]'),\n",
       " Text(0.7853107344632768, 0.2619047619047619, 'entropy = 0.0\\nsamples = 1\\nvalue = [0, 1]'),\n",
       " Text(0.7966101694915254, 0.30952380952380953, 'entropy = 0.0\\nsamples = 10\\nvalue = [10, 0]'),\n",
       " Text(0.8813559322033898, 0.40476190476190477, 'Embarked <= 1.5\\nentropy = 0.422\\nsamples = 105\\nvalue = [96, 9]'),\n",
       " Text(0.8305084745762712, 0.35714285714285715, 'PassengerId <= 195.0\\nentropy = 0.852\\nsamples = 18\\nvalue = [13, 5]'),\n",
       " Text(0.8192090395480226, 0.30952380952380953, 'entropy = 0.0\\nsamples = 6\\nvalue = [6, 0]'),\n",
       " Text(0.8418079096045198, 0.30952380952380953, 'Age <= 29.249\\nentropy = 0.98\\nsamples = 12\\nvalue = [7, 5]'),\n",
       " Text(0.8305084745762712, 0.2619047619047619, 'entropy = 0.0\\nsamples = 3\\nvalue = [0, 3]'),\n",
       " Text(0.8531073446327684, 0.2619047619047619, 'SibSp <= 1.5\\nentropy = 0.764\\nsamples = 9\\nvalue = [7, 2]'),\n",
       " Text(0.8418079096045198, 0.21428571428571427, 'Ticket <= 603.0\\nentropy = 0.544\\nsamples = 8\\nvalue = [7, 1]'),\n",
       " Text(0.8305084745762712, 0.16666666666666666, 'entropy = 0.0\\nsamples = 7\\nvalue = [7, 0]'),\n",
       " Text(0.8531073446327684, 0.16666666666666666, 'entropy = 0.0\\nsamples = 1\\nvalue = [0, 1]'),\n",
       " Text(0.864406779661017, 0.21428571428571427, 'entropy = 0.0\\nsamples = 1\\nvalue = [0, 1]'),\n",
       " Text(0.9322033898305084, 0.35714285714285715, 'Fare <= 9.835\\nentropy = 0.269\\nsamples = 87\\nvalue = [83, 4]'),\n",
       " Text(0.9209039548022598, 0.30952380952380953, 'Fare <= 8.081\\nentropy = 0.353\\nsamples = 60\\nvalue = [56, 4]'),\n",
       " Text(0.8983050847457628, 0.2619047619047619, 'Age <= 19.5\\nentropy = 0.156\\nsamples = 44\\nvalue = [43, 1]'),\n",
       " Text(0.8870056497175142, 0.21428571428571427, 'PassengerId <= 328.5\\nentropy = 0.811\\nsamples = 4\\nvalue = [3, 1]'),\n",
       " Text(0.8757062146892656, 0.16666666666666666, 'entropy = 0.0\\nsamples = 1\\nvalue = [0, 1]'),\n",
       " Text(0.8983050847457628, 0.16666666666666666, 'entropy = 0.0\\nsamples = 3\\nvalue = [3, 0]'),\n",
       " Text(0.9096045197740112, 0.21428571428571427, 'entropy = 0.0\\nsamples = 40\\nvalue = [40, 0]'),\n",
       " Text(0.943502824858757, 0.2619047619047619, 'Age <= 26.5\\nentropy = 0.696\\nsamples = 16\\nvalue = [13, 3]'),\n",
       " Text(0.9322033898305084, 0.21428571428571427, 'entropy = 0.0\\nsamples = 7\\nvalue = [7, 0]'),\n",
       " Text(0.9548022598870056, 0.21428571428571427, 'Fare <= 8.238\\nentropy = 0.918\\nsamples = 9\\nvalue = [6, 3]'),\n",
       " Text(0.943502824858757, 0.16666666666666666, 'entropy = 0.0\\nsamples = 1\\nvalue = [0, 1]'),\n",
       " Text(0.9661016949152542, 0.16666666666666666, 'Age <= 27.5\\nentropy = 0.811\\nsamples = 8\\nvalue = [6, 2]'),\n",
       " Text(0.9548022598870056, 0.11904761904761904, 'entropy = 0.0\\nsamples = 1\\nvalue = [0, 1]'),\n",
       " Text(0.9774011299435028, 0.11904761904761904, 'PassengerId <= 120.5\\nentropy = 0.592\\nsamples = 7\\nvalue = [6, 1]'),\n",
       " Text(0.9661016949152542, 0.07142857142857142, 'entropy = 0.0\\nsamples = 1\\nvalue = [0, 1]'),\n",
       " Text(0.9887005649717514, 0.07142857142857142, 'entropy = 0.0\\nsamples = 6\\nvalue = [6, 0]'),\n",
       " Text(0.943502824858757, 0.30952380952380953, 'entropy = 0.0\\nsamples = 27\\nvalue = [27, 0]'),\n",
       " Text(0.8248587570621468, 0.4523809523809524, 'entropy = 0.0\\nsamples = 1\\nvalue = [0, 1]'),\n",
       " Text(0.8022598870056498, 0.5952380952380952, 'entropy = 0.0\\nsamples = 17\\nvalue = [17, 0]'),\n",
       " Text(0.8587570621468926, 0.6904761904761905, 'Ticket <= 600.0\\nentropy = 0.218\\nsamples = 86\\nvalue = [83, 3]'),\n",
       " Text(0.8361581920903954, 0.6428571428571429, 'Ticket <= 136.5\\nentropy = 0.096\\nsamples = 81\\nvalue = [80, 1]'),\n",
       " Text(0.8248587570621468, 0.5952380952380952, 'Ticket <= 133.0\\nentropy = 0.592\\nsamples = 7\\nvalue = [6, 1]'),\n",
       " Text(0.8135593220338984, 0.5476190476190477, 'entropy = 0.0\\nsamples = 6\\nvalue = [6, 0]'),\n",
       " Text(0.8361581920903954, 0.5476190476190477, 'entropy = 0.0\\nsamples = 1\\nvalue = [0, 1]'),\n",
       " Text(0.847457627118644, 0.5952380952380952, 'entropy = 0.0\\nsamples = 74\\nvalue = [74, 0]'),\n",
       " Text(0.8813559322033898, 0.6428571428571429, 'Age <= 45.5\\nentropy = 0.971\\nsamples = 5\\nvalue = [3, 2]'),\n",
       " Text(0.8700564971751412, 0.5952380952380952, 'entropy = 0.0\\nsamples = 2\\nvalue = [2, 0]'),\n",
       " Text(0.8926553672316384, 0.5952380952380952, 'PassengerId <= 361.0\\nentropy = 0.918\\nsamples = 3\\nvalue = [1, 2]'),\n",
       " Text(0.8813559322033898, 0.5476190476190477, 'entropy = 0.0\\nsamples = 1\\nvalue = [1, 0]'),\n",
       " Text(0.903954802259887, 0.5476190476190477, 'entropy = 0.0\\nsamples = 2\\nvalue = [0, 2]'),\n",
       " Text(0.8926553672316384, 0.7857142857142857, 'Age <= 20.5\\nentropy = 0.977\\nsamples = 17\\nvalue = [10, 7]'),\n",
       " Text(0.8813559322033898, 0.7380952380952381, 'entropy = 0.0\\nsamples = 3\\nvalue = [0, 3]'),\n",
       " Text(0.903954802259887, 0.7380952380952381, 'Age <= 30.5\\nentropy = 0.863\\nsamples = 14\\nvalue = [10, 4]'),\n",
       " Text(0.8926553672316384, 0.6904761904761905, 'entropy = 0.0\\nsamples = 8\\nvalue = [8, 0]'),\n",
       " Text(0.9152542372881356, 0.6904761904761905, 'Ticket <= 663.5\\nentropy = 0.918\\nsamples = 6\\nvalue = [2, 4]'),\n",
       " Text(0.903954802259887, 0.6428571428571429, 'entropy = 0.0\\nsamples = 4\\nvalue = [0, 4]'),\n",
       " Text(0.9265536723163842, 0.6428571428571429, 'entropy = 0.0\\nsamples = 2\\nvalue = [2, 0]')]"
      ]
     },
     "execution_count": 18,
     "metadata": {},
     "output_type": "execute_result"
    },
    {
     "data": {
      "image/png": "[encoded data removed]",
      "text/plain": [
       "<Figure size 640x480 with 1 Axes>"
      ]
     },
     "metadata": {},
     "output_type": "display_data"
    }
   ],
   "source": [
    "plot_tree(DTclf, feature_names= titanic_train.columns)"
   ]
  },
  {
   "cell_type": "markdown",
   "id": "05bcc7a2",
   "metadata": {},
   "source": [
    "<h2>Multi-Layered Perceptron (neural network.MLPClassifier) with the default parameters.</h2>"
   ]
  },
  {
   "cell_type": "code",
   "execution_count": 19,
   "id": "e5119811",
   "metadata": {},
   "outputs": [
    {
     "name": "stdout",
     "output_type": "stream",
     "text": [
      "pickle file used\n"
     ]
    }
   ],
   "source": [
    "classifier = MLPClassifier(random_state = 19)\n",
    "if (os.path.exists('models/MLP1_model.pickle')):\n",
    "    pickle_in = open('models/MLP1_model.pickle','rb')\n",
    "    MLPclf = pickle.load(pickle_in)\n",
    "    print(\"pickle file used\")\n",
    "else:\n",
    "    classifier = classifier.fit(titanic_train, labels_train)\n",
    "    with open('models/MLP1_model.pickle','wb') as f:\n",
    "            pickle.dump(classifier, f)\n",
    "    pickle_in = open('models/MLP1_model.pickle','rb')\n",
    "    MLPclf = pickle.load(pickle_in)\n",
    "pickle_in.close()"
   ]
  },
  {
   "cell_type": "code",
   "execution_count": 20,
   "id": "5600c20e",
   "metadata": {},
   "outputs": [],
   "source": [
    "# This can be used \n",
    "# print(np.shape(titanic_train))\n",
    "# print(np.shape(labels_train))"
   ]
  },
  {
   "cell_type": "code",
   "execution_count": 21,
   "id": "294d1552",
   "metadata": {
    "scrolled": true
   },
   "outputs": [
    {
     "name": "stdout",
     "output_type": "stream",
     "text": [
      "Accuracy: 0.7318435754189944\n",
      "Precision (Weighted): 0.7395820006539015\n",
      "Recall (Weighted): 0.7318435754189944\n",
      "F1 Score (Weighted): 0.7180408586494387\n",
      "              precision    recall  f1-score   support\n",
      "\n",
      "           0       0.72      0.90      0.80       105\n",
      "           1       0.77      0.50      0.61        74\n",
      "\n",
      "    accuracy                           0.73       179\n",
      "   macro avg       0.74      0.70      0.70       179\n",
      "weighted avg       0.74      0.73      0.72       179\n",
      "\n"
     ]
    },
    {
     "data": {
      "text/plain": [
       "<sklearn.metrics._plot.confusion_matrix.ConfusionMatrixDisplay at 0x123065900>"
      ]
     },
     "execution_count": 21,
     "metadata": {},
     "output_type": "execute_result"
    },
    {
     "data": {
      "image/png": "[encoded data removed]",
      "text/plain": [
       "<Figure size 1000x1000 with 2 Axes>"
      ]
     },
     "metadata": {},
     "output_type": "display_data"
    }
   ],
   "source": [
    "labels_titanic_predict = MLPclf.predict(titanic_test)\n",
    "metrics(labels_test, labels_titanic_predict)\n",
    "cmp = ConfusionMatrixDisplay(confusion_matrix(y_true=labels_test, y_pred= labels_titanic_predict))\n",
    "fig, ax = plt.subplots(figsize=(10,10))\n",
    "cmp.plot(ax=ax,cmap='magma')"
   ]
  },
  {
   "cell_type": "markdown",
   "id": "7b83f5da",
   "metadata": {},
   "source": [
    "<h1>Cross Validation/Model Validation</h1>\n",
    "\n",
    "Testing on the same data is a methodological mistake: a model that would just repeat the labels of the samples that it has just seen would have a perfect score but would fail to predict anything useful on yet-unseen data.\n",
    "* https://scikit-learn.org/stable/modules/generated/sklearn.model_selection.cross_val_score.html#sklearn.model_selection.cross_val_score"
   ]
  },
  {
   "cell_type": "code",
   "execution_count": 22,
   "id": "d328452e",
   "metadata": {},
   "outputs": [
    {
     "name": "stdout",
     "output_type": "stream",
     "text": [
      "Mean Scoring: 0.42747899159663866 between 0 and 1\n"
     ]
    }
   ],
   "source": [
    "# note that we do not split the test and training here as this will create various training and test data chunks\n",
    "titanic = pd.concat([titanic_test, titanic_train])\n",
    "\n",
    "scores = cross_val_score(DTclf,titanic,titanic_labels, cv=10, scoring = \"recall\", n_jobs=-1)\n",
    "print(f\"Mean Scoring: {scores.mean()} between 0 and 1\")"
   ]
  },
  {
   "cell_type": "markdown",
   "id": "92631900",
   "metadata": {},
   "source": [
    "https://scikit-learn.org/stable/_images/grid_search_cross_validation.png"
   ]
  },
  {
   "cell_type": "markdown",
   "id": "6622038a",
   "metadata": {},
   "source": [
    "<h1>Your Turn</h1>\n",
    "\n",
    "Go find a model you want to use on this data<br>\n",
    "\n",
    "Simple things you can try:\n",
    "* manually selecting hyperparameters\n",
    "* change the features\n",
    "* try unsupervised learning \n",
    "\n",
    "If you don't know where to start feel free to discuss with myself or those around you!\n",
    "\n",
    "All models and fancy things can be found here \n",
    "https://scikit-learn.org/stable/modules/classes.html\n",
    "\n",
    "Need help picking a model?\n",
    "https://scikit-learn.org/stable/tutorial/machine_learning_map/index.html "
   ]
  },
  {
   "cell_type": "code",
   "execution_count": 23,
   "id": "92e40dc9",
   "metadata": {},
   "outputs": [
    {
     "ename": "NameError",
     "evalue": "name 'ModelClass' is not defined",
     "output_type": "error",
     "traceback": [
      "\u001b[0;31m---------------------------------------------------------------------------\u001b[0m",
      "\u001b[0;31mNameError\u001b[0m                                 Traceback (most recent call last)",
      "\u001b[1;32m/Users/jeffreychan/Documents/GitHub/JeffreyCHChan/Demo/Machine Learning Demo.ipynb Cell 32\u001b[0m line \u001b[0;36m1\n\u001b[0;32m----> <a href='vscode-notebook-cell:/Users/jeffreychan/Documents/GitHub/JeffreyCHChan/Demo/Machine%20Learning%20Demo.ipynb#X43sZmlsZQ%3D%3D?line=0'>1</a>\u001b[0m classifier \u001b[39m=\u001b[39m ModelClass \u001b[39m# define a model \u001b[39;00m\n\u001b[1;32m      <a href='vscode-notebook-cell:/Users/jeffreychan/Documents/GitHub/JeffreyCHChan/Demo/Machine%20Learning%20Demo.ipynb#X43sZmlsZQ%3D%3D?line=1'>2</a>\u001b[0m modelName \u001b[39m=\u001b[39m \u001b[39m\"\u001b[39m\u001b[39mUserModel\u001b[39m\u001b[39m\"\u001b[39m \u001b[39m# name your model\u001b[39;00m\n\u001b[1;32m      <a href='vscode-notebook-cell:/Users/jeffreychan/Documents/GitHub/JeffreyCHChan/Demo/Machine%20Learning%20Demo.ipynb#X43sZmlsZQ%3D%3D?line=3'>4</a>\u001b[0m \u001b[39mif\u001b[39;00m (os\u001b[39m.\u001b[39mpath\u001b[39m.\u001b[39mexists(\u001b[39mf\u001b[39m\u001b[39m'\u001b[39m\u001b[39mmodels/\u001b[39m\u001b[39m{\u001b[39;00mmodelName\u001b[39m}\u001b[39;00m\u001b[39m.pickle\u001b[39m\u001b[39m'\u001b[39m)):\n",
      "\u001b[0;31mNameError\u001b[0m: name 'ModelClass' is not defined"
     ]
    }
   ],
   "source": [
    "classifier = ModelClass # define a model \n",
    "modelName = \"UserModel\" # name your model\n",
    "\n",
    "if (os.path.exists(f'models/{modelName}.pickle')):\n",
    "    pickle_in = open(f'models/{modelName}.pickle','rb')\n",
    "    user_clf = pickle.load(pickle_in)\n",
    "    print(\"pickle file used\")\n",
    "else:\n",
    "    classifier = classifier.fit(titanic_train, labels_train)\n",
    "    with open(f'models/{modelName}.pickle','wb') as f:\n",
    "            pickle.dump(classifier, f)\n",
    "    pickle_in = open(f'models/{modelName}.pickle','rb')\n",
    "    user_clf = pickle.load(pickle_in)\n",
    "pickle_in.close()"
   ]
  },
  {
   "cell_type": "markdown",
   "id": "31d219fd",
   "metadata": {},
   "source": [
    "<h1>More Resources</h1>\n",
    "\n",
    "\n",
    "Sci-kit learn linear models [Link](https://scikit-learn.org/stable/modules/classes.html#module-sklearn.linear_model).\n",
    "\n",
    "Sci-kit learn clustering models [Link](https://scikit-learn.org/stable/modules/classes.html#module-sklearn.cluster).\n",
    "\n",
    "Sci-kit learn ensemble models [Link](https://scikit-learn.org/stable/modules/classes.html#module-sklearn.ensemble)."
   ]
  },
  {
   "cell_type": "markdown",
   "id": "ecda7906",
   "metadata": {},
   "source": [
    "<h1>Example of Hyperparameter Search</h1>"
   ]
  },
  {
   "cell_type": "markdown",
   "id": "e760d744",
   "metadata": {},
   "source": [
    "<h2>Decision Tree Classifier found using GridSearchCV</h2>\n",
    "\n",
    "Hyperparameters are called attributes in scikit-learn documentation <br>\n",
    "\n",
    "https://scikit-learn.org/stable/modules/generated/sklearn.tree.DecisionTreeClassifier.html#sklearn.tree.DecisionTreeClassifier "
   ]
  },
  {
   "cell_type": "code",
   "execution_count": 24,
   "id": "bcf52bf6",
   "metadata": {},
   "outputs": [],
   "source": [
    "parameters = {\"criterion\":(\"gini\",\"entropy\"),\"max_depth\":(100,3,10,5),\"min_samples_split\":(12,5,30)}\n",
    "clfDT = DecisionTreeClassifier()\n",
    "\n",
    "classifier = GridSearchCV(estimator=clfDT, param_grid=parameters,n_jobs=-1, scoring = \"recall\")\n",
    "\n",
    "if (os.path.exists('models/DT1GridCV_model.pickle')):\n",
    "    pickle_in = open('models/DT1GridCV_model.pickle','rb')\n",
    "    DTclfGrid = pickle.load(pickle_in)\n",
    "    print(\"pickle file used\")\n",
    "else:\n",
    "    classifier = classifier.fit(titanic_train, labels_train)\n",
    "    with open('models/DT1GridCV_model.pickle','wb') as f:\n",
    "        pickle.dump(classifier, f)\n",
    "\n",
    "    pickle_in = open('models/DT1GridCV_model.pickle','rb')\n",
    "    DTclfGrid = pickle.load(pickle_in)\n",
    "pickle_in.close()"
   ]
  },
  {
   "cell_type": "code",
   "execution_count": 25,
   "id": "e198af91",
   "metadata": {},
   "outputs": [
    {
     "name": "stdout",
     "output_type": "stream",
     "text": [
      "Mean Scoring: 0.0380672268907563 between 0 and 1\n"
     ]
    }
   ],
   "source": [
    "scores = cross_val_score(DTclfGrid.best_estimator_,titanic,titanic_labels, cv=10, scoring = \"recall\")\n",
    "print(f\"Mean Scoring: {scores.mean()} between 0 and 1\")"
   ]
  },
  {
   "cell_type": "code",
   "execution_count": 26,
   "id": "338b507b",
   "metadata": {},
   "outputs": [
    {
     "name": "stdout",
     "output_type": "stream",
     "text": [
      "Best estimator: DecisionTreeClassifier(criterion='entropy', max_depth=3, min_samples_split=30)\n",
      "Accuracy: 0.7988826815642458\n",
      "Precision (Weighted): 0.7987081005586593\n",
      "Recall (Weighted): 0.7988826815642458\n",
      "F1 Score (Weighted): 0.7961666703468987\n",
      "              precision    recall  f1-score   support\n",
      "\n",
      "           0       0.80      0.88      0.84       105\n",
      "           1       0.80      0.69      0.74        74\n",
      "\n",
      "    accuracy                           0.80       179\n",
      "   macro avg       0.80      0.78      0.79       179\n",
      "weighted avg       0.80      0.80      0.80       179\n",
      "\n"
     ]
    },
    {
     "data": {
      "text/plain": [
       "<sklearn.metrics._plot.confusion_matrix.ConfusionMatrixDisplay at 0x123a7fac0>"
      ]
     },
     "execution_count": 26,
     "metadata": {},
     "output_type": "execute_result"
    },
    {
     "data": {
      "image/png": "[encoded data removed]",
      "text/plain": [
       "<Figure size 1000x1000 with 2 Axes>"
      ]
     },
     "metadata": {},
     "output_type": "display_data"
    }
   ],
   "source": [
    "labels_titanic_predict = DTclfGrid.best_estimator_.predict(titanic_test)\n",
    "\n",
    "print(f\"Best estimator: {DTclfGrid.best_estimator_}\")\n",
    "metrics(labels_test, labels_titanic_predict)\n",
    "cmp = ConfusionMatrixDisplay(confusion_matrix(y_true=labels_test, y_pred= labels_titanic_predict))\n",
    "fig, ax = plt.subplots(figsize=(10,10))\n",
    "cmp.plot(ax=ax,cmap='magma')"
   ]
  },
  {
   "cell_type": "code",
   "execution_count": 27,
   "id": "9b8ff239",
   "metadata": {},
   "outputs": [
    {
     "data": {
      "text/plain": [
       "[Text(0.5, 0.875, 'Sex <= 0.5\\nentropy = 0.955\\nsamples = 712\\nvalue = [444, 268]'),\n",
       " Text(0.25, 0.625, 'Pclass <= 2.5\\nentropy = 0.829\\nsamples = 245\\nvalue = [64, 181]'),\n",
       " Text(0.125, 0.375, 'PassengerId <= 301.0\\nentropy = 0.235\\nsamples = 130\\nvalue = [5, 125]'),\n",
       " Text(0.0625, 0.125, 'entropy = 0.513\\nsamples = 35\\nvalue = [4, 31]'),\n",
       " Text(0.1875, 0.125, 'entropy = 0.084\\nsamples = 95\\nvalue = [1, 94]'),\n",
       " Text(0.375, 0.375, 'Fare <= 23.35\\nentropy = 1.0\\nsamples = 115\\nvalue = [59, 56]'),\n",
       " Text(0.3125, 0.125, 'entropy = 0.979\\nsamples = 94\\nvalue = [39, 55]'),\n",
       " Text(0.4375, 0.125, 'entropy = 0.276\\nsamples = 21\\nvalue = [20, 1]'),\n",
       " Text(0.75, 0.625, 'Cabin <= 145.0\\nentropy = 0.694\\nsamples = 467\\nvalue = [380, 87]'),\n",
       " Text(0.625, 0.375, 'Age <= 17.5\\nentropy = 0.977\\nsamples = 85\\nvalue = [50, 35]'),\n",
       " Text(0.5625, 0.125, 'entropy = 0.0\\nsamples = 7\\nvalue = [0, 7]'),\n",
       " Text(0.6875, 0.125, 'entropy = 0.942\\nsamples = 78\\nvalue = [50, 28]'),\n",
       " Text(0.875, 0.375, 'Age <= 13.0\\nentropy = 0.574\\nsamples = 382\\nvalue = [330, 52]'),\n",
       " Text(0.8125, 0.125, 'entropy = 0.996\\nsamples = 26\\nvalue = [14, 12]'),\n",
       " Text(0.9375, 0.125, 'entropy = 0.507\\nsamples = 356\\nvalue = [316, 40]')]"
      ]
     },
     "execution_count": 27,
     "metadata": {},
     "output_type": "execute_result"
    },
    {
     "data": {
      "image/png": "[encoded data removed]",
      "text/plain": [
       "<Figure size 640x480 with 1 Axes>"
      ]
     },
     "metadata": {},
     "output_type": "display_data"
    }
   ],
   "source": [
    "plot_tree(DTclfGrid.best_estimator_, feature_names= titanic_train.columns)"
   ]
  }
 ],
 "metadata": {
  "kernelspec": {
   "display_name": "Python 3.10.10 64-bit (microsoft store)",
   "language": "python",
   "name": "python3"
  },
  "language_info": {
   "codemirror_mode": {
    "name": "ipython",
    "version": 3
   },
   "file_extension": ".py",
   "mimetype": "text/x-python",
   "name": "python",
   "nbconvert_exporter": "python",
   "pygments_lexer": "ipython3",
   "version": "3.10.1"
  },
  "vscode": {
   "interpreter": {
    "hash": "13809f5fbb2c71687ac0fbc02129e4c89f53832ed2f3a101566dd09001991f6b"
   }
  }
 },
 "nbformat": 4,
 "nbformat_minor": 5
}
